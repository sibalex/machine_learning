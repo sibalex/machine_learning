{
 "cells": [
  {
   "cell_type": "markdown",
   "metadata": {},
   "source": [
    "## Получаем данные"
   ]
  },
  {
   "cell_type": "code",
   "execution_count": 2,
   "metadata": {
    "ExecuteTime": {
     "end_time": "2020-02-07T16:39:29.489386Z",
     "start_time": "2020-02-07T16:39:29.459852Z"
    }
   },
   "outputs": [],
   "source": [
    "import pandas as pd\n",
    "import numpy as np\n",
    "from tqdm import tqdm_notebook"
   ]
  },
  {
   "cell_type": "code",
   "execution_count": 3,
   "metadata": {
    "ExecuteTime": {
     "end_time": "2020-02-07T16:39:31.100885Z",
     "start_time": "2020-02-07T16:39:30.976303Z"
    }
   },
   "outputs": [],
   "source": [
    "df_ratings = pd.read_csv('/Users/aleksandr/Desktop/ratings.csv')\n",
    "df_movies = pd.read_csv('/Users/aleksandr/Desktop/movies.csv')"
   ]
  },
  {
   "cell_type": "code",
   "execution_count": 10,
   "metadata": {
    "ExecuteTime": {
     "end_time": "2020-02-07T16:41:45.325899Z",
     "start_time": "2020-02-07T16:41:45.317480Z"
    },
    "scrolled": true
   },
   "outputs": [
    {
     "data": {
      "text/html": [
       "<div>\n",
       "<style scoped>\n",
       "    .dataframe tbody tr th:only-of-type {\n",
       "        vertical-align: middle;\n",
       "    }\n",
       "\n",
       "    .dataframe tbody tr th {\n",
       "        vertical-align: top;\n",
       "    }\n",
       "\n",
       "    .dataframe thead th {\n",
       "        text-align: right;\n",
       "    }\n",
       "</style>\n",
       "<table border=\"1\" class=\"dataframe\">\n",
       "  <thead>\n",
       "    <tr style=\"text-align: right;\">\n",
       "      <th></th>\n",
       "      <th>userId</th>\n",
       "      <th>movieId</th>\n",
       "      <th>rating</th>\n",
       "      <th>timestamp</th>\n",
       "    </tr>\n",
       "  </thead>\n",
       "  <tbody>\n",
       "    <tr>\n",
       "      <th>0</th>\n",
       "      <td>1</td>\n",
       "      <td>1</td>\n",
       "      <td>4.0</td>\n",
       "      <td>964982703</td>\n",
       "    </tr>\n",
       "    <tr>\n",
       "      <th>1</th>\n",
       "      <td>1</td>\n",
       "      <td>3</td>\n",
       "      <td>4.0</td>\n",
       "      <td>964981247</td>\n",
       "    </tr>\n",
       "    <tr>\n",
       "      <th>2</th>\n",
       "      <td>1</td>\n",
       "      <td>6</td>\n",
       "      <td>4.0</td>\n",
       "      <td>964982224</td>\n",
       "    </tr>\n",
       "    <tr>\n",
       "      <th>3</th>\n",
       "      <td>1</td>\n",
       "      <td>47</td>\n",
       "      <td>5.0</td>\n",
       "      <td>964983815</td>\n",
       "    </tr>\n",
       "    <tr>\n",
       "      <th>4</th>\n",
       "      <td>1</td>\n",
       "      <td>50</td>\n",
       "      <td>5.0</td>\n",
       "      <td>964982931</td>\n",
       "    </tr>\n",
       "  </tbody>\n",
       "</table>\n",
       "</div>"
      ],
      "text/plain": [
       "   userId  movieId  rating  timestamp\n",
       "0       1        1     4.0  964982703\n",
       "1       1        3     4.0  964981247\n",
       "2       1        6     4.0  964982224\n",
       "3       1       47     5.0  964983815\n",
       "4       1       50     5.0  964982931"
      ]
     },
     "execution_count": 10,
     "metadata": {},
     "output_type": "execute_result"
    }
   ],
   "source": [
    "df_ratings.head()"
   ]
  },
  {
   "cell_type": "code",
   "execution_count": 11,
   "metadata": {
    "ExecuteTime": {
     "end_time": "2020-02-07T16:41:49.488725Z",
     "start_time": "2020-02-07T16:41:49.480333Z"
    }
   },
   "outputs": [
    {
     "data": {
      "text/html": [
       "<div>\n",
       "<style scoped>\n",
       "    .dataframe tbody tr th:only-of-type {\n",
       "        vertical-align: middle;\n",
       "    }\n",
       "\n",
       "    .dataframe tbody tr th {\n",
       "        vertical-align: top;\n",
       "    }\n",
       "\n",
       "    .dataframe thead th {\n",
       "        text-align: right;\n",
       "    }\n",
       "</style>\n",
       "<table border=\"1\" class=\"dataframe\">\n",
       "  <thead>\n",
       "    <tr style=\"text-align: right;\">\n",
       "      <th></th>\n",
       "      <th>movieId</th>\n",
       "      <th>title</th>\n",
       "      <th>genres</th>\n",
       "    </tr>\n",
       "  </thead>\n",
       "  <tbody>\n",
       "    <tr>\n",
       "      <th>0</th>\n",
       "      <td>1</td>\n",
       "      <td>Toy Story (1995)</td>\n",
       "      <td>Adventure|Animation|Children|Comedy|Fantasy</td>\n",
       "    </tr>\n",
       "    <tr>\n",
       "      <th>1</th>\n",
       "      <td>2</td>\n",
       "      <td>Jumanji (1995)</td>\n",
       "      <td>Adventure|Children|Fantasy</td>\n",
       "    </tr>\n",
       "    <tr>\n",
       "      <th>2</th>\n",
       "      <td>3</td>\n",
       "      <td>Grumpier Old Men (1995)</td>\n",
       "      <td>Comedy|Romance</td>\n",
       "    </tr>\n",
       "    <tr>\n",
       "      <th>3</th>\n",
       "      <td>4</td>\n",
       "      <td>Waiting to Exhale (1995)</td>\n",
       "      <td>Comedy|Drama|Romance</td>\n",
       "    </tr>\n",
       "    <tr>\n",
       "      <th>4</th>\n",
       "      <td>5</td>\n",
       "      <td>Father of the Bride Part II (1995)</td>\n",
       "      <td>Comedy</td>\n",
       "    </tr>\n",
       "  </tbody>\n",
       "</table>\n",
       "</div>"
      ],
      "text/plain": [
       "   movieId                               title  \\\n",
       "0        1                    Toy Story (1995)   \n",
       "1        2                      Jumanji (1995)   \n",
       "2        3             Grumpier Old Men (1995)   \n",
       "3        4            Waiting to Exhale (1995)   \n",
       "4        5  Father of the Bride Part II (1995)   \n",
       "\n",
       "                                        genres  \n",
       "0  Adventure|Animation|Children|Comedy|Fantasy  \n",
       "1                   Adventure|Children|Fantasy  \n",
       "2                               Comedy|Romance  \n",
       "3                         Comedy|Drama|Romance  \n",
       "4                                       Comedy  "
      ]
     },
     "execution_count": 11,
     "metadata": {},
     "output_type": "execute_result"
    }
   ],
   "source": [
    "df_movies.head()"
   ]
  },
  {
   "cell_type": "code",
   "execution_count": 12,
   "metadata": {
    "ExecuteTime": {
     "end_time": "2020-02-07T16:41:55.540888Z",
     "start_time": "2020-02-07T16:41:55.521075Z"
    }
   },
   "outputs": [],
   "source": [
    "df = pd.merge(df_ratings, df_movies, on='movieId')"
   ]
  },
  {
   "cell_type": "code",
   "execution_count": 13,
   "metadata": {
    "ExecuteTime": {
     "end_time": "2020-02-07T16:41:58.811882Z",
     "start_time": "2020-02-07T16:41:58.801197Z"
    }
   },
   "outputs": [
    {
     "data": {
      "text/html": [
       "<div>\n",
       "<style scoped>\n",
       "    .dataframe tbody tr th:only-of-type {\n",
       "        vertical-align: middle;\n",
       "    }\n",
       "\n",
       "    .dataframe tbody tr th {\n",
       "        vertical-align: top;\n",
       "    }\n",
       "\n",
       "    .dataframe thead th {\n",
       "        text-align: right;\n",
       "    }\n",
       "</style>\n",
       "<table border=\"1\" class=\"dataframe\">\n",
       "  <thead>\n",
       "    <tr style=\"text-align: right;\">\n",
       "      <th></th>\n",
       "      <th>userId</th>\n",
       "      <th>movieId</th>\n",
       "      <th>rating</th>\n",
       "      <th>timestamp</th>\n",
       "      <th>title</th>\n",
       "      <th>genres</th>\n",
       "    </tr>\n",
       "  </thead>\n",
       "  <tbody>\n",
       "    <tr>\n",
       "      <th>0</th>\n",
       "      <td>1</td>\n",
       "      <td>1</td>\n",
       "      <td>4.0</td>\n",
       "      <td>964982703</td>\n",
       "      <td>Toy Story (1995)</td>\n",
       "      <td>Adventure|Animation|Children|Comedy|Fantasy</td>\n",
       "    </tr>\n",
       "    <tr>\n",
       "      <th>1</th>\n",
       "      <td>5</td>\n",
       "      <td>1</td>\n",
       "      <td>4.0</td>\n",
       "      <td>847434962</td>\n",
       "      <td>Toy Story (1995)</td>\n",
       "      <td>Adventure|Animation|Children|Comedy|Fantasy</td>\n",
       "    </tr>\n",
       "    <tr>\n",
       "      <th>2</th>\n",
       "      <td>7</td>\n",
       "      <td>1</td>\n",
       "      <td>4.5</td>\n",
       "      <td>1106635946</td>\n",
       "      <td>Toy Story (1995)</td>\n",
       "      <td>Adventure|Animation|Children|Comedy|Fantasy</td>\n",
       "    </tr>\n",
       "    <tr>\n",
       "      <th>3</th>\n",
       "      <td>15</td>\n",
       "      <td>1</td>\n",
       "      <td>2.5</td>\n",
       "      <td>1510577970</td>\n",
       "      <td>Toy Story (1995)</td>\n",
       "      <td>Adventure|Animation|Children|Comedy|Fantasy</td>\n",
       "    </tr>\n",
       "    <tr>\n",
       "      <th>4</th>\n",
       "      <td>17</td>\n",
       "      <td>1</td>\n",
       "      <td>4.5</td>\n",
       "      <td>1305696483</td>\n",
       "      <td>Toy Story (1995)</td>\n",
       "      <td>Adventure|Animation|Children|Comedy|Fantasy</td>\n",
       "    </tr>\n",
       "  </tbody>\n",
       "</table>\n",
       "</div>"
      ],
      "text/plain": [
       "   userId  movieId  rating   timestamp             title  \\\n",
       "0       1        1     4.0   964982703  Toy Story (1995)   \n",
       "1       5        1     4.0   847434962  Toy Story (1995)   \n",
       "2       7        1     4.5  1106635946  Toy Story (1995)   \n",
       "3      15        1     2.5  1510577970  Toy Story (1995)   \n",
       "4      17        1     4.5  1305696483  Toy Story (1995)   \n",
       "\n",
       "                                        genres  \n",
       "0  Adventure|Animation|Children|Comedy|Fantasy  \n",
       "1  Adventure|Animation|Children|Comedy|Fantasy  \n",
       "2  Adventure|Animation|Children|Comedy|Fantasy  \n",
       "3  Adventure|Animation|Children|Comedy|Fantasy  \n",
       "4  Adventure|Animation|Children|Comedy|Fantasy  "
      ]
     },
     "execution_count": 13,
     "metadata": {},
     "output_type": "execute_result"
    }
   ],
   "source": [
    "df.head()"
   ]
  },
  {
   "cell_type": "code",
   "execution_count": 14,
   "metadata": {
    "ExecuteTime": {
     "end_time": "2020-02-07T16:42:03.473207Z",
     "start_time": "2020-02-07T16:42:03.469259Z"
    }
   },
   "outputs": [],
   "source": [
    "del df['timestamp']\n",
    "del df['genres']"
   ]
  },
  {
   "cell_type": "code",
   "execution_count": 15,
   "metadata": {
    "ExecuteTime": {
     "end_time": "2020-02-07T16:42:05.788120Z",
     "start_time": "2020-02-07T16:42:05.779196Z"
    }
   },
   "outputs": [
    {
     "data": {
      "text/html": [
       "<div>\n",
       "<style scoped>\n",
       "    .dataframe tbody tr th:only-of-type {\n",
       "        vertical-align: middle;\n",
       "    }\n",
       "\n",
       "    .dataframe tbody tr th {\n",
       "        vertical-align: top;\n",
       "    }\n",
       "\n",
       "    .dataframe thead th {\n",
       "        text-align: right;\n",
       "    }\n",
       "</style>\n",
       "<table border=\"1\" class=\"dataframe\">\n",
       "  <thead>\n",
       "    <tr style=\"text-align: right;\">\n",
       "      <th></th>\n",
       "      <th>userId</th>\n",
       "      <th>movieId</th>\n",
       "      <th>rating</th>\n",
       "      <th>title</th>\n",
       "    </tr>\n",
       "  </thead>\n",
       "  <tbody>\n",
       "    <tr>\n",
       "      <th>0</th>\n",
       "      <td>1</td>\n",
       "      <td>1</td>\n",
       "      <td>4.0</td>\n",
       "      <td>Toy Story (1995)</td>\n",
       "    </tr>\n",
       "    <tr>\n",
       "      <th>1</th>\n",
       "      <td>5</td>\n",
       "      <td>1</td>\n",
       "      <td>4.0</td>\n",
       "      <td>Toy Story (1995)</td>\n",
       "    </tr>\n",
       "    <tr>\n",
       "      <th>2</th>\n",
       "      <td>7</td>\n",
       "      <td>1</td>\n",
       "      <td>4.5</td>\n",
       "      <td>Toy Story (1995)</td>\n",
       "    </tr>\n",
       "    <tr>\n",
       "      <th>3</th>\n",
       "      <td>15</td>\n",
       "      <td>1</td>\n",
       "      <td>2.5</td>\n",
       "      <td>Toy Story (1995)</td>\n",
       "    </tr>\n",
       "    <tr>\n",
       "      <th>4</th>\n",
       "      <td>17</td>\n",
       "      <td>1</td>\n",
       "      <td>4.5</td>\n",
       "      <td>Toy Story (1995)</td>\n",
       "    </tr>\n",
       "  </tbody>\n",
       "</table>\n",
       "</div>"
      ],
      "text/plain": [
       "   userId  movieId  rating             title\n",
       "0       1        1     4.0  Toy Story (1995)\n",
       "1       5        1     4.0  Toy Story (1995)\n",
       "2       7        1     4.5  Toy Story (1995)\n",
       "3      15        1     2.5  Toy Story (1995)\n",
       "4      17        1     4.5  Toy Story (1995)"
      ]
     },
     "execution_count": 15,
     "metadata": {},
     "output_type": "execute_result"
    }
   ],
   "source": [
    "df.head()"
   ]
  },
  {
   "cell_type": "code",
   "execution_count": 23,
   "metadata": {
    "ExecuteTime": {
     "end_time": "2020-02-07T16:46:27.721858Z",
     "start_time": "2020-02-07T16:46:27.713972Z"
    }
   },
   "outputs": [
    {
     "data": {
      "text/plain": [
       "4.0    26818\n",
       "3.0    20047\n",
       "5.0    13211\n",
       "3.5    13136\n",
       "4.5     8551\n",
       "2.0     7551\n",
       "2.5     5550\n",
       "1.0     2811\n",
       "1.5     1791\n",
       "0.5     1370\n",
       "Name: rating, dtype: int64"
      ]
     },
     "execution_count": 23,
     "metadata": {},
     "output_type": "execute_result"
    }
   ],
   "source": [
    "df['rating'].value_counts()"
   ]
  },
  {
   "cell_type": "markdown",
   "metadata": {},
   "source": [
    "## Формируем векторное описание для фильма"
   ]
  },
  {
   "cell_type": "code",
   "execution_count": 16,
   "metadata": {
    "ExecuteTime": {
     "end_time": "2020-02-07T16:42:12.139861Z",
     "start_time": "2020-02-07T16:42:12.122779Z"
    }
   },
   "outputs": [
    {
     "data": {
      "text/plain": [
       "count    100836.000000\n",
       "mean        326.127564\n",
       "std         182.618491\n",
       "min           1.000000\n",
       "25%         177.000000\n",
       "50%         325.000000\n",
       "75%         477.000000\n",
       "max         610.000000\n",
       "Name: userId, dtype: float64"
      ]
     },
     "execution_count": 16,
     "metadata": {},
     "output_type": "execute_result"
    }
   ],
   "source": [
    "df['userId'].describe()"
   ]
  },
  {
   "cell_type": "code",
   "execution_count": 17,
   "metadata": {
    "ExecuteTime": {
     "end_time": "2020-02-07T16:42:27.923645Z",
     "start_time": "2020-02-07T16:42:27.920678Z"
    }
   },
   "outputs": [],
   "source": [
    "MAX_USER_ID = 610\n",
    "MIN_USER_ID = 1"
   ]
  },
  {
   "cell_type": "code",
   "execution_count": 18,
   "metadata": {
    "ExecuteTime": {
     "end_time": "2020-02-07T16:42:33.766120Z",
     "start_time": "2020-02-07T16:42:33.754626Z"
    }
   },
   "outputs": [],
   "source": [
    "movie_names = df['title'].unique()"
   ]
  },
  {
   "cell_type": "code",
   "execution_count": 19,
   "metadata": {
    "ExecuteTime": {
     "end_time": "2020-02-07T16:42:35.125102Z",
     "start_time": "2020-02-07T16:42:35.121744Z"
    }
   },
   "outputs": [],
   "source": [
    "movie_names = movie_names.tolist()"
   ]
  },
  {
   "cell_type": "code",
   "execution_count": 20,
   "metadata": {
    "ExecuteTime": {
     "end_time": "2020-02-07T16:42:43.009309Z",
     "start_time": "2020-02-07T16:42:42.995102Z"
    }
   },
   "outputs": [
    {
     "data": {
      "text/plain": [
       "['Toy Story (1995)',\n",
       " 'Grumpier Old Men (1995)',\n",
       " 'Heat (1995)',\n",
       " 'Seven (a.k.a. Se7en) (1995)',\n",
       " 'Usual Suspects, The (1995)',\n",
       " 'From Dusk Till Dawn (1996)',\n",
       " 'Bottle Rocket (1996)',\n",
       " 'Braveheart (1995)',\n",
       " 'Rob Roy (1995)',\n",
       " 'Canadian Bacon (1995)',\n",
       " 'Desperado (1995)',\n",
       " 'Billy Madison (1995)',\n",
       " 'Clerks (1994)',\n",
       " 'Dumb & Dumber (Dumb and Dumber) (1994)',\n",
       " 'Ed Wood (1994)',\n",
       " 'Star Wars: Episode IV - A New Hope (1977)',\n",
       " 'Pulp Fiction (1994)',\n",
       " 'Stargate (1994)',\n",
       " 'Tommy Boy (1995)',\n",
       " 'Clear and Present Danger (1994)',\n",
       " 'Forrest Gump (1994)',\n",
       " 'Jungle Book, The (1994)',\n",
       " 'Mask, The (1994)',\n",
       " 'Blown Away (1994)',\n",
       " 'Dazed and Confused (1993)',\n",
       " 'Fugitive, The (1993)',\n",
       " 'Jurassic Park (1993)',\n",
       " 'Mrs. Doubtfire (1993)',\n",
       " \"Schindler's List (1993)\",\n",
       " 'So I Married an Axe Murderer (1993)',\n",
       " 'Three Musketeers, The (1993)',\n",
       " 'Tombstone (1993)',\n",
       " 'Dances with Wolves (1990)',\n",
       " 'Batman (1989)',\n",
       " 'Silence of the Lambs, The (1991)',\n",
       " 'Pinocchio (1940)',\n",
       " 'Fargo (1996)',\n",
       " 'Mission: Impossible (1996)',\n",
       " 'James and the Giant Peach (1996)',\n",
       " 'Space Jam (1996)',\n",
       " 'Rock, The (1996)',\n",
       " 'Twister (1996)',\n",
       " 'Independence Day (a.k.a. ID4) (1996)',\n",
       " \"She's the One (1996)\",\n",
       " 'Wizard of Oz, The (1939)',\n",
       " 'Citizen Kane (1941)',\n",
       " 'Adventures of Robin Hood, The (1938)',\n",
       " 'Ghost and Mrs. Muir, The (1947)',\n",
       " 'Mr. Smith Goes to Washington (1939)',\n",
       " 'Escape to Witch Mountain (1975)',\n",
       " 'Winnie the Pooh and the Blustery Day (1968)',\n",
       " 'Three Caballeros, The (1945)',\n",
       " 'Sword in the Stone, The (1963)',\n",
       " 'Dumbo (1941)',\n",
       " \"Pete's Dragon (1977)\",\n",
       " 'Bedknobs and Broomsticks (1971)',\n",
       " 'Alice in Wonderland (1951)',\n",
       " 'That Thing You Do! (1996)',\n",
       " 'Ghost and the Darkness, The (1996)',\n",
       " 'Swingers (1996)',\n",
       " 'Willy Wonka & the Chocolate Factory (1971)',\n",
       " \"Monty Python's Life of Brian (1979)\",\n",
       " 'Reservoir Dogs (1992)',\n",
       " 'Platoon (1986)',\n",
       " 'Basic Instinct (1992)',\n",
       " 'E.T. the Extra-Terrestrial (1982)',\n",
       " 'Abyss, The (1989)',\n",
       " 'Monty Python and the Holy Grail (1975)',\n",
       " 'Star Wars: Episode V - The Empire Strikes Back (1980)',\n",
       " 'Princess Bride, The (1987)',\n",
       " 'Raiders of the Lost Ark (Indiana Jones and the Raiders of the Lost Ark) (1981)',\n",
       " 'Clockwork Orange, A (1971)',\n",
       " 'Apocalypse Now (1979)',\n",
       " 'Star Wars: Episode VI - Return of the Jedi (1983)',\n",
       " 'Goodfellas (1990)',\n",
       " 'Alien (1979)',\n",
       " 'Psycho (1960)',\n",
       " 'Blues Brothers, The (1980)',\n",
       " 'Full Metal Jacket (1987)',\n",
       " 'Henry V (1989)',\n",
       " 'Quiet Man, The (1952)',\n",
       " 'Terminator, The (1984)',\n",
       " 'Duck Soup (1933)',\n",
       " 'Shining, The (1980)',\n",
       " 'Groundhog Day (1993)',\n",
       " 'Back to the Future (1985)',\n",
       " 'Highlander (1986)',\n",
       " 'Young Frankenstein (1974)',\n",
       " 'Fantasia (1940)',\n",
       " 'Indiana Jones and the Last Crusade (1989)',\n",
       " 'Pink Floyd: The Wall (1982)',\n",
       " 'Nosferatu (Nosferatu, eine Symphonie des Grauens) (1922)',\n",
       " 'Batman Returns (1992)',\n",
       " 'Sneakers (1992)',\n",
       " 'Last of the Mohicans, The (1992)',\n",
       " \"McHale's Navy (1997)\",\n",
       " 'Best Men (1997)',\n",
       " 'Grosse Pointe Blank (1997)',\n",
       " 'Austin Powers: International Man of Mystery (1997)',\n",
       " 'Con Air (1997)',\n",
       " 'Face/Off (1997)',\n",
       " 'Men in Black (a.k.a. MIB) (1997)',\n",
       " 'Conan the Barbarian (1982)',\n",
       " 'L.A. Confidential (1997)',\n",
       " 'Kiss the Girls (1997)',\n",
       " 'Game, The (1997)',\n",
       " 'I Know What You Did Last Summer (1997)',\n",
       " 'Starship Troopers (1997)',\n",
       " 'Big Lebowski, The (1998)',\n",
       " 'Wedding Singer, The (1998)',\n",
       " 'Welcome to Woop-Woop (1997)',\n",
       " 'Newton Boys, The (1998)',\n",
       " 'Wild Things (1998)',\n",
       " 'Small Soldiers (1998)',\n",
       " 'All Quiet on the Western Front (1930)',\n",
       " 'Rocky (1976)',\n",
       " 'Labyrinth (1986)',\n",
       " 'Lethal Weapon (1987)',\n",
       " 'Goonies, The (1985)',\n",
       " 'Back to the Future Part III (1990)',\n",
       " 'Bambi (1942)',\n",
       " 'Saving Private Ryan (1998)',\n",
       " 'Black Cauldron, The (1985)',\n",
       " 'Flight of the Navigator (1986)',\n",
       " 'Great Mouse Detective, The (1986)',\n",
       " 'Honey, I Shrunk the Kids (1989)',\n",
       " 'Negotiator, The (1998)',\n",
       " 'Jungle Book, The (1967)',\n",
       " 'Rescuers, The (1977)',\n",
       " 'Return to Oz (1985)',\n",
       " 'Rocketeer, The (1991)',\n",
       " 'Sleeping Beauty (1959)',\n",
       " 'Song of the South (1946)',\n",
       " 'Tron (1982)',\n",
       " 'Indiana Jones and the Temple of Doom (1984)',\n",
       " 'Lord of the Rings, The (1978)',\n",
       " \"Charlotte's Web (1973)\",\n",
       " 'Secret of NIMH, The (1982)',\n",
       " 'American Tail, An (1986)',\n",
       " 'Legend (1985)',\n",
       " 'NeverEnding Story, The (1984)',\n",
       " 'Beetlejuice (1988)',\n",
       " 'Willow (1988)',\n",
       " 'Toys (1992)',\n",
       " 'Few Good Men, A (1992)',\n",
       " 'Rush Hour (1998)',\n",
       " 'Edward Scissorhands (1990)',\n",
       " 'American History X (1998)',\n",
       " 'I Still Know What You Did Last Summer (1998)',\n",
       " 'Enemy of the State (1998)',\n",
       " 'King Kong (1933)',\n",
       " 'Very Bad Things (1998)',\n",
       " 'Psycho (1998)',\n",
       " 'Rushmore (1998)',\n",
       " 'Romancing the Stone (1984)',\n",
       " 'Young Sherlock Holmes (1985)',\n",
       " 'Thin Red Line, The (1998)',\n",
       " 'Howard the Duck (1986)',\n",
       " 'Texas Chainsaw Massacre, The (1974)',\n",
       " 'Crocodile Dundee (1986)',\n",
       " '¡Three Amigos! (1986)',\n",
       " '20 Dates (1998)',\n",
       " 'Office Space (1999)',\n",
       " \"Logan's Run (1976)\",\n",
       " 'Planet of the Apes (1968)',\n",
       " 'Lock, Stock & Two Smoking Barrels (1998)',\n",
       " 'Matrix, The (1999)',\n",
       " 'Go (1999)',\n",
       " 'SLC Punk! (1998)',\n",
       " 'Dick Tracy (1990)',\n",
       " 'Mummy, The (1999)',\n",
       " 'Star Wars: Episode I - The Phantom Menace (1999)',\n",
       " 'Superman (1978)',\n",
       " 'Superman II (1980)',\n",
       " 'Dracula (1931)',\n",
       " 'Frankenstein (1931)',\n",
       " 'Wolf Man, The (1941)',\n",
       " 'Rocky Horror Picture Show, The (1975)',\n",
       " 'Run Lola Run (Lola rennt) (1998)',\n",
       " 'South Park: Bigger, Longer and Uncut (1999)',\n",
       " 'Ghostbusters (a.k.a. Ghost Busters) (1984)',\n",
       " 'Iron Giant, The (1999)',\n",
       " 'Big (1988)',\n",
       " '13th Warrior, The (1999)',\n",
       " 'American Beauty (1999)',\n",
       " 'Excalibur (1981)',\n",
       " \"Gulliver's Travels (1939)\",\n",
       " 'Total Recall (1990)',\n",
       " 'Dirty Dozen, The (1967)',\n",
       " 'Goldfinger (1964)',\n",
       " 'From Russia with Love (1963)',\n",
       " 'Dr. No (1962)',\n",
       " 'Fight Club (1999)',\n",
       " 'RoboCop (1987)',\n",
       " 'Who Framed Roger Rabbit? (1988)',\n",
       " 'Live and Let Die (1973)',\n",
       " 'Thunderball (1965)',\n",
       " 'Being John Malkovich (1999)',\n",
       " 'Spaceballs (1987)',\n",
       " 'Robin Hood (1973)',\n",
       " 'Dogma (1999)',\n",
       " 'Messenger: The Story of Joan of Arc, The (1999)',\n",
       " 'Longest Day, The (1962)',\n",
       " 'Green Mile, The (1999)',\n",
       " 'Easy Rider (1969)',\n",
       " 'Talented Mr. Ripley, The (1999)',\n",
       " 'Encino Man (1992)',\n",
       " 'Sister Act (1992)',\n",
       " \"Wayne's World (1992)\",\n",
       " 'Scream 3 (2000)',\n",
       " 'JFK (1991)',\n",
       " 'Teenage Mutant Ninja Turtles II: The Secret of the Ooze (1991)',\n",
       " 'Teenage Mutant Ninja Turtles III (1993)',\n",
       " 'Red Dawn (1984)',\n",
       " 'Good Morning, Vietnam (1987)',\n",
       " 'Grumpy Old Men (1993)',\n",
       " 'Ladyhawke (1985)',\n",
       " 'Hook (1991)',\n",
       " 'Predator (1987)',\n",
       " 'Gladiator (2000)',\n",
       " 'Road Trip (2000)',\n",
       " 'Man with the Golden Gun, The (1974)',\n",
       " 'Blazing Saddles (1974)',\n",
       " 'Mad Max (1979)',\n",
       " 'Road Warrior, The (Mad Max 2) (1981)',\n",
       " 'Shaft (1971)',\n",
       " 'Big Trouble in Little China (1986)',\n",
       " 'Shaft (2000)',\n",
       " 'X-Men (2000)',\n",
       " 'What About Bob? (1991)',\n",
       " 'Transformers: The Movie (1986)',\n",
       " 'M*A*S*H (a.k.a. MASH) (1970)',\n",
       " 'Shawshank Redemption, The (1994)',\n",
       " 'Good Will Hunting (1997)',\n",
       " 'Kill Bill: Vol. 1 (2003)',\n",
       " 'Collateral (2004)',\n",
       " 'Talladega Nights: The Ballad of Ricky Bobby (2006)',\n",
       " 'Departed, The (2006)',\n",
       " 'Dark Knight, The (2008)',\n",
       " 'Step Brothers (2008)',\n",
       " 'Inglourious Basterds (2009)',\n",
       " 'Zombieland (2009)',\n",
       " 'Shutter Island (2010)',\n",
       " 'Exit Through the Gift Shop (2010)',\n",
       " 'Inception (2010)',\n",
       " 'Town, The (2010)',\n",
       " 'Inside Job (2010)',\n",
       " 'Louis C.K.: Hilarious (2010)',\n",
       " 'Warrior (2011)',\n",
       " 'Dark Knight Rises, The (2012)',\n",
       " 'Girl with the Dragon Tattoo, The (2011)',\n",
       " 'Django Unchained (2012)',\n",
       " 'Wolf of Wall Street, The (2013)',\n",
       " 'Interstellar (2014)',\n",
       " 'Whiplash (2014)',\n",
       " 'The Drop (2014)',\n",
       " 'Ex Machina (2015)',\n",
       " 'Mad Max: Fury Road (2015)',\n",
       " 'The Jinx: The Life and Deaths of Robert Durst (2015)',\n",
       " 'Dangerous Minds (1995)',\n",
       " 'Courage Under Fire (1996)',\n",
       " 'Operation Dumbo Drop (1995)',\n",
       " 'Wallace & Gromit: The Best of Aardman Animation (1996)',\n",
       " 'Escape from L.A. (1996)',\n",
       " 'My Fair Lady (1964)',\n",
       " 'Doors, The (1991)',\n",
       " 'On Golden Pond (1981)',\n",
       " 'Deer Hunter, The (1978)',\n",
       " 'Patton (1970)',\n",
       " 'Field of Dreams (1989)',\n",
       " 'Star Trek: The Motion Picture (1979)',\n",
       " 'Lady and the Tramp (1955)',\n",
       " 'Thing, The (1982)',\n",
       " \"You've Got Mail (1998)\",\n",
       " 'Saturn 3 (1980)',\n",
       " 'Piranha (1978)',\n",
       " 'Fast Times at Ridgemont High (1982)',\n",
       " 'Requiem for a Dream (2000)',\n",
       " 'The Lair of the White Worm (1988)',\n",
       " 'Snow Dogs (2002)',\n",
       " 'Hangar 18 (1980)',\n",
       " 'Galaxy of Terror (Quest) (1981)',\n",
       " 'Looker (1981)',\n",
       " 'Android (1982)',\n",
       " 'Green Card (1990)',\n",
       " 'Alien Contamination (1980)',\n",
       " 'Master of the Flying Guillotine (Du bi quan wang da po xue di zi) (1975)',\n",
       " 'Death Race 2000 (1975)',\n",
       " 'Clonus Horror, The (1979)',\n",
       " 'Troll 2 (1990)',\n",
       " '2012 (2009)',\n",
       " 'Get Shorty (1995)',\n",
       " 'Twelve Monkeys (a.k.a. 12 Monkeys) (1995)',\n",
       " 'To Die For (1995)',\n",
       " 'Mighty Aphrodite (1995)',\n",
       " 'Postman, The (Postino, Il) (1994)',\n",
       " 'Nobody Loves Me (Keiner liebt mich) (1994)',\n",
       " 'Flirting With Disaster (1996)',\n",
       " 'NeverEnding Story III, The (1994)',\n",
       " 'Crumb (1994)',\n",
       " 'Jeffrey (1995)',\n",
       " 'Living in Oblivion (1995)',\n",
       " 'Safe (1995)',\n",
       " 'Before Sunrise (1995)',\n",
       " 'Circle of Friends (1995)',\n",
       " 'Eat Drink Man Woman (Yin shi nan nu) (1994)',\n",
       " 'Heavenly Creatures (1994)',\n",
       " 'Like Water for Chocolate (Como agua para chocolate) (1992)',\n",
       " 'Shallow Grave (1994)',\n",
       " \"Muriel's Wedding (1994)\",\n",
       " 'Adventures of Priscilla, Queen of the Desert, The (1994)',\n",
       " 'Bullets Over Broadway (1994)',\n",
       " 'Corrina, Corrina (1994)',\n",
       " 'Four Weddings and a Funeral (1994)',\n",
       " 'Maverick (1994)',\n",
       " 'Barcelona (1994)',\n",
       " 'With Honors (1994)',\n",
       " 'In the Name of the Father (1993)',\n",
       " 'Manhattan Murder Mystery (1993)',\n",
       " 'Piano, The (1993)',\n",
       " 'Six Degrees of Separation (1993)',\n",
       " 'Sleepless in Seattle (1993)',\n",
       " 'Aladdin (1992)',\n",
       " 'Beauty and the Beast (1991)',\n",
       " 'Wild Bunch, The (1969)',\n",
       " 'Truth About Cats & Dogs, The (1996)',\n",
       " 'Maya Lin: A Strong Clear Vision (1994)',\n",
       " 'Lone Star (1996)',\n",
       " 'Twelfth Night (1996)',\n",
       " 'Philadelphia Story, The (1940)',\n",
       " \"Singin' in the Rain (1952)\",\n",
       " \"Breakfast at Tiffany's (1961)\",\n",
       " 'Rear Window (1954)',\n",
       " 'North by Northwest (1959)',\n",
       " 'Some Like It Hot (1959)',\n",
       " 'Casablanca (1942)',\n",
       " 'Gone with the Wind (1939)',\n",
       " 'Notorious (1946)',\n",
       " 'Love in the Afternoon (1957)',\n",
       " 'Beautiful Thing (1996)',\n",
       " 'Everyone Says I Love You (1996)',\n",
       " 'Sleeper (1973)',\n",
       " 'Fish Called Wanda, A (1988)',\n",
       " 'Bonnie and Clyde (1967)',\n",
       " 'Dial M for Murder (1954)',\n",
       " 'Crying Game, The (1992)',\n",
       " 'Rebel Without a Cause (1955)',\n",
       " 'Grifters, The (1990)',\n",
       " 'English Patient, The (1996)',\n",
       " 'Strictly Ballroom (1992)',\n",
       " 'Brazil (1985)',\n",
       " '12 Angry Men (1957)',\n",
       " 'Wings of Desire (Himmel über Berlin, Der) (1987)',\n",
       " 'Amadeus (1984)',\n",
       " 'Bridge on the River Kwai, The (1957)',\n",
       " 'Stand by Me (1986)',\n",
       " 'Unforgiven (1992)',\n",
       " 'Night on Earth (1991)',\n",
       " 'High Noon (1952)',\n",
       " 'This Is Spinal Tap (1984)',\n",
       " 'Butch Cassidy and the Sundance Kid (1969)',\n",
       " 'Mars Attacks! (1996)',\n",
       " 'Waiting for Guffman (1996)',\n",
       " 'Donnie Brasco (1997)',\n",
       " 'Conspiracy Theory (1997)',\n",
       " 'Full Monty, The (1997)',\n",
       " 'Sweet Hereafter, The (1997)',\n",
       " 'Afterglow (1997)',\n",
       " 'My Life in Pink (Ma vie en rose) (1997)',\n",
       " 'Spanish Prisoner, The (1997)',\n",
       " 'Character (Karakter) (1997)',\n",
       " 'Bulworth (1998)',\n",
       " 'Opposite of Sex, The (1998)',\n",
       " 'Perfect Murder, A (1998)',\n",
       " \"Can't Hardly Wait (1998)\",\n",
       " 'Mulan (1998)',\n",
       " 'Smoke Signals (1998)',\n",
       " \"Buffalo '66 (a.k.a. Buffalo 66) (1998)\",\n",
       " \"There's Something About Mary (1998)\",\n",
       " 'West Side Story (1961)',\n",
       " 'Metropolitan (1990)',\n",
       " 'Breakfast Club, The (1985)',\n",
       " 'Seven Samurai (Shichinin no samurai) (1954)',\n",
       " 'Blue Velvet (1986)',\n",
       " 'Jerk, The (1979)',\n",
       " 'Pretty in Pink (1986)',\n",
       " 'Gods Must Be Crazy, The (1980)',\n",
       " 'Strangers on a Train (1951)',\n",
       " 'Shadow of a Doubt (1943)',\n",
       " 'Saboteur (1942)',\n",
       " 'Pecker (1998)',\n",
       " 'Life Is Beautiful (La Vita è bella) (1997)',\n",
       " 'Elizabeth (1998)',\n",
       " 'Nights of Cabiria (Notti di Cabiria, Le) (1957)',\n",
       " 'Waking Ned Devine (a.k.a. Waking Ned) (1998)',\n",
       " 'Little Voice (1998)',\n",
       " 'Name of the Rose, The (Name der Rose, Der) (1986)',\n",
       " \"Cookie's Fortune (1999)\",\n",
       " 'Election (1999)',\n",
       " 'Austin Powers: The Spy Who Shagged Me (1999)',\n",
       " 'Eyes Wide Shut (1999)',\n",
       " 'Sixth Sense, The (1999)',\n",
       " 'Thomas Crown Affair, The (1999)',\n",
       " 'Bowfinger (1999)',\n",
       " 'Airplane! (1980)',\n",
       " 'Black Cat, White Cat (Crna macka, beli macor) (1998)',\n",
       " 'Pajama Game, The (1957)',\n",
       " 'High Plains Drifter (1973)',\n",
       " 'Hairspray (1988)',\n",
       " 'Crimes and Misdemeanors (1989)',\n",
       " 'Dead Again (1991)',\n",
       " 'Commitments, The (1991)',\n",
       " 'Mansfield Park (1999)',\n",
       " 'All About My Mother (Todo sobre mi madre) (1999)',\n",
       " 'Magnolia (1999)',\n",
       " 'Galaxy Quest (1999)',\n",
       " 'Boys from Brazil, The (1978)',\n",
       " 'League of Their Own, A (1992)',\n",
       " 'Wonder Boys (2000)',\n",
       " 'Defending Your Life (1991)',\n",
       " 'Searchers, The (1956)',\n",
       " 'Erin Brockovich (2000)',\n",
       " 'High Fidelity (2000)',\n",
       " 'Outlaw Josey Wales, The (1976)',\n",
       " 'East is East (1999)',\n",
       " 'Mr. Mom (1983)',\n",
       " 'Blow-Up (Blowup) (1966)',\n",
       " \"I'm the One That I Want (2000)\",\n",
       " 'Almost Famous (2000)',\n",
       " 'Best in Show (2000)',\n",
       " 'Billy Elliot (2000)',\n",
       " 'Crouching Tiger, Hidden Dragon (Wo hu cang long) (2000)',\n",
       " 'Planes, Trains & Automobiles (1987)',\n",
       " 'Chocolat (2000)',\n",
       " 'Gift, The (2000)',\n",
       " 'Before Night Falls (2000)',\n",
       " 'O Brother, Where Art Thou? (2000)',\n",
       " 'State and Main (2000)',\n",
       " 'Thirteen Days (2000)',\n",
       " 'Traffic (2000)',\n",
       " 'Legend of Rita, The (Stille nach dem Schuß, Die) (1999)',\n",
       " 'Innerspace (1987)',\n",
       " 'In the Mood For Love (Fa yeung nin wa) (2000)',\n",
       " 'Series 7: The Contenders (2001)',\n",
       " 'Memento (2000)',\n",
       " 'Blow (2001)',\n",
       " \"Bridget Jones's Diary (2001)\",\n",
       " 'Circle, The (Dayereh) (2000)',\n",
       " 'Visit, The (2000)',\n",
       " 'Under the Sand (2000)',\n",
       " 'Moulin Rouge (2001)',\n",
       " 'Divided We Fall (Musíme si pomáhat) (2000)',\n",
       " 'Closet, The (Placard, Le) (2001)',\n",
       " 'Ghost World (2001)',\n",
       " 'Together (Tillsammans) (2000)',\n",
       " 'L.I.E. (2001)',\n",
       " \"Man Who Wasn't There, The (2001)\",\n",
       " \"Harry Potter and the Sorcerer's Stone (a.k.a. Harry Potter and the Philosopher's Stone) (2001)\",\n",
       " \"Devil's Backbone, The (Espinazo del diablo, El) (2001)\",\n",
       " \"No Man's Land (2001)\",\n",
       " 'Babe (1995)',\n",
       " 'Dead Man Walking (1995)',\n",
       " 'Clueless (1995)',\n",
       " 'Apollo 13 (1995)',\n",
       " 'Batman Forever (1995)',\n",
       " 'Interview with the Vampire: The Vampire Chronicles (1994)',\n",
       " 'Little Women (1994)',\n",
       " 'Legends of the Fall (1994)',\n",
       " 'Once Were Warriors (1994)',\n",
       " 'Quiz Show (1994)',\n",
       " 'Ace Ventura: Pet Detective (1994)',\n",
       " 'Lion King, The (1994)',\n",
       " 'True Lies (1994)',\n",
       " 'Addams Family Values (1993)',\n",
       " 'In the Line of Fire (1993)',\n",
       " 'Remains of the Day, The (1993)',\n",
       " 'Secret Garden, The (1993)',\n",
       " 'Shadowlands (1993)',\n",
       " 'Terminator 2: Judgment Day (1991)',\n",
       " 'Snow White and the Seven Dwarfs (1937)',\n",
       " 'Pretty Woman (1990)',\n",
       " 'Jumanji (1995)',\n",
       " 'Waiting to Exhale (1995)',\n",
       " 'Father of the Bride Part II (1995)',\n",
       " 'Sabrina (1995)',\n",
       " 'Tom and Huck (1995)',\n",
       " 'GoldenEye (1995)',\n",
       " 'American President, The (1995)',\n",
       " 'Balto (1995)',\n",
       " 'Cutthroat Island (1995)',\n",
       " 'Casino (1995)',\n",
       " 'Sense and Sensibility (1995)',\n",
       " 'Ace Ventura: When Nature Calls (1995)',\n",
       " 'Copycat (1995)',\n",
       " 'Powder (1995)',\n",
       " 'Leaving Las Vegas (1995)',\n",
       " 'Othello (1995)',\n",
       " 'Now and Then (1995)',\n",
       " 'Richard III (1995)',\n",
       " 'Restoration (1995)',\n",
       " 'How to Make an American Quilt (1995)',\n",
       " 'Big Green, The (1995)',\n",
       " 'Indian in the Cupboard, The (1995)',\n",
       " 'Eye for an Eye (1996)',\n",
       " \"Mr. Holland's Opus (1995)\",\n",
       " 'Bio-Dome (1996)',\n",
       " 'Lawnmower Man 2: Beyond Cyberspace (1996)',\n",
       " 'Screamers (1995)',\n",
       " 'Juror, The (1996)',\n",
       " 'White Squall (1996)',\n",
       " 'Dunston Checks In (1996)',\n",
       " 'Black Sheep (1996)',\n",
       " 'Nick of Time (1995)',\n",
       " 'Mary Reilly (1996)',\n",
       " 'Vampire in Brooklyn (1995)',\n",
       " 'Broken Arrow (1996)',\n",
       " 'City Hall (1996)',\n",
       " 'Mr. Wrong (1996)',\n",
       " 'Happy Gilmore (1996)',\n",
       " 'Bridges of Madison County, The (1995)',\n",
       " 'Rumble in the Bronx (Hont faan kui) (1995)',\n",
       " 'Before and After (1996)',\n",
       " 'Down Periscope (1996)',\n",
       " 'Up Close and Personal (1996)',\n",
       " 'Birdcage, The (1996)',\n",
       " 'Bad Boys (1995)',\n",
       " 'Amazing Panda Adventure, The (1995)',\n",
       " 'Casper (1995)',\n",
       " 'Clockers (1995)',\n",
       " 'Congo (1995)',\n",
       " 'Crimson Tide (1995)',\n",
       " 'Die Hard: With a Vengeance (1995)',\n",
       " 'First Knight (1995)',\n",
       " 'Hackers (1995)',\n",
       " 'Jury Duty (1995)',\n",
       " 'Lord of Illusions (1995)',\n",
       " 'Mad Love (1995)',\n",
       " 'Mallrats (1995)',\n",
       " 'Mighty Morphin Power Rangers: The Movie (1995)',\n",
       " 'Net, The (1995)',\n",
       " 'Nine Months (1995)',\n",
       " 'Reckless (1995)',\n",
       " 'Scarlet Letter, The (1995)',\n",
       " 'Something to Talk About (1995)',\n",
       " 'Species (1995)',\n",
       " 'Three Wishes (1995)',\n",
       " 'Under Siege 2: Dark Territory (1995)',\n",
       " 'Unstrung Heroes (1995)',\n",
       " 'Walk in the Clouds, A (1995)',\n",
       " 'Waterworld (1995)',\n",
       " \"White Man's Burden (1995)\",\n",
       " 'Wild Bill (1995)',\n",
       " 'Bushwhacked (1995)',\n",
       " 'Babysitter, The (1995)',\n",
       " 'Boys on the Side (1995)',\n",
       " 'Cure, The (1995)',\n",
       " 'Don Juan DeMarco (1995)',\n",
       " 'Disclosure (1994)',\n",
       " 'Dolores Claiborne (1995)',\n",
       " 'Exit to Eden (1994)',\n",
       " 'French Kiss (1995)',\n",
       " 'Forget Paris (1995)',\n",
       " 'Goofy Movie, A (1995)',\n",
       " 'Hideaway (1995)',\n",
       " 'Gordy (1995)',\n",
       " 'Houseguest (1994)',\n",
       " 'Heavyweights (Heavy Weights) (1995)',\n",
       " 'Hunted, The (1995)',\n",
       " 'I.Q. (1994)',\n",
       " 'Jefferson in Paris (1995)',\n",
       " 'Junior (1994)',\n",
       " 'Just Cause (1995)',\n",
       " \"Kid in King Arthur's Court, A (1995)\",\n",
       " 'Little Princess, A (1995)',\n",
       " 'Major Payne (1995)',\n",
       " 'Love Affair (1994)',\n",
       " 'Losing Isaiah (1995)',\n",
       " \"Mary Shelley's Frankenstein (Frankenstein) (1994)\",\n",
       " 'Man of the House (1995)',\n",
       " 'Milk Money (1994)',\n",
       " 'Miracle on 34th Street (1994)',\n",
       " 'My Family (1995)',\n",
       " \"Nobody's Fool (1994)\",\n",
       " 'Nell (1994)',\n",
       " 'Natural Born Killers (1994)',\n",
       " 'Only You (1994)',\n",
       " 'Poison Ivy II (1996)',\n",
       " 'Outbreak (1995)',\n",
       " 'Léon: The Professional (a.k.a. The Professional) (Léon) (1994)',\n",
       " 'Queen Margot (Reine Margot, La) (1994)',\n",
       " 'Quick and the Dead, The (1995)',\n",
       " 'Roommates (1995)',\n",
       " 'Rent-a-Kid (1995)',\n",
       " 'Stuart Saves His Family (1995)',\n",
       " 'Swan Princess, The (1994)',\n",
       " 'Secret of Roan Inish, The (1994)',\n",
       " 'Specialist, The (1994)',\n",
       " 'Santa Clause, The (1994)',\n",
       " 'Tank Girl (1995)',\n",
       " 'Star Trek: Generations (1994)',\n",
       " 'Tales from the Hood (1995)',\n",
       " 'Village of the Damned (1995)',\n",
       " 'Walking Dead, The (1995)',\n",
       " \"What's Eating Gilbert Grape (1993)\",\n",
       " 'While You Were Sleeping (1995)',\n",
       " 'War, The (1994)',\n",
       " 'Baby-Sitters Club, The (1995)',\n",
       " 'Bitter Moon (1992)',\n",
       " 'Client, The (1994)',\n",
       " 'Crooklyn (1994)',\n",
       " 'Crow, The (1994)',\n",
       " 'Cobb (1994)',\n",
       " 'Flintstones, The (1994)',\n",
       " 'Higher Learning (1995)',\n",
       " 'I Like It Like That (1994)',\n",
       " 'I Love Trouble (1994)',\n",
       " 'It Could Happen to You (1994)',\n",
       " \"Wes Craven's New Nightmare (Nightmare on Elm Street Part 7: Freddy's Finale, A) (1994)\",\n",
       " 'Naked Gun 33 1/3: The Final Insult (1994)',\n",
       " 'Paper, The (1994)',\n",
       " 'Richie Rich (1994)',\n",
       " 'Speed (1994)',\n",
       " 'Speechless (1994)',\n",
       " 'When a Man Loves a Woman (1994)',\n",
       " 'Wolf (1994)',\n",
       " 'Wyatt Earp (1994)',\n",
       " 'Highlander III: The Sorcerer (a.k.a. Highlander: The Final Dimension) (1994)',\n",
       " 'Age of Innocence, The (1993)',\n",
       " 'Another Stakeout (1993)',\n",
       " 'Bad Girls (1994)',\n",
       " 'Beverly Hillbillies, The (1993)',\n",
       " 'Body Snatchers (1993)',\n",
       " \"City Slickers II: The Legend of Curly's Gold (1994)\",\n",
       " 'Cliffhanger (1993)',\n",
       " 'Coneheads (1993)',\n",
       " 'Cops and Robbersons (1994)',\n",
       " 'Dave (1993)',\n",
       " 'Fatal Instinct (1993)',\n",
       " 'Firm, The (1993)',\n",
       " 'Free Willy (1993)',\n",
       " 'Geronimo: An American Legend (1993)',\n",
       " 'Getting Even with Dad (1994)',\n",
       " 'Hot Shots! Part Deux (1993)',\n",
       " 'Englishman Who Went Up a Hill But Came Down a Mountain, The (1995)',\n",
       " 'House of the Spirits, The (1993)',\n",
       " \"I'll Do Anything (1994)\",\n",
       " \"What's Love Got to Do with It? (1993)\",\n",
       " 'Last Action Hero (1993)',\n",
       " 'Made in America (1993)',\n",
       " 'Malice (1993)',\n",
       " 'Man Without a Face, The (1993)',\n",
       " 'Menace II Society (1993)',\n",
       " 'Executive Decision (1996)',\n",
       " 'Much Ado About Nothing (1993)',\n",
       " 'Next Karate Kid, The (1994)',\n",
       " 'North (1994)',\n",
       " 'Philadelphia (1993)',\n",
       " 'Poetic Justice (1993)',\n",
       " 'Renaissance Man (1994)',\n",
       " 'Robin Hood: Men in Tights (1993)',\n",
       " 'Rudy (1993)',\n",
       " 'Serial Mom (1994)',\n",
       " 'Simple Twist of Fate, A (1994)',\n",
       " 'Sirens (1994)',\n",
       " 'Sliver (1993)',\n",
       " 'Son in Law (1993)',\n",
       " 'Super Mario Bros. (1993)',\n",
       " 'Terminal Velocity (1994)',\n",
       " 'Little Big League (1994)',\n",
       " 'Little Rascals, The (1994)',\n",
       " 'Ghost (1990)',\n",
       " 'Candyman: Farewell to the Flesh (1995)',\n",
       " 'Homeward Bound II: Lost in San Francisco (1996)',\n",
       " 'Aristocats, The (1970)',\n",
       " 'Primal Fear (1996)',\n",
       " 'All Dogs Go to Heaven 2 (1996)',\n",
       " 'Sgt. Bilko (1996)',\n",
       " 'Diabolique (1996)',\n",
       " 'Fear (1996)',\n",
       " 'Bloodsport 2 (a.k.a. Bloodsport II: The Next Kumite) (1996)',\n",
       " 'Substitute, The (1996)',\n",
       " 'Feeling Minnesota (1996)',\n",
       " 'Angus (1995)',\n",
       " 'Quest, The (1996)',\n",
       " 'Oliver & Company (1988)',\n",
       " 'Celtic Pride (1996)',\n",
       " 'Flipper (1996)',\n",
       " 'Multiplicity (1996)',\n",
       " 'Stupids, The (1996)',\n",
       " 'Striptease (1996)',\n",
       " 'Jack (1996)',\n",
       " 'Spirits of the Dead (1968)',\n",
       " 'Hunchback of Notre Dame, The (1996)',\n",
       " 'Somebody to Love (1994)',\n",
       " 'Frighteners, The (1996)',\n",
       " 'Harriet the Spy (1996)',\n",
       " 'Phenomenon (1996)',\n",
       " 'Very Brady Sequel, A (1996)',\n",
       " 'First Wives Club, The (1996)',\n",
       " 'Foxfire (1996)',\n",
       " 'Matilda (1996)',\n",
       " 'Emma (1996)',\n",
       " 'Crow: City of Angels, The (1996)',\n",
       " 'Tales from the Crypt Presents: Bordello of Blood (1996)',\n",
       " 'Spitfire Grill, The (1996)',\n",
       " 'Tin Cup (1996)',\n",
       " 'Carpool (1996)',\n",
       " 'Island of Dr. Moreau, The (1996)',\n",
       " 'First Kid (1996)',\n",
       " 'Land Before Time III: The Time of the Great Giving (1995)',\n",
       " 'Halloween: The Curse of Michael Myers (Halloween 6: The Curse of Michael Myers) (1995)',\n",
       " 'Nothing Personal (1995)',\n",
       " 'Dangerous Ground (1997)',\n",
       " 'Fly Away Home (1996)',\n",
       " 'Michael Collins (1996)',\n",
       " 'Last Man Standing (1996)',\n",
       " '2 Days in the Valley (1996)',\n",
       " 'Glimmer Man, The (1996)',\n",
       " 'Chamber, The (1996)',\n",
       " 'Sleepers (1996)',\n",
       " 'Aladdin and the King of Thieves (1996)',\n",
       " 'Candidate, The (1972)',\n",
       " 'Dr. Strangelove or: How I Learned to Stop Worrying and Love the Bomb (1964)',\n",
       " '2001: A Space Odyssey (1968)',\n",
       " 'Top Gun (1986)',\n",
       " 'Dead Poets Society (1989)',\n",
       " 'Contact (1997)',\n",
       " 'Hunt for Red October, The (1990)',\n",
       " 'Truman Show, The (1998)',\n",
       " 'As Good as It Gets (1997)',\n",
       " 'Armageddon (1998)',\n",
       " 'Notting Hill (1999)',\n",
       " \"General's Daughter, The (1999)\",\n",
       " 'Wild Wild West (1999)',\n",
       " 'Ghostbusters II (1989)',\n",
       " 'Toy Story 2 (1999)',\n",
       " 'Mission to Mars (2000)',\n",
       " 'Mission: Impossible II (2000)',\n",
       " 'Naked Gun 2 1/2: The Smell of Fear, The (1991)',\n",
       " 'Remember the Titans (2000)',\n",
       " \"Charlie's Angels (2000)\",\n",
       " 'Unbreakable (2000)',\n",
       " 'What Women Want (2000)',\n",
       " 'Enemy at the Gates (2001)',\n",
       " 'Shrek (2001)',\n",
       " 'Pearl Harbor (2001)',\n",
       " 'A.I. Artificial Intelligence (2001)',\n",
       " 'Planet of the Apes (2001)',\n",
       " 'Princess Diaries, The (2001)',\n",
       " 'Bandits (2001)',\n",
       " 'K-PAX (2001)',\n",
       " 'Monsters, Inc. (2001)',\n",
       " \"Ocean's Eleven (2001)\",\n",
       " 'Lord of the Rings: The Fellowship of the Ring, The (2001)',\n",
       " 'Beautiful Mind, A (2001)',\n",
       " 'Ice Age (2002)',\n",
       " 'Spider-Man (2002)',\n",
       " 'Star Wars: Episode II - Attack of the Clones (2002)',\n",
       " 'Minority Report (2002)',\n",
       " 'Men in Black II (a.k.a. MIIB) (a.k.a. MIB 2) (2002)',\n",
       " 'Road to Perdition (2002)',\n",
       " 'Signs (2002)',\n",
       " 'Spirited Away (Sen to Chihiro no kamikakushi) (2001)',\n",
       " 'Harry Potter and the Chamber of Secrets (2002)',\n",
       " 'Lord of the Rings: The Two Towers, The (2002)',\n",
       " 'Catch Me If You Can (2002)',\n",
       " 'Chicago (2002)',\n",
       " 'X2: X-Men United (2003)',\n",
       " 'Matrix Reloaded, The (2003)',\n",
       " 'Hulk (2003)',\n",
       " 'Pirates of the Caribbean: The Curse of the Black Pearl (2003)',\n",
       " 'School of Rock (2003)',\n",
       " 'Matrix Revolutions, The (2003)',\n",
       " 'Last Samurai, The (2003)',\n",
       " 'Lord of the Rings: The Return of the King, The (2003)',\n",
       " 'Calendar Girls (2003)',\n",
       " 'Man on Fire (2004)',\n",
       " 'Day of the Jackal, The (1973)',\n",
       " 'Shrek 2 (2004)',\n",
       " 'Harry Potter and the Prisoner of Azkaban (2004)',\n",
       " 'Stepford Wives, The (2004)',\n",
       " 'Dodgeball: A True Underdog Story (2004)',\n",
       " 'Spider-Man 2 (2004)',\n",
       " 'Bourne Supremacy, The (2004)',\n",
       " 'Catwoman (2004)',\n",
       " 'Village, The (2004)',\n",
       " 'Princess Diaries 2: Royal Engagement, The (2004)',\n",
       " 'Sky Captain and the World of Tomorrow (2004)',\n",
       " 'Forgotten, The (2004)',\n",
       " 'Shark Tale (2004)',\n",
       " 'Ladder 49 (2004)',\n",
       " 'Sideways (2004)',\n",
       " 'Saw (2004)',\n",
       " 'Ray (2004)',\n",
       " 'Incredibles, The (2004)',\n",
       " 'Polar Express, The (2004)',\n",
       " 'Finding Neverland (2004)',\n",
       " 'National Treasure (2004)',\n",
       " \"Ocean's Twelve (2004)\",\n",
       " 'Twilight Samurai, The (Tasogare Seibei) (2002)',\n",
       " 'Aviator, The (2004)',\n",
       " 'Phantom of the Opera, The (2004)',\n",
       " 'Kung Fu Hustle (Gong fu) (2004)',\n",
       " 'Hostage (2005)',\n",
       " 'Robots (2005)',\n",
       " 'Miss Congeniality 2: Armed and Fabulous (2005)',\n",
       " 'Sin City (2005)',\n",
       " 'Kingdom of Heaven (2005)',\n",
       " 'Star Wars: Episode III - Revenge of the Sith (2005)',\n",
       " 'Batman Begins (2005)',\n",
       " 'Bewitched (2005)',\n",
       " 'War of the Worlds (2005)',\n",
       " 'Island, The (2005)',\n",
       " 'Capote (2005)',\n",
       " 'Goal! The Dream Begins (Goal!) (2005)',\n",
       " 'Producers, The (2005)',\n",
       " 'X-Men: The Last Stand (2006)',\n",
       " 'Cars (2006)',\n",
       " 'Lake House, The (2006)',\n",
       " 'Lady in the Water (2006)',\n",
       " 'Superman Returns (2006)',\n",
       " 'Flags of Our Fathers (2006)',\n",
       " 'Perfume: The Story of a Murderer (2006)',\n",
       " 'Casino Royale (2006)',\n",
       " 'Déjà Vu (Deja Vu) (2006)',\n",
       " 'Holiday, The (2006)',\n",
       " 'Dreamgirls (2006)',\n",
       " 'Home Alone (1990)',\n",
       " 'Party Girl (1995)',\n",
       " 'Last Supper, The (1995)',\n",
       " 'Sunset Blvd. (a.k.a. Sunset Boulevard) (1950)',\n",
       " 'Lawnmower Man, The (1992)',\n",
       " 'Glengarry Glen Ross (1992)',\n",
       " 'Witness (1985)',\n",
       " 'Prom Night (1980)',\n",
       " 'Back to the Future Part II (1989)',\n",
       " 'Godfather: Part III, The (1990)',\n",
       " 'Producers, The (1968)',\n",
       " 'Tommy (1975)',\n",
       " 'Phantasm (1979)',\n",
       " 'Any Given Sunday (1999)',\n",
       " 'Ghost Dog: The Way of the Samurai (1999)',\n",
       " 'Serpico (1973)',\n",
       " 'Making Mr. Right (1987)',\n",
       " 'Twins (1988)',\n",
       " 'Sunshine State (2002)',\n",
       " 'Pumpkin (2002)',\n",
       " 'Austin Powers in Goldmember (2002)',\n",
       " 'xXx (2002)',\n",
       " 'Return to the Blue Lagoon (1991)',\n",
       " 'Toy Soldiers (1991)',\n",
       " 'Die Another Day (2002)',\n",
       " 'Elling (2001)',\n",
       " 'I Spit on Your Grave (Day of the Woman) (1978)',\n",
       " 'Last Seduction, The (1994)',\n",
       " 'Adaptation (2002)',\n",
       " 'Gangs of New York (2002)',\n",
       " 'Body of Evidence (1993)',\n",
       " 'Duellists, The (1977)',\n",
       " 'Quicksilver (1986)',\n",
       " 'King of Comedy, The (1983)',\n",
       " 'Blind Date (1984)',\n",
       " 'Mary Poppins (1964)',\n",
       " 'Dirty Dancing (1987)',\n",
       " 'Graduate, The (1967)',\n",
       " 'When Harry Met Sally... (1989)',\n",
       " 'Bring It On (2000)',\n",
       " 'Legally Blonde (2001)',\n",
       " 'Walk to Remember, A (2002)',\n",
       " 'About a Boy (2002)',\n",
       " 'Sweet Home Alabama (2002)',\n",
       " 'Maid in Manhattan (2002)',\n",
       " 'Two Weeks Notice (2002)',\n",
       " 'How to Lose a Guy in 10 Days (2003)',\n",
       " 'What a Girl Wants (2003)',\n",
       " 'Finding Nemo (2003)',\n",
       " 'Legally Blonde 2: Red, White & Blonde (2003)',\n",
       " 'Love Actually (2003)',\n",
       " \"Something's Gotta Give (2003)\",\n",
       " 'Girl with a Pearl Earring (2003)',\n",
       " 'Mona Lisa Smile (2003)',\n",
       " 'Chasing Liberty (2004)',\n",
       " '50 First Dates (2004)',\n",
       " 'Prince & Me, The (2004)',\n",
       " 'Mean Girls (2004)',\n",
       " 'Troy (2004)',\n",
       " 'Terminal, The (2004)',\n",
       " 'Notebook, The (2004)',\n",
       " 'First Daughter (2004)',\n",
       " 'Bridget Jones: The Edge of Reason (2004)',\n",
       " 'Hotel Rwanda (2004)',\n",
       " 'Wedding Date, The (2005)',\n",
       " 'Hitch (2005)',\n",
       " 'Lot Like Love, A (2005)',\n",
       " 'Mr. & Mrs. Smith (2005)',\n",
       " 'Pride & Prejudice (2005)',\n",
       " 'Walk the Line (2005)',\n",
       " 'Match Point (2005)',\n",
       " 'Pursuit of Happyness, The (2006)',\n",
       " '300 (2007)',\n",
       " 'Priceless (Hors de prix) (2006)',\n",
       " 'Becoming Jane (2007)',\n",
       " 'Bourne Ultimatum, The (2007)',\n",
       " 'Juno (2007)',\n",
       " '27 Dresses (2008)',\n",
       " 'Definitely, Maybe (2008)',\n",
       " 'Made of Honor (2008)',\n",
       " 'What Happens in Vegas... (2008)',\n",
       " 'Mamma Mia! (2008)',\n",
       " 'Vicky Cristina Barcelona (2008)',\n",
       " 'House Bunny, The (2008)',\n",
       " 'Quantum of Solace (2008)',\n",
       " 'Twilight (2008)',\n",
       " 'Yes Man (2008)',\n",
       " \"He's Just Not That Into You (2009)\",\n",
       " 'Up (2009)',\n",
       " 'Proposal, The (2009)',\n",
       " 'Harry Potter and the Half-Blood Prince (2009)',\n",
       " 'Ugly Truth, The (2009)',\n",
       " 'Julie & Julia (2009)',\n",
       " 'Education, An (2009)',\n",
       " 'Up in the Air (2009)',\n",
       " 'Private Lives of Pippa Lee, The (2009)',\n",
       " 'Twilight Saga: New Moon, The (2009)',\n",
       " 'Single Man, A (2009)',\n",
       " 'Princess and the Frog, The (2009)',\n",
       " 'Avatar (2009)',\n",
       " 'Sherlock Holmes (2009)',\n",
       " \"Valentine's Day (2010)\",\n",
       " \"St Trinian's 2: The Legend of Fritton's Gold (2009)\",\n",
       " 'Twilight Saga: Eclipse, The (2010)',\n",
       " 'Despicable Me (2010)',\n",
       " 'Easy A (2010)',\n",
       " 'Morning Glory (2010)',\n",
       " \"King's Speech, The (2010)\",\n",
       " 'Tangled (2010)',\n",
       " 'Love and Other Drugs (2010)',\n",
       " 'How Do You Know (2010)',\n",
       " 'No Strings Attached (2011)',\n",
       " 'Water for Elephants (2011)',\n",
       " 'Kung Fu Panda 2 (2011)',\n",
       " 'Crazy, Stupid, Love. (2011)',\n",
       " 'Help, The (2011)',\n",
       " 'Twilight Saga: Breaking Dawn - Part 1, The (2011)',\n",
       " 'Intouchables (2011)',\n",
       " 'Best Exotic Marigold Hotel, The (2011)',\n",
       " 'Brave (2012)',\n",
       " 'Magic Mike (2012)',\n",
       " 'Amazing Spider-Man, The (2012)',\n",
       " 'Ice Age 4: Continental Drift (2012)',\n",
       " 'Skyfall (2012)',\n",
       " \"Rust and Bone (De rouille et d'os) (2012)\",\n",
       " 'Life of Pi (2012)',\n",
       " 'Twilight Saga: Breaking Dawn - Part 2, The (2012)',\n",
       " 'Despicable Me 2 (2013)',\n",
       " 'White House Down (2013)',\n",
       " 'About Time (2013)',\n",
       " 'Enough Said (2013)',\n",
       " 'Hobbit: The Desolation of Smaug, The (2013)',\n",
       " 'Frozen (2013)',\n",
       " 'Saving Mr. Banks (2013)',\n",
       " 'Grand Budapest Hotel, The (2014)',\n",
       " 'Barefoot (2014)',\n",
       " 'Tangled Ever After (2012)',\n",
       " 'The Hundred-Foot Journey (2014)',\n",
       " 'Pretty One, The (2013)',\n",
       " 'Kingsman: The Secret Service (2015)',\n",
       " 'The Second Best Exotic Marigold Hotel (2015)',\n",
       " 'Spectre (2015)',\n",
       " 'Magic Mike XXL (2015)',\n",
       " 'The Intern (2015)',\n",
       " 'Mortal Kombat (1995)',\n",
       " 'River Wild, The (1994)',\n",
       " 'Program, The (1993)',\n",
       " 'Searching for Bobby Fischer (1993)',\n",
       " 'Days of Thunder (1990)',\n",
       " 'Sling Blade (1996)',\n",
       " 'Die Hard 2 (1990)',\n",
       " 'Under Siege (1992)',\n",
       " \"Dante's Peak (1997)\",\n",
       " 'Breakdown (1997)',\n",
       " 'G.I. Jane (1997)',\n",
       " 'Money Talks (1997)',\n",
       " 'Air Force One (1997)',\n",
       " 'Peacemaker, The (1997)',\n",
       " 'Jackal, The (1997)',\n",
       " 'Amistad (1997)',\n",
       " 'Titanic (1997)',\n",
       " 'He Got Game (1998)',\n",
       " 'Godzilla (1998)',\n",
       " 'Lethal Weapon 4 (1998)',\n",
       " 'Lethal Weapon 3 (1992)',\n",
       " \"Jane Austen's Mafia! (1998)\",\n",
       " 'Shine (1996)',\n",
       " 'Beavis and Butt-Head Do America (1996)',\n",
       " 'Deep Impact (1998)',\n",
       " \"'burbs, The (1989)\",\n",
       " 'Splash (1984)',\n",
       " 'Karate Kid, Part II, The (1986)',\n",
       " \"She's All That (1999)\",\n",
       " ...]"
      ]
     },
     "execution_count": 20,
     "metadata": {},
     "output_type": "execute_result"
    }
   ],
   "source": [
    "movie_names"
   ]
  },
  {
   "cell_type": "code",
   "execution_count": 21,
   "metadata": {
    "ExecuteTime": {
     "end_time": "2020-02-07T16:43:00.111665Z",
     "start_time": "2020-02-07T16:43:00.108844Z"
    }
   },
   "outputs": [],
   "source": [
    "movie_to_vector = {}"
   ]
  },
  {
   "cell_type": "code",
   "execution_count": 22,
   "metadata": {
    "ExecuteTime": {
     "end_time": "2020-02-07T16:46:12.385761Z",
     "start_time": "2020-02-07T16:45:00.127032Z"
    }
   },
   "outputs": [
    {
     "data": {
      "application/vnd.jupyter.widget-view+json": {
       "model_id": "8df42c9245ff436cbf101eeb1c58f5b6",
       "version_major": 2,
       "version_minor": 0
      },
      "text/plain": [
       "HBox(children=(IntProgress(value=0, max=9719), HTML(value='')))"
      ]
     },
     "metadata": {},
     "output_type": "display_data"
    },
    {
     "name": "stdout",
     "output_type": "stream",
     "text": [
      "\n"
     ]
    }
   ],
   "source": [
    "for movie in tqdm_notebook(movie_names):\n",
    "    movie_to_vector[movie] = np.zeros((MAX_USER_ID,))\n",
    "    for r in df[df['title'] == movie].iterrows():\n",
    "        movie_to_vector[movie][r[1]['userId'] - MIN_USER_ID] = r[1]['rating']"
   ]
  },
  {
   "cell_type": "code",
   "execution_count": 25,
   "metadata": {
    "ExecuteTime": {
     "end_time": "2020-02-07T16:47:08.278447Z",
     "start_time": "2020-02-07T16:47:08.269251Z"
    }
   },
   "outputs": [
    {
     "data": {
      "text/plain": [
       "array([4. , 0. , 0. , 0. , 4. , 0. , 4.5, 0. , 0. , 0. , 0. , 0. , 0. ,\n",
       "       0. , 2.5, 0. , 4.5, 3.5, 4. , 0. , 3.5, 0. , 0. , 0. , 0. , 0. ,\n",
       "       3. , 0. , 0. , 0. , 5. , 3. , 3. , 0. , 0. , 0. , 0. , 0. , 0. ,\n",
       "       5. , 0. , 0. , 5. , 3. , 4. , 5. , 0. , 0. , 0. , 3. , 0. , 0. ,\n",
       "       0. , 3. , 0. , 0. , 5. , 0. , 0. , 0. , 0. , 0. , 5. , 4. , 0. ,\n",
       "       4. , 0. , 2.5, 0. , 0. , 5. , 0. , 4.5, 0. , 0. , 0.5, 0. , 4. ,\n",
       "       0. , 0. , 0. , 2.5, 0. , 0. , 0. , 4. , 0. , 0. , 3. , 3. , 4. ,\n",
       "       0. , 3. , 0. , 0. , 5. , 0. , 4.5, 0. , 0. , 0. , 0. , 4. , 0. ,\n",
       "       0. , 0. , 4. , 0. , 0. , 0. , 0. , 3. , 0. , 0. , 0. , 0. , 0. ,\n",
       "       0. , 3.5, 0. , 4. , 0. , 0. , 4. , 0. , 0. , 0. , 0. , 0. , 3. ,\n",
       "       0. , 2. , 0. , 3. , 4. , 0. , 4. , 0. , 0. , 3. , 4. , 0. , 0. ,\n",
       "       3.5, 5. , 0. , 0. , 0. , 0. , 0. , 5. , 0. , 2. , 0. , 3. , 4. ,\n",
       "       0. , 0. , 4.5, 4. , 4. , 0. , 0. , 0. , 0. , 5. , 3.5, 0. , 4.5,\n",
       "       0. , 5. , 0. , 0. , 0. , 0. , 0. , 5. , 4. , 4. , 0. , 0. , 4. ,\n",
       "       0. , 0. , 4. , 4. , 0. , 0. , 0. , 0. , 4. , 0. , 2. , 0. , 0. ,\n",
       "       0. , 0. , 0. , 0. , 3.5, 5. , 4. , 0. , 0. , 0. , 5. , 0. , 0. ,\n",
       "       0. , 0. , 0. , 0. , 3.5, 3. , 0. , 3. , 4. , 0. , 3.5, 5. , 0. ,\n",
       "       0. , 3.5, 0. , 0. , 3.5, 0. , 0. , 5. , 0. , 0. , 3.5, 3. , 5. ,\n",
       "       0. , 0. , 0. , 0. , 4. , 5. , 0. , 0. , 0. , 0. , 0. , 0. , 5. ,\n",
       "       0. , 4. , 0. , 0. , 4.5, 0. , 4.5, 0. , 0. , 0. , 0. , 0. , 0. ,\n",
       "       0. , 0. , 4. , 4. , 0. , 2. , 0. , 0. , 5. , 5. , 0. , 0. , 5. ,\n",
       "       4. , 5. , 4. , 4. , 0. , 3. , 4.5, 0. , 4.5, 3. , 0. , 0. , 0. ,\n",
       "       0. , 4.5, 0. , 4. , 4. , 4. , 3. , 0. , 0. , 0. , 0. , 2. , 0. ,\n",
       "       0. , 0. , 0. , 0. , 5. , 0. , 0. , 4. , 0. , 0. , 0. , 0. , 0. ,\n",
       "       0. , 3. , 0. , 0. , 0. , 0. , 0. , 0. , 0. , 3.5, 3.5, 0. , 0. ,\n",
       "       0. , 0. , 5. , 0. , 4. , 0. , 4. , 0. , 3.5, 0. , 4. , 4. , 0. ,\n",
       "       4. , 0. , 5. , 0. , 0. , 0. , 0. , 0. , 5. , 0. , 0. , 4. , 0. ,\n",
       "       0. , 5. , 0. , 0. , 0. , 5. , 0. , 4. , 0. , 0. , 0. , 0. , 5. ,\n",
       "       0. , 0. , 5. , 0. , 0. , 0. , 0. , 3. , 3. , 0. , 0. , 0. , 0. ,\n",
       "       4.5, 0. , 5. , 3.5, 4.5, 0. , 0. , 4. , 0. , 0. , 0. , 5. , 0. ,\n",
       "       3. , 0. , 0. , 0. , 0. , 5. , 0. , 0. , 4. , 0. , 3.5, 0. , 0. ,\n",
       "       0. , 0. , 0. , 0. , 0. , 0. , 0. , 5. , 2. , 0. , 4. , 0. , 0. ,\n",
       "       0. , 0. , 0. , 4. , 0. , 4. , 0. , 0. , 0. , 0. , 0. , 0. , 0. ,\n",
       "       0. , 0. , 2.5, 0. , 4. , 0. , 4. , 0. , 4.5, 0. , 0. , 0. , 0. ,\n",
       "       4. , 0. , 0. , 0. , 0. , 5. , 0. , 0. , 5. , 0. , 5. , 0. , 0. ,\n",
       "       5. , 0. , 0. , 0. , 4.5, 0. , 1.5, 0. , 0. , 0. , 0. , 0. , 4. ,\n",
       "       4. , 4. , 5. , 0. , 0. , 4. , 0. , 4. , 4. , 0. , 0. , 3. , 0. ,\n",
       "       0. , 4. , 4.5, 0. , 0. , 0. , 4.5, 0. , 3.5, 0. , 4. , 0. , 0. ,\n",
       "       0. , 0. , 0. , 0. , 0. , 4. , 0. , 0. , 0. , 4. , 0. , 0. , 0. ,\n",
       "       0. , 4. , 0. , 0. , 0. , 0. , 4. , 0. , 0. , 4. , 0. , 0. , 0. ,\n",
       "       0. , 3. , 0. , 4. , 4. , 0. , 0. , 2.5, 3. , 0. , 0. , 0. , 5. ,\n",
       "       4. , 0. , 0. , 0. , 0. , 0. , 0. , 3. , 0. , 0. , 3. , 0. , 0. ,\n",
       "       0. , 0. , 0. , 4. , 0. , 0. , 0. , 0. , 4. , 0. , 0. , 0. , 5. ,\n",
       "       3. , 4. , 4.5, 0. , 0. , 0. , 0. , 3.5, 0. , 0. , 4. , 0. , 4. ,\n",
       "       5. , 0. , 0. , 0. , 0. , 0. , 4. , 3. , 0. , 0. , 0. , 5. , 0. ,\n",
       "       0. , 5. , 0. , 0. , 4. , 0. , 0. , 0. , 0. , 0. , 4. , 4. , 0. ,\n",
       "       3. , 2.5, 4. , 0. , 4. , 3. , 4. , 2.5, 4. , 2.5, 3. , 5. ])"
      ]
     },
     "execution_count": 25,
     "metadata": {},
     "output_type": "execute_result"
    }
   ],
   "source": [
    "movie_to_vector['Toy Story (1995)']"
   ]
  },
  {
   "cell_type": "markdown",
   "metadata": {},
   "source": [
    "## Ищем похожие"
   ]
  },
  {
   "cell_type": "code",
   "execution_count": 55,
   "metadata": {
    "ExecuteTime": {
     "end_time": "2020-02-07T17:01:06.934515Z",
     "start_time": "2020-02-07T17:01:06.929026Z"
    }
   },
   "outputs": [],
   "source": [
    "def find_similar(movie, dist_func, top=10):\n",
    "    distances = {}\n",
    "    target_movie = movie_to_vector[movie]\n",
    "    for m in movie_names:\n",
    "        distances[m] = dist_func(target_movie, movie_to_vector[m]) # if 'Error' use -> f(euclidean)\n",
    "        \n",
    "    distances_with_idx = [(i, distances[m]) for i, m in enumerate(movie_names)]\n",
    "    distances_with_idx = sorted(distances_with_idx, key=lambda t: t[1], reverse=False)\n",
    "    distances_with_idx = distances_with_idx[:top]\n",
    "    \n",
    "    return [(movie_names[i], d) for i, d in distances_with_idx]"
   ]
  },
  {
   "cell_type": "code",
   "execution_count": 26,
   "metadata": {
    "ExecuteTime": {
     "end_time": "2020-02-07T16:51:13.369726Z",
     "start_time": "2020-02-07T16:51:13.164732Z"
    }
   },
   "outputs": [],
   "source": [
    "from scipy.spatial.distance import cosine, euclidean, cityblock"
   ]
  },
  {
   "cell_type": "code",
   "execution_count": 27,
   "metadata": {
    "ExecuteTime": {
     "end_time": "2020-02-07T16:51:23.698674Z",
     "start_time": "2020-02-07T16:51:23.696365Z"
    }
   },
   "outputs": [],
   "source": [
    "distances = {}"
   ]
  },
  {
   "cell_type": "code",
   "execution_count": 29,
   "metadata": {
    "ExecuteTime": {
     "end_time": "2020-02-07T16:51:45.676768Z",
     "start_time": "2020-02-07T16:51:45.674222Z"
    }
   },
   "outputs": [],
   "source": [
    "movie = 'Toy Story (1995)'"
   ]
  },
  {
   "cell_type": "code",
   "execution_count": 31,
   "metadata": {
    "ExecuteTime": {
     "end_time": "2020-02-07T16:51:53.797185Z",
     "start_time": "2020-02-07T16:51:53.794555Z"
    }
   },
   "outputs": [],
   "source": [
    "target_movie = movie_to_vector[movie]"
   ]
  },
  {
   "cell_type": "code",
   "execution_count": 32,
   "metadata": {
    "ExecuteTime": {
     "end_time": "2020-02-07T16:51:56.280679Z",
     "start_time": "2020-02-07T16:51:56.271067Z"
    },
    "scrolled": true
   },
   "outputs": [
    {
     "data": {
      "text/plain": [
       "array([4. , 0. , 0. , 0. , 4. , 0. , 4.5, 0. , 0. , 0. , 0. , 0. , 0. ,\n",
       "       0. , 2.5, 0. , 4.5, 3.5, 4. , 0. , 3.5, 0. , 0. , 0. , 0. , 0. ,\n",
       "       3. , 0. , 0. , 0. , 5. , 3. , 3. , 0. , 0. , 0. , 0. , 0. , 0. ,\n",
       "       5. , 0. , 0. , 5. , 3. , 4. , 5. , 0. , 0. , 0. , 3. , 0. , 0. ,\n",
       "       0. , 3. , 0. , 0. , 5. , 0. , 0. , 0. , 0. , 0. , 5. , 4. , 0. ,\n",
       "       4. , 0. , 2.5, 0. , 0. , 5. , 0. , 4.5, 0. , 0. , 0.5, 0. , 4. ,\n",
       "       0. , 0. , 0. , 2.5, 0. , 0. , 0. , 4. , 0. , 0. , 3. , 3. , 4. ,\n",
       "       0. , 3. , 0. , 0. , 5. , 0. , 4.5, 0. , 0. , 0. , 0. , 4. , 0. ,\n",
       "       0. , 0. , 4. , 0. , 0. , 0. , 0. , 3. , 0. , 0. , 0. , 0. , 0. ,\n",
       "       0. , 3.5, 0. , 4. , 0. , 0. , 4. , 0. , 0. , 0. , 0. , 0. , 3. ,\n",
       "       0. , 2. , 0. , 3. , 4. , 0. , 4. , 0. , 0. , 3. , 4. , 0. , 0. ,\n",
       "       3.5, 5. , 0. , 0. , 0. , 0. , 0. , 5. , 0. , 2. , 0. , 3. , 4. ,\n",
       "       0. , 0. , 4.5, 4. , 4. , 0. , 0. , 0. , 0. , 5. , 3.5, 0. , 4.5,\n",
       "       0. , 5. , 0. , 0. , 0. , 0. , 0. , 5. , 4. , 4. , 0. , 0. , 4. ,\n",
       "       0. , 0. , 4. , 4. , 0. , 0. , 0. , 0. , 4. , 0. , 2. , 0. , 0. ,\n",
       "       0. , 0. , 0. , 0. , 3.5, 5. , 4. , 0. , 0. , 0. , 5. , 0. , 0. ,\n",
       "       0. , 0. , 0. , 0. , 3.5, 3. , 0. , 3. , 4. , 0. , 3.5, 5. , 0. ,\n",
       "       0. , 3.5, 0. , 0. , 3.5, 0. , 0. , 5. , 0. , 0. , 3.5, 3. , 5. ,\n",
       "       0. , 0. , 0. , 0. , 4. , 5. , 0. , 0. , 0. , 0. , 0. , 0. , 5. ,\n",
       "       0. , 4. , 0. , 0. , 4.5, 0. , 4.5, 0. , 0. , 0. , 0. , 0. , 0. ,\n",
       "       0. , 0. , 4. , 4. , 0. , 2. , 0. , 0. , 5. , 5. , 0. , 0. , 5. ,\n",
       "       4. , 5. , 4. , 4. , 0. , 3. , 4.5, 0. , 4.5, 3. , 0. , 0. , 0. ,\n",
       "       0. , 4.5, 0. , 4. , 4. , 4. , 3. , 0. , 0. , 0. , 0. , 2. , 0. ,\n",
       "       0. , 0. , 0. , 0. , 5. , 0. , 0. , 4. , 0. , 0. , 0. , 0. , 0. ,\n",
       "       0. , 3. , 0. , 0. , 0. , 0. , 0. , 0. , 0. , 3.5, 3.5, 0. , 0. ,\n",
       "       0. , 0. , 5. , 0. , 4. , 0. , 4. , 0. , 3.5, 0. , 4. , 4. , 0. ,\n",
       "       4. , 0. , 5. , 0. , 0. , 0. , 0. , 0. , 5. , 0. , 0. , 4. , 0. ,\n",
       "       0. , 5. , 0. , 0. , 0. , 5. , 0. , 4. , 0. , 0. , 0. , 0. , 5. ,\n",
       "       0. , 0. , 5. , 0. , 0. , 0. , 0. , 3. , 3. , 0. , 0. , 0. , 0. ,\n",
       "       4.5, 0. , 5. , 3.5, 4.5, 0. , 0. , 4. , 0. , 0. , 0. , 5. , 0. ,\n",
       "       3. , 0. , 0. , 0. , 0. , 5. , 0. , 0. , 4. , 0. , 3.5, 0. , 0. ,\n",
       "       0. , 0. , 0. , 0. , 0. , 0. , 0. , 5. , 2. , 0. , 4. , 0. , 0. ,\n",
       "       0. , 0. , 0. , 4. , 0. , 4. , 0. , 0. , 0. , 0. , 0. , 0. , 0. ,\n",
       "       0. , 0. , 2.5, 0. , 4. , 0. , 4. , 0. , 4.5, 0. , 0. , 0. , 0. ,\n",
       "       4. , 0. , 0. , 0. , 0. , 5. , 0. , 0. , 5. , 0. , 5. , 0. , 0. ,\n",
       "       5. , 0. , 0. , 0. , 4.5, 0. , 1.5, 0. , 0. , 0. , 0. , 0. , 4. ,\n",
       "       4. , 4. , 5. , 0. , 0. , 4. , 0. , 4. , 4. , 0. , 0. , 3. , 0. ,\n",
       "       0. , 4. , 4.5, 0. , 0. , 0. , 4.5, 0. , 3.5, 0. , 4. , 0. , 0. ,\n",
       "       0. , 0. , 0. , 0. , 0. , 4. , 0. , 0. , 0. , 4. , 0. , 0. , 0. ,\n",
       "       0. , 4. , 0. , 0. , 0. , 0. , 4. , 0. , 0. , 4. , 0. , 0. , 0. ,\n",
       "       0. , 3. , 0. , 4. , 4. , 0. , 0. , 2.5, 3. , 0. , 0. , 0. , 5. ,\n",
       "       4. , 0. , 0. , 0. , 0. , 0. , 0. , 3. , 0. , 0. , 3. , 0. , 0. ,\n",
       "       0. , 0. , 0. , 4. , 0. , 0. , 0. , 0. , 4. , 0. , 0. , 0. , 5. ,\n",
       "       3. , 4. , 4.5, 0. , 0. , 0. , 0. , 3.5, 0. , 0. , 4. , 0. , 4. ,\n",
       "       5. , 0. , 0. , 0. , 0. , 0. , 4. , 3. , 0. , 0. , 0. , 5. , 0. ,\n",
       "       0. , 5. , 0. , 0. , 4. , 0. , 0. , 0. , 0. , 0. , 4. , 4. , 0. ,\n",
       "       3. , 2.5, 4. , 0. , 4. , 3. , 4. , 2.5, 4. , 2.5, 3. , 5. ])"
      ]
     },
     "execution_count": 32,
     "metadata": {},
     "output_type": "execute_result"
    }
   ],
   "source": [
    "target_movie"
   ]
  },
  {
   "cell_type": "code",
   "execution_count": 34,
   "metadata": {
    "ExecuteTime": {
     "end_time": "2020-02-07T16:52:20.362051Z",
     "start_time": "2020-02-07T16:52:19.884391Z"
    }
   },
   "outputs": [],
   "source": [
    "for m in movie_names:\n",
    "    distances[m] = euclidean(target_movie, movie_to_vector[m])"
   ]
  },
  {
   "cell_type": "code",
   "execution_count": 37,
   "metadata": {
    "ExecuteTime": {
     "end_time": "2020-02-07T16:52:42.336802Z",
     "start_time": "2020-02-07T16:52:42.332591Z"
    }
   },
   "outputs": [
    {
     "data": {
      "text/plain": [
       "57.53477209479499"
      ]
     },
     "execution_count": 37,
     "metadata": {},
     "output_type": "execute_result"
    }
   ],
   "source": [
    "distances['Heat (1995)']"
   ]
  },
  {
   "cell_type": "code",
   "execution_count": 36,
   "metadata": {
    "ExecuteTime": {
     "end_time": "2020-02-07T16:52:35.112598Z",
     "start_time": "2020-02-07T16:52:35.108060Z"
    },
    "scrolled": true
   },
   "outputs": [
    {
     "data": {
      "text/plain": [
       "'Heat (1995)'"
      ]
     },
     "execution_count": 36,
     "metadata": {},
     "output_type": "execute_result"
    }
   ],
   "source": [
    "list(distances.keys())[2]"
   ]
  },
  {
   "cell_type": "code",
   "execution_count": 49,
   "metadata": {
    "ExecuteTime": {
     "end_time": "2020-02-07T16:59:09.446848Z",
     "start_time": "2020-02-07T16:59:09.440971Z"
    }
   },
   "outputs": [],
   "source": [
    "distances_with_idx = [(i, distances[m]) for i, m in enumerate(movie_names)]"
   ]
  },
  {
   "cell_type": "code",
   "execution_count": 50,
   "metadata": {
    "ExecuteTime": {
     "end_time": "2020-02-07T16:59:10.122077Z",
     "start_time": "2020-02-07T16:59:10.116413Z"
    },
    "scrolled": true
   },
   "outputs": [],
   "source": [
    "distances_with_idx = sorted(distances_with_idx, key=lambda t: t[1], reverse=False)"
   ]
  },
  {
   "cell_type": "code",
   "execution_count": 52,
   "metadata": {
    "ExecuteTime": {
     "end_time": "2020-02-07T16:59:31.534593Z",
     "start_time": "2020-02-07T16:59:31.530215Z"
    }
   },
   "outputs": [
    {
     "data": {
      "text/plain": [
       "[(0, 0.0),\n",
       " (735, 48.46906229751097),\n",
       " (37, 51.66720429827803),\n",
       " (42, 51.686555311802316),\n",
       " (1600, 52.00721103847042),\n",
       " (1430, 52.05766033928148),\n",
       " (60, 52.20632145631408),\n",
       " (460, 52.42852277148384),\n",
       " (84, 52.4642735582987),\n",
       " (22, 52.52142420003479)]"
      ]
     },
     "execution_count": 52,
     "metadata": {},
     "output_type": "execute_result"
    }
   ],
   "source": [
    "distances_with_idx[:10]"
   ]
  },
  {
   "cell_type": "code",
   "execution_count": 53,
   "metadata": {
    "ExecuteTime": {
     "end_time": "2020-02-07T17:00:05.117499Z",
     "start_time": "2020-02-07T17:00:05.111946Z"
    }
   },
   "outputs": [
    {
     "data": {
      "text/plain": [
       "[('Toy Story (1995)', 0.0),\n",
       " ('Toy Story 2 (1999)', 48.46906229751097),\n",
       " ('Mission: Impossible (1996)', 51.66720429827803),\n",
       " ('Independence Day (a.k.a. ID4) (1996)', 51.686555311802316),\n",
       " (\"Bug's Life, A (1998)\", 52.00721103847042),\n",
       " ('Nutty Professor, The (1996)', 52.05766033928148),\n",
       " ('Willy Wonka & the Chocolate Factory (1971)', 52.20632145631408),\n",
       " ('Babe (1995)', 52.42852277148384),\n",
       " ('Groundhog Day (1993)', 52.4642735582987),\n",
       " ('Mask, The (1994)', 52.52142420003479)]"
      ]
     },
     "execution_count": 53,
     "metadata": {},
     "output_type": "execute_result"
    }
   ],
   "source": [
    "[(movie_names[i], d) for i, d in distances_with_idx[:10]]"
   ]
  },
  {
   "cell_type": "code",
   "execution_count": null,
   "metadata": {},
   "outputs": [],
   "source": [
    "# [i for i in smth] <- List Comprehension"
   ]
  },
  {
   "cell_type": "code",
   "execution_count": 58,
   "metadata": {
    "ExecuteTime": {
     "end_time": "2020-02-07T17:01:20.327752Z",
     "start_time": "2020-02-07T17:01:20.180596Z"
    }
   },
   "outputs": [
    {
     "data": {
      "text/plain": [
       "[('Toy Story (1995)', 0.0),\n",
       " ('Toy Story 2 (1999)', 608.5),\n",
       " (\"Bug's Life, A (1998)\", 698.5),\n",
       " ('Groundhog Day (1993)', 714.0),\n",
       " ('Nutty Professor, The (1996)', 714.0),\n",
       " ('Willy Wonka & the Chocolate Factory (1971)', 718.0),\n",
       " ('Mission: Impossible (1996)', 722.0),\n",
       " ('Babe (1995)', 722.5),\n",
       " ('Monsters, Inc. (2001)', 725.0),\n",
       " ('Toy Story 3 (2010)', 728.0)]"
      ]
     },
     "execution_count": 58,
     "metadata": {},
     "output_type": "execute_result"
    }
   ],
   "source": [
    "find_similar('Toy Story (1995)', cityblock)"
   ]
  },
  {
   "cell_type": "code",
   "execution_count": null,
   "metadata": {},
   "outputs": [],
   "source": [
    "      u1  u2\n",
    "film1 5   0\n",
    "film2 5   0"
   ]
  },
  {
   "cell_type": "markdown",
   "metadata": {},
   "source": [
    "## User 2 Item"
   ]
  },
  {
   "cell_type": "code",
   "execution_count": 2,
   "metadata": {
    "ExecuteTime": {
     "end_time": "2019-09-02T16:59:10.600462Z",
     "start_time": "2019-09-02T16:59:08.982253Z"
    }
   },
   "outputs": [],
   "source": [
    "# !pip install surprise"
   ]
  },
  {
   "cell_type": "code",
   "execution_count": 59,
   "metadata": {
    "ExecuteTime": {
     "end_time": "2020-02-07T17:24:44.035149Z",
     "start_time": "2020-02-07T17:24:42.827011Z"
    }
   },
   "outputs": [],
   "source": [
    "from surprise import Dataset, Reader, KNNBasic\n",
    "from surprise.model_selection import train_test_split\n",
    "from surprise import accuracy"
   ]
  },
  {
   "cell_type": "code",
   "execution_count": 60,
   "metadata": {
    "ExecuteTime": {
     "end_time": "2020-02-07T17:24:47.476986Z",
     "start_time": "2020-02-07T17:24:47.440815Z"
    },
    "scrolled": true
   },
   "outputs": [
    {
     "data": {
      "text/html": [
       "<div>\n",
       "<style scoped>\n",
       "    .dataframe tbody tr th:only-of-type {\n",
       "        vertical-align: middle;\n",
       "    }\n",
       "\n",
       "    .dataframe tbody tr th {\n",
       "        vertical-align: top;\n",
       "    }\n",
       "\n",
       "    .dataframe thead th {\n",
       "        text-align: right;\n",
       "    }\n",
       "</style>\n",
       "<table border=\"1\" class=\"dataframe\">\n",
       "  <thead>\n",
       "    <tr style=\"text-align: right;\">\n",
       "      <th></th>\n",
       "      <th>userId</th>\n",
       "      <th>movieId</th>\n",
       "      <th>rating</th>\n",
       "      <th>timestamp</th>\n",
       "    </tr>\n",
       "  </thead>\n",
       "  <tbody>\n",
       "    <tr>\n",
       "      <th>count</th>\n",
       "      <td>100836.000000</td>\n",
       "      <td>100836.000000</td>\n",
       "      <td>100836.000000</td>\n",
       "      <td>1.008360e+05</td>\n",
       "    </tr>\n",
       "    <tr>\n",
       "      <th>mean</th>\n",
       "      <td>326.127564</td>\n",
       "      <td>19435.295718</td>\n",
       "      <td>3.501557</td>\n",
       "      <td>1.205946e+09</td>\n",
       "    </tr>\n",
       "    <tr>\n",
       "      <th>std</th>\n",
       "      <td>182.618491</td>\n",
       "      <td>35530.987199</td>\n",
       "      <td>1.042529</td>\n",
       "      <td>2.162610e+08</td>\n",
       "    </tr>\n",
       "    <tr>\n",
       "      <th>min</th>\n",
       "      <td>1.000000</td>\n",
       "      <td>1.000000</td>\n",
       "      <td>0.500000</td>\n",
       "      <td>8.281246e+08</td>\n",
       "    </tr>\n",
       "    <tr>\n",
       "      <th>25%</th>\n",
       "      <td>177.000000</td>\n",
       "      <td>1199.000000</td>\n",
       "      <td>3.000000</td>\n",
       "      <td>1.019124e+09</td>\n",
       "    </tr>\n",
       "    <tr>\n",
       "      <th>50%</th>\n",
       "      <td>325.000000</td>\n",
       "      <td>2991.000000</td>\n",
       "      <td>3.500000</td>\n",
       "      <td>1.186087e+09</td>\n",
       "    </tr>\n",
       "    <tr>\n",
       "      <th>75%</th>\n",
       "      <td>477.000000</td>\n",
       "      <td>8122.000000</td>\n",
       "      <td>4.000000</td>\n",
       "      <td>1.435994e+09</td>\n",
       "    </tr>\n",
       "    <tr>\n",
       "      <th>max</th>\n",
       "      <td>610.000000</td>\n",
       "      <td>193609.000000</td>\n",
       "      <td>5.000000</td>\n",
       "      <td>1.537799e+09</td>\n",
       "    </tr>\n",
       "  </tbody>\n",
       "</table>\n",
       "</div>"
      ],
      "text/plain": [
       "              userId        movieId         rating     timestamp\n",
       "count  100836.000000  100836.000000  100836.000000  1.008360e+05\n",
       "mean      326.127564   19435.295718       3.501557  1.205946e+09\n",
       "std       182.618491   35530.987199       1.042529  2.162610e+08\n",
       "min         1.000000       1.000000       0.500000  8.281246e+08\n",
       "25%       177.000000    1199.000000       3.000000  1.019124e+09\n",
       "50%       325.000000    2991.000000       3.500000  1.186087e+09\n",
       "75%       477.000000    8122.000000       4.000000  1.435994e+09\n",
       "max       610.000000  193609.000000       5.000000  1.537799e+09"
      ]
     },
     "execution_count": 60,
     "metadata": {},
     "output_type": "execute_result"
    }
   ],
   "source": [
    "df_ratings.describe()"
   ]
  },
  {
   "cell_type": "code",
   "execution_count": 61,
   "metadata": {
    "ExecuteTime": {
     "end_time": "2020-02-07T17:25:10.816315Z",
     "start_time": "2020-02-07T17:25:10.811531Z"
    }
   },
   "outputs": [],
   "source": [
    "df_for_surpise = df_ratings[['userId', 'movieId', 'rating']]"
   ]
  },
  {
   "cell_type": "code",
   "execution_count": 62,
   "metadata": {
    "ExecuteTime": {
     "end_time": "2020-02-07T17:25:20.238538Z",
     "start_time": "2020-02-07T17:25:20.234681Z"
    }
   },
   "outputs": [],
   "source": [
    "df_for_surpise.columns = ['uid', 'iid', 'rating']"
   ]
  },
  {
   "cell_type": "code",
   "execution_count": 63,
   "metadata": {
    "ExecuteTime": {
     "end_time": "2020-02-07T17:25:25.573977Z",
     "start_time": "2020-02-07T17:25:25.566938Z"
    }
   },
   "outputs": [
    {
     "data": {
      "text/html": [
       "<div>\n",
       "<style scoped>\n",
       "    .dataframe tbody tr th:only-of-type {\n",
       "        vertical-align: middle;\n",
       "    }\n",
       "\n",
       "    .dataframe tbody tr th {\n",
       "        vertical-align: top;\n",
       "    }\n",
       "\n",
       "    .dataframe thead th {\n",
       "        text-align: right;\n",
       "    }\n",
       "</style>\n",
       "<table border=\"1\" class=\"dataframe\">\n",
       "  <thead>\n",
       "    <tr style=\"text-align: right;\">\n",
       "      <th></th>\n",
       "      <th>uid</th>\n",
       "      <th>iid</th>\n",
       "      <th>rating</th>\n",
       "    </tr>\n",
       "  </thead>\n",
       "  <tbody>\n",
       "    <tr>\n",
       "      <th>0</th>\n",
       "      <td>1</td>\n",
       "      <td>1</td>\n",
       "      <td>4.0</td>\n",
       "    </tr>\n",
       "    <tr>\n",
       "      <th>1</th>\n",
       "      <td>1</td>\n",
       "      <td>3</td>\n",
       "      <td>4.0</td>\n",
       "    </tr>\n",
       "    <tr>\n",
       "      <th>2</th>\n",
       "      <td>1</td>\n",
       "      <td>6</td>\n",
       "      <td>4.0</td>\n",
       "    </tr>\n",
       "    <tr>\n",
       "      <th>3</th>\n",
       "      <td>1</td>\n",
       "      <td>47</td>\n",
       "      <td>5.0</td>\n",
       "    </tr>\n",
       "    <tr>\n",
       "      <th>4</th>\n",
       "      <td>1</td>\n",
       "      <td>50</td>\n",
       "      <td>5.0</td>\n",
       "    </tr>\n",
       "  </tbody>\n",
       "</table>\n",
       "</div>"
      ],
      "text/plain": [
       "   uid  iid  rating\n",
       "0    1    1     4.0\n",
       "1    1    3     4.0\n",
       "2    1    6     4.0\n",
       "3    1   47     5.0\n",
       "4    1   50     5.0"
      ]
     },
     "execution_count": 63,
     "metadata": {},
     "output_type": "execute_result"
    }
   ],
   "source": [
    "df_for_surpise.head()"
   ]
  },
  {
   "cell_type": "code",
   "execution_count": 64,
   "metadata": {
    "ExecuteTime": {
     "end_time": "2020-02-07T17:25:53.497951Z",
     "start_time": "2020-02-07T17:25:53.494901Z"
    }
   },
   "outputs": [],
   "source": [
    "reader = Reader(rating_scale=(0.5, 5))"
   ]
  },
  {
   "cell_type": "code",
   "execution_count": 65,
   "metadata": {
    "ExecuteTime": {
     "end_time": "2020-02-07T17:26:52.183400Z",
     "start_time": "2020-02-07T17:26:52.081635Z"
    }
   },
   "outputs": [],
   "source": [
    "dataset = Dataset.load_from_df(df_for_surpise, reader)"
   ]
  },
  {
   "cell_type": "code",
   "execution_count": 66,
   "metadata": {
    "ExecuteTime": {
     "end_time": "2020-02-07T17:27:04.694167Z",
     "start_time": "2020-02-07T17:27:04.529469Z"
    }
   },
   "outputs": [],
   "source": [
    "trainset, testset = train_test_split(dataset, test_size=0.2)"
   ]
  },
  {
   "cell_type": "code",
   "execution_count": 69,
   "metadata": {
    "ExecuteTime": {
     "end_time": "2020-02-07T17:29:10.959334Z",
     "start_time": "2020-02-07T17:29:10.955882Z"
    }
   },
   "outputs": [],
   "source": [
    "algo = KNNBasic(k=40, sim_options={'name': 'cosine', 'user_based': True})"
   ]
  },
  {
   "cell_type": "code",
   "execution_count": 70,
   "metadata": {
    "ExecuteTime": {
     "end_time": "2020-02-07T17:29:12.136724Z",
     "start_time": "2020-02-07T17:29:11.819317Z"
    }
   },
   "outputs": [
    {
     "name": "stdout",
     "output_type": "stream",
     "text": [
      "Computing the cosine similarity matrix...\n",
      "Done computing similarity matrix.\n"
     ]
    },
    {
     "data": {
      "text/plain": [
       "<surprise.prediction_algorithms.knns.KNNBasic at 0x62d4215f8>"
      ]
     },
     "execution_count": 70,
     "metadata": {},
     "output_type": "execute_result"
    }
   ],
   "source": [
    "algo.fit(trainset)"
   ]
  },
  {
   "cell_type": "code",
   "execution_count": 71,
   "metadata": {
    "ExecuteTime": {
     "end_time": "2020-02-07T17:29:46.046783Z",
     "start_time": "2020-02-07T17:29:44.756624Z"
    }
   },
   "outputs": [],
   "source": [
    "predictions = algo.test(testset)"
   ]
  },
  {
   "cell_type": "code",
   "execution_count": 72,
   "metadata": {
    "ExecuteTime": {
     "end_time": "2020-02-07T17:29:54.834759Z",
     "start_time": "2020-02-07T17:29:54.814804Z"
    }
   },
   "outputs": [
    {
     "name": "stdout",
     "output_type": "stream",
     "text": [
      "MAE:  0.7517\n"
     ]
    },
    {
     "data": {
      "text/plain": [
       "0.7517221585569415"
      ]
     },
     "execution_count": 72,
     "metadata": {},
     "output_type": "execute_result"
    }
   ],
   "source": [
    "accuracy.mae(predictions)"
   ]
  },
  {
   "cell_type": "code",
   "execution_count": 73,
   "metadata": {
    "ExecuteTime": {
     "end_time": "2020-02-07T17:30:00.547187Z",
     "start_time": "2020-02-07T17:30:00.494347Z"
    },
    "scrolled": true
   },
   "outputs": [
    {
     "data": {
      "text/plain": [
       "[(563, 128832, 3.5),\n",
       " (464, 784, 1.5),\n",
       " (610, 81782, 3.5),\n",
       " (198, 3033, 3.0),\n",
       " (212, 79091, 4.0),\n",
       " (474, 7062, 4.0),\n",
       " (298, 112183, 3.5),\n",
       " (404, 261, 3.0),\n",
       " (330, 904, 3.5),\n",
       " (345, 3396, 3.0),\n",
       " (599, 562, 2.0),\n",
       " (105, 6708, 4.0),\n",
       " (380, 1515, 3.0),\n",
       " (292, 2959, 2.0),\n",
       " (610, 3785, 3.0),\n",
       " (209, 96079, 4.0),\n",
       " (522, 46578, 2.5),\n",
       " (51, 4447, 3.0),\n",
       " (608, 1129, 3.0),\n",
       " (341, 1270, 3.5),\n",
       " (217, 1729, 3.0),\n",
       " (226, 65, 3.0),\n",
       " (229, 410, 3.0),\n",
       " (105, 30803, 4.0),\n",
       " (428, 494, 2.0),\n",
       " (597, 1304, 5.0),\n",
       " (282, 1682, 4.5),\n",
       " (193, 1, 2.0),\n",
       " (123, 296, 4.0),\n",
       " (608, 110, 4.0),\n",
       " (577, 1097, 4.0),\n",
       " (387, 6868, 3.5),\n",
       " (530, 586, 3.0),\n",
       " (217, 1287, 3.0),\n",
       " (292, 103339, 3.0),\n",
       " (596, 34405, 4.0),\n",
       " (607, 949, 4.0),\n",
       " (240, 533, 3.0),\n",
       " (274, 8831, 3.5),\n",
       " (198, 441, 4.0),\n",
       " (483, 1923, 4.5),\n",
       " (592, 185, 3.0),\n",
       " (28, 47099, 3.0),\n",
       " (529, 780, 4.0),\n",
       " (148, 98243, 4.5),\n",
       " (298, 8464, 2.0),\n",
       " (249, 1954, 4.5),\n",
       " (325, 2391, 4.0),\n",
       " (346, 1172, 3.0),\n",
       " (73, 924, 4.0),\n",
       " (203, 2100, 3.0),\n",
       " (408, 96079, 3.0),\n",
       " (500, 1784, 5.0),\n",
       " (567, 101070, 2.5),\n",
       " (280, 88405, 3.5),\n",
       " (480, 36527, 4.0),\n",
       " (356, 223, 3.5),\n",
       " (480, 46530, 3.0),\n",
       " (290, 2699, 3.0),\n",
       " (318, 3159, 4.0),\n",
       " (288, 3095, 4.0),\n",
       " (74, 4427, 3.5),\n",
       " (109, 1015, 3.0),\n",
       " (474, 2003, 3.5),\n",
       " (603, 803, 4.0),\n",
       " (474, 2558, 2.0),\n",
       " (140, 1089, 3.0),\n",
       " (522, 66544, 4.0),\n",
       " (570, 110, 3.5),\n",
       " (483, 902, 4.0),\n",
       " (448, 81845, 4.5),\n",
       " (374, 434, 3.0),\n",
       " (414, 333, 3.0),\n",
       " (279, 168252, 4.0),\n",
       " (105, 293, 5.0),\n",
       " (274, 5064, 3.5),\n",
       " (380, 2533, 3.0),\n",
       " (102, 204, 2.0),\n",
       " (590, 3868, 3.0),\n",
       " (252, 78499, 5.0),\n",
       " (596, 2407, 4.0),\n",
       " (266, 1213, 5.0),\n",
       " (569, 344, 4.0),\n",
       " (22, 71464, 0.5),\n",
       " (105, 7438, 4.0),\n",
       " (352, 2288, 5.0),\n",
       " (599, 6267, 2.0),\n",
       " (530, 377, 3.0),\n",
       " (499, 1924, 3.0),\n",
       " (610, 53022, 4.5),\n",
       " (368, 3529, 3.0),\n",
       " (580, 3793, 4.5),\n",
       " (585, 4878, 3.0),\n",
       " (480, 4022, 4.5),\n",
       " (182, 3809, 3.5),\n",
       " (308, 2953, 3.0),\n",
       " (159, 1704, 5.0),\n",
       " (387, 8042, 4.0),\n",
       " (95, 6383, 3.5),\n",
       " (129, 260, 4.0),\n",
       " (274, 3744, 2.0),\n",
       " (298, 55118, 2.0),\n",
       " (47, 2959, 2.0),\n",
       " (599, 5361, 2.0),\n",
       " (187, 5244, 5.0),\n",
       " (68, 2989, 4.5),\n",
       " (559, 519, 2.0),\n",
       " (606, 3831, 4.0),\n",
       " (307, 1799, 2.5),\n",
       " (420, 5669, 4.0),\n",
       " (564, 8984, 3.5),\n",
       " (561, 6664, 3.5),\n",
       " (560, 6773, 4.0),\n",
       " (599, 76251, 3.0),\n",
       " (448, 1291, 4.0),\n",
       " (307, 2371, 2.0),\n",
       " (602, 2, 4.0),\n",
       " (599, 354, 2.0),\n",
       " (420, 48394, 4.5),\n",
       " (414, 52604, 4.0),\n",
       " (448, 367, 3.0),\n",
       " (305, 57669, 5.0),\n",
       " (234, 3175, 4.0),\n",
       " (307, 31424, 0.5),\n",
       " (207, 3740, 3.5),\n",
       " (606, 2145, 3.5),\n",
       " (561, 2997, 3.0),\n",
       " (606, 2671, 4.0),\n",
       " (369, 6663, 3.5),\n",
       " (448, 128520, 3.0),\n",
       " (57, 911, 4.0),\n",
       " (298, 5608, 2.5),\n",
       " (306, 5618, 3.5),\n",
       " (406, 1644, 2.0),\n",
       " (187, 253, 3.5),\n",
       " (587, 1958, 5.0),\n",
       " (425, 161, 3.5),\n",
       " (288, 3157, 3.0),\n",
       " (18, 112852, 4.5),\n",
       " (543, 86882, 5.0),\n",
       " (448, 4941, 5.0),\n",
       " (28, 733, 1.0),\n",
       " (491, 4018, 4.0),\n",
       " (48, 172, 3.5),\n",
       " (504, 5945, 3.0),\n",
       " (64, 4865, 4.0),\n",
       " (348, 912, 5.0),\n",
       " (153, 91529, 0.5),\n",
       " (116, 1270, 4.5),\n",
       " (20, 2709, 5.0),\n",
       " (414, 2146, 4.0),\n",
       " (400, 1210, 5.0),\n",
       " (608, 8783, 3.5),\n",
       " (600, 5971, 4.5),\n",
       " (539, 1197, 5.0),\n",
       " (68, 2985, 3.0),\n",
       " (387, 8928, 3.0),\n",
       " (396, 2081, 3.0),\n",
       " (103, 5810, 4.0),\n",
       " (232, 40339, 2.0),\n",
       " (140, 8970, 3.5),\n",
       " (600, 784, 2.5),\n",
       " (57, 2232, 1.0),\n",
       " (68, 31, 3.5),\n",
       " (232, 55768, 3.5),\n",
       " (232, 8958, 4.0),\n",
       " (33, 232, 4.0),\n",
       " (89, 135777, 4.5),\n",
       " (606, 1399, 4.0),\n",
       " (480, 47644, 3.5),\n",
       " (249, 1882, 2.5),\n",
       " (59, 733, 4.0),\n",
       " (68, 26712, 4.0),\n",
       " (111, 837, 4.0),\n",
       " (3, 1263, 0.5),\n",
       " (590, 7569, 3.0),\n",
       " (19, 3056, 4.0),\n",
       " (42, 3298, 4.0),\n",
       " (274, 43549, 3.5),\n",
       " (73, 96588, 3.5),\n",
       " (610, 103688, 4.0),\n",
       " (288, 2951, 3.5),\n",
       " (365, 47099, 2.0),\n",
       " (431, 903, 3.0),\n",
       " (305, 44195, 5.0),\n",
       " (597, 1732, 4.0),\n",
       " (510, 350, 0.5),\n",
       " (387, 2728, 3.5),\n",
       " (474, 3467, 3.5),\n",
       " (226, 37384, 2.5),\n",
       " (21, 59315, 4.0),\n",
       " (103, 2028, 4.0),\n",
       " (307, 26629, 1.5),\n",
       " (608, 719, 1.0),\n",
       " (597, 2088, 2.0),\n",
       " (323, 110102, 1.5),\n",
       " (438, 19, 3.0),\n",
       " (354, 5956, 4.0),\n",
       " (201, 2424, 4.0),\n",
       " (125, 113741, 4.0),\n",
       " (232, 1028, 3.5),\n",
       " (365, 86293, 4.0),\n",
       " (427, 110, 4.0),\n",
       " (219, 3949, 4.0),\n",
       " (42, 1806, 2.0),\n",
       " (600, 2700, 3.5),\n",
       " (448, 3276, 1.0),\n",
       " (573, 2094, 2.5),\n",
       " (307, 52458, 2.5),\n",
       " (414, 2836, 5.0),\n",
       " (448, 98279, 3.0),\n",
       " (232, 145, 3.5),\n",
       " (169, 3916, 5.0),\n",
       " (437, 318, 5.0),\n",
       " (357, 1220, 3.0),\n",
       " (78, 2000, 4.0),\n",
       " (509, 5446, 3.0),\n",
       " (608, 5308, 1.5),\n",
       " (585, 2076, 4.0),\n",
       " (181, 464, 3.0),\n",
       " (139, 106782, 0.5),\n",
       " (607, 1968, 5.0),\n",
       " (434, 230, 2.5),\n",
       " (63, 1617, 4.0),\n",
       " (122, 784, 5.0),\n",
       " (169, 4880, 4.0),\n",
       " (113, 3217, 3.0),\n",
       " (73, 109374, 5.0),\n",
       " (132, 319, 2.5),\n",
       " (543, 2421, 5.0),\n",
       " (606, 6832, 3.5),\n",
       " (414, 5951, 2.5),\n",
       " (475, 69526, 4.0),\n",
       " (380, 4369, 3.0),\n",
       " (111, 4255, 2.0),\n",
       " (288, 2470, 3.5),\n",
       " (608, 1717, 3.5),\n",
       " (600, 1007, 3.0),\n",
       " (414, 48982, 2.5),\n",
       " (275, 4205, 3.0),\n",
       " (200, 5481, 3.5),\n",
       " (288, 380, 3.0),\n",
       " (328, 4963, 3.0),\n",
       " (292, 6377, 3.5),\n",
       " (339, 1594, 4.5),\n",
       " (328, 924, 4.0),\n",
       " (414, 137857, 4.0),\n",
       " (505, 7387, 5.0),\n",
       " (387, 1617, 4.5),\n",
       " (425, 586, 2.5),\n",
       " (166, 2329, 5.0),\n",
       " (346, 47, 3.5),\n",
       " (50, 3730, 4.0),\n",
       " (606, 4239, 3.5),\n",
       " (232, 4022, 4.0),\n",
       " (288, 1016, 3.5),\n",
       " (562, 2232, 5.0),\n",
       " (610, 6283, 4.5),\n",
       " (596, 3785, 2.5),\n",
       " (424, 2797, 3.5),\n",
       " (219, 4270, 2.5),\n",
       " (563, 33669, 3.5),\n",
       " (448, 2769, 2.0),\n",
       " (610, 4367, 2.0),\n",
       " (44, 260, 5.0),\n",
       " (599, 31921, 2.5),\n",
       " (365, 67734, 2.5),\n",
       " (111, 98203, 1.5),\n",
       " (583, 44193, 3.5),\n",
       " (570, 208, 2.5),\n",
       " (381, 150, 3.5),\n",
       " (599, 424, 1.5),\n",
       " (414, 6332, 2.0),\n",
       " (474, 4799, 1.5),\n",
       " (219, 1500, 2.5),\n",
       " (74, 2858, 5.0),\n",
       " (28, 253, 3.0),\n",
       " (588, 6, 5.0),\n",
       " (495, 1721, 5.0),\n",
       " (570, 4020, 3.5),\n",
       " (18, 6787, 4.0),\n",
       " (89, 1517, 2.5),\n",
       " (28, 1884, 2.5),\n",
       " (260, 1500, 4.5),\n",
       " (105, 77561, 3.5),\n",
       " (603, 4711, 4.0),\n",
       " (462, 111360, 3.5),\n",
       " (91, 5346, 2.5),\n",
       " (214, 736, 2.0),\n",
       " (313, 2746, 2.0),\n",
       " (187, 4226, 4.0),\n",
       " (298, 60074, 1.0),\n",
       " (610, 32, 4.5),\n",
       " (534, 112175, 3.0),\n",
       " (479, 4499, 5.0),\n",
       " (586, 166528, 4.5),\n",
       " (351, 3252, 4.0),\n",
       " (166, 3213, 4.5),\n",
       " (330, 410, 2.5),\n",
       " (561, 79695, 2.5),\n",
       " (385, 1079, 4.0),\n",
       " (68, 2710, 1.0),\n",
       " (437, 246, 5.0),\n",
       " (177, 4308, 4.0),\n",
       " (593, 1197, 1.5),\n",
       " (295, 296, 5.0),\n",
       " (599, 1515, 1.5),\n",
       " (434, 6711, 4.0),\n",
       " (117, 262, 3.0),\n",
       " (132, 8808, 2.5),\n",
       " (539, 318, 4.0),\n",
       " (610, 3683, 3.5),\n",
       " (126, 434, 3.0),\n",
       " (45, 5378, 5.0),\n",
       " (98, 1207, 4.0),\n",
       " (28, 8950, 4.0),\n",
       " (412, 2762, 3.0),\n",
       " (68, 3793, 4.5),\n",
       " (372, 858, 5.0),\n",
       " (275, 4903, 4.0),\n",
       " (347, 11, 4.0),\n",
       " (600, 3504, 2.0),\n",
       " (342, 2355, 4.0),\n",
       " (509, 3578, 3.0),\n",
       " (57, 3441, 4.0),\n",
       " (200, 56949, 4.0),\n",
       " (412, 34, 5.0),\n",
       " (482, 6320, 1.0),\n",
       " (453, 1136, 5.0),\n",
       " (561, 1230, 4.0),\n",
       " (262, 640, 3.0),\n",
       " (365, 5816, 2.5),\n",
       " (381, 53125, 4.0),\n",
       " (156, 3087, 3.0),\n",
       " (414, 466, 2.0),\n",
       " (181, 165, 3.0),\n",
       " (62, 115569, 4.5),\n",
       " (18, 329, 4.0),\n",
       " (414, 5621, 1.0),\n",
       " (522, 608, 3.0),\n",
       " (169, 8641, 5.0),\n",
       " (221, 2336, 4.0),\n",
       " (525, 5785, 0.5),\n",
       " (599, 2794, 1.5),\n",
       " (313, 2617, 4.0),\n",
       " (249, 104, 3.5),\n",
       " (455, 315, 3.0),\n",
       " (599, 161008, 2.5),\n",
       " (305, 919, 5.0),\n",
       " (603, 2155, 4.0),\n",
       " (330, 7153, 4.0),\n",
       " (232, 40962, 2.5),\n",
       " (607, 2918, 3.0),\n",
       " (300, 527, 5.0),\n",
       " (185, 3753, 3.0),\n",
       " (287, 2395, 2.0),\n",
       " (495, 5400, 2.5),\n",
       " (412, 903, 4.0),\n",
       " (429, 595, 5.0),\n",
       " (105, 118696, 4.0),\n",
       " (182, 788, 2.0),\n",
       " (600, 6558, 3.5),\n",
       " (19, 2953, 3.0),\n",
       " (339, 71464, 4.5),\n",
       " (414, 3555, 3.0),\n",
       " (414, 635, 3.0),\n",
       " (308, 6, 1.0),\n",
       " (125, 68954, 4.0),\n",
       " (177, 49286, 3.5),\n",
       " (605, 41566, 4.5),\n",
       " (210, 56174, 2.5),\n",
       " (356, 5445, 3.5),\n",
       " (51, 1024, 4.0),\n",
       " (153, 4306, 2.0),\n",
       " (597, 543, 3.0),\n",
       " (114, 5349, 4.0),\n",
       " (381, 2294, 3.0),\n",
       " (89, 32031, 5.0),\n",
       " (312, 527, 5.0),\n",
       " (160, 1971, 1.0),\n",
       " (506, 112556, 3.0),\n",
       " (78, 1240, 5.0),\n",
       " (479, 3504, 4.0),\n",
       " (469, 29, 4.0),\n",
       " (91, 6503, 1.0),\n",
       " (294, 2023, 3.0),\n",
       " (448, 2858, 4.0),\n",
       " (162, 277, 5.0),\n",
       " (546, 1977, 4.0),\n",
       " (352, 2997, 3.0),\n",
       " (68, 1466, 3.5),\n",
       " (560, 4027, 4.5),\n",
       " (560, 1246, 3.5),\n",
       " (191, 272, 5.0),\n",
       " (596, 4306, 4.0),\n",
       " (606, 4975, 3.5),\n",
       " (6, 336, 3.0),\n",
       " (165, 5956, 3.0),\n",
       " (239, 47099, 2.5),\n",
       " (474, 2176, 3.5),\n",
       " (28, 1171, 3.0),\n",
       " (380, 2328, 3.0),\n",
       " (352, 115210, 4.5),\n",
       " (583, 2485, 2.0),\n",
       " (305, 33166, 5.0),\n",
       " (414, 51412, 2.0),\n",
       " (64, 2694, 3.0),\n",
       " (18, 95441, 2.5),\n",
       " (3, 914, 0.5),\n",
       " (198, 1446, 5.0),\n",
       " (226, 7147, 4.5),\n",
       " (1, 2012, 4.0),\n",
       " (608, 5903, 5.0),\n",
       " (570, 2640, 3.0),\n",
       " (139, 106489, 4.0),\n",
       " (298, 750, 3.0),\n",
       " (489, 477, 3.0),\n",
       " (501, 18, 5.0),\n",
       " (380, 49649, 3.0),\n",
       " (474, 232, 4.0),\n",
       " (551, 1917, 4.0),\n",
       " (339, 750, 5.0),\n",
       " (217, 2561, 3.0),\n",
       " (608, 39, 3.0),\n",
       " (382, 48598, 3.5),\n",
       " (111, 4649, 4.5),\n",
       " (298, 2134, 3.0),\n",
       " (599, 3578, 3.5),\n",
       " (294, 1591, 1.0),\n",
       " (200, 4816, 5.0),\n",
       " (221, 4605, 4.5),\n",
       " (474, 2615, 3.0),\n",
       " (432, 73017, 3.5),\n",
       " (408, 4701, 4.0),\n",
       " (95, 8633, 4.5),\n",
       " (58, 736, 3.0),\n",
       " (489, 3717, 1.5),\n",
       " (381, 2617, 4.0),\n",
       " (414, 33838, 3.5),\n",
       " (19, 161, 2.0),\n",
       " (199, 4027, 4.0),\n",
       " (504, 7151, 4.0),\n",
       " (23, 454, 2.5),\n",
       " (590, 3977, 2.5),\n",
       " (274, 32596, 2.5),\n",
       " (606, 7292, 2.5),\n",
       " (414, 80126, 4.0),\n",
       " (570, 1265, 4.0),\n",
       " (599, 44828, 2.5),\n",
       " (359, 1960, 4.5),\n",
       " (528, 589, 4.0),\n",
       " (73, 69644, 1.0),\n",
       " (600, 4467, 5.0),\n",
       " (141, 3255, 4.0),\n",
       " (51, 6371, 0.5),\n",
       " (140, 3755, 4.0),\n",
       " (514, 1978, 2.0),\n",
       " (140, 3100, 3.0),\n",
       " (590, 915, 3.5),\n",
       " (306, 85367, 3.5),\n",
       " (339, 79132, 5.0),\n",
       " (104, 3060, 4.0),\n",
       " (290, 2394, 4.0),\n",
       " (298, 5992, 2.5),\n",
       " (99, 435, 2.0),\n",
       " (305, 79251, 4.0),\n",
       " (125, 68157, 2.5),\n",
       " (132, 1097, 3.5),\n",
       " (187, 7981, 4.0),\n",
       " (448, 47950, 3.0),\n",
       " (226, 1911, 2.5),\n",
       " (198, 1172, 5.0),\n",
       " (63, 5418, 4.0),\n",
       " (599, 2872, 3.5),\n",
       " (340, 589, 4.0),\n",
       " (357, 1994, 3.5),\n",
       " (600, 552, 3.5),\n",
       " (222, 8641, 2.5),\n",
       " (368, 1799, 3.0),\n",
       " (3, 688, 0.5),\n",
       " (149, 1882, 1.0),\n",
       " (391, 1408, 4.0),\n",
       " (509, 8368, 3.5),\n",
       " (572, 1299, 4.0),\n",
       " (379, 364, 3.0),\n",
       " (387, 52241, 3.5),\n",
       " (6, 839, 3.0),\n",
       " (75, 7001, 4.0),\n",
       " (275, 4002, 3.0),\n",
       " (68, 69844, 4.0),\n",
       " (356, 1291, 4.5),\n",
       " (562, 4936, 4.0),\n",
       " (287, 1197, 3.5),\n",
       " (474, 3217, 3.5),\n",
       " (66, 3098, 4.5),\n",
       " (80, 3826, 3.5),\n",
       " (412, 1848, 2.0),\n",
       " (474, 5437, 3.0),\n",
       " (182, 3784, 3.5),\n",
       " (58, 454, 3.0),\n",
       " (150, 648, 4.0),\n",
       " (177, 68954, 4.0),\n",
       " (561, 4262, 4.0),\n",
       " (167, 4980, 3.0),\n",
       " (50, 1566, 2.5),\n",
       " (391, 150, 4.0),\n",
       " (448, 1214, 3.0),\n",
       " (318, 165969, 4.5),\n",
       " (137, 904, 4.0),\n",
       " (105, 5888, 5.0),\n",
       " (410, 2186, 5.0),\n",
       " (187, 8607, 4.0),\n",
       " (432, 3753, 3.5),\n",
       " (480, 4262, 3.5),\n",
       " (91, 3681, 4.0),\n",
       " (474, 8337, 4.0),\n",
       " (63, 4262, 2.5),\n",
       " (31, 1197, 5.0),\n",
       " (16, 4002, 3.5),\n",
       " (409, 2599, 5.0),\n",
       " (411, 527, 5.0),\n",
       " (510, 497, 1.5),\n",
       " (318, 69122, 3.5),\n",
       " (356, 203, 3.5),\n",
       " (219, 4975, 3.5),\n",
       " (594, 2617, 3.5),\n",
       " (372, 260, 4.0),\n",
       " (448, 82378, 2.5),\n",
       " (600, 56775, 0.5),\n",
       " (111, 171891, 3.5),\n",
       " (610, 464, 4.0),\n",
       " (489, 5218, 3.5),\n",
       " (438, 1876, 3.0),\n",
       " (239, 1213, 5.0),\n",
       " (288, 2259, 2.0),\n",
       " (318, 71453, 4.0),\n",
       " (103, 2018, 3.5),\n",
       " (78, 380, 4.0),\n",
       " (462, 4863, 4.5),\n",
       " (168, 1617, 4.5),\n",
       " (543, 2381, 5.0),\n",
       " (555, 1997, 3.0),\n",
       " (448, 4660, 4.0),\n",
       " (561, 4085, 4.0),\n",
       " (527, 733, 5.0),\n",
       " (147, 168, 0.5),\n",
       " (105, 69122, 4.5),\n",
       " (89, 121338, 4.5),\n",
       " (132, 1333, 2.0),\n",
       " (555, 2530, 5.0),\n",
       " (7, 5464, 3.0),\n",
       " (555, 1290, 4.0),\n",
       " (248, 91500, 3.0),\n",
       " (486, 95, 3.0),\n",
       " (305, 97304, 4.5),\n",
       " (561, 440, 2.5),\n",
       " (318, 102445, 3.5),\n",
       " (59, 2075, 5.0),\n",
       " (561, 527, 4.0),\n",
       " (298, 122892, 3.5),\n",
       " (543, 2858, 5.0),\n",
       " (19, 881, 1.0),\n",
       " (292, 3624, 3.0),\n",
       " (266, 2278, 5.0),\n",
       " (469, 933, 4.0),\n",
       " (422, 3037, 4.0),\n",
       " (274, 198, 4.0),\n",
       " (298, 93510, 2.5),\n",
       " (305, 71156, 4.0),\n",
       " (181, 707, 3.0),\n",
       " (495, 4995, 5.0),\n",
       " (357, 69844, 4.5),\n",
       " (332, 4973, 4.0),\n",
       " (464, 1370, 2.0),\n",
       " (220, 318, 5.0),\n",
       " (239, 349, 4.5),\n",
       " (6, 276, 4.0),\n",
       " (603, 1096, 3.0),\n",
       " (414, 5324, 2.0),\n",
       " (475, 4993, 5.0),\n",
       " (74, 1247, 4.0),\n",
       " (361, 5418, 4.0),\n",
       " (280, 86833, 5.0),\n",
       " (19, 3551, 3.0),\n",
       " (521, 1073, 4.0),\n",
       " (483, 158, 2.0),\n",
       " (1, 1644, 3.0),\n",
       " (239, 2916, 3.0),\n",
       " (402, 293, 3.0),\n",
       " (21, 8665, 4.0),\n",
       " (62, 179401, 3.5),\n",
       " (298, 4720, 0.5),\n",
       " (380, 106642, 5.0),\n",
       " (590, 2291, 3.5),\n",
       " (50, 74458, 2.5),\n",
       " (182, 6383, 0.5),\n",
       " (441, 98809, 3.5),\n",
       " (357, 79132, 4.0),\n",
       " (318, 41569, 3.5),\n",
       " (344, 5618, 4.5),\n",
       " (545, 49284, 1.5),\n",
       " (89, 66798, 3.5),\n",
       " (21, 7143, 4.0),\n",
       " (254, 2542, 4.5),\n",
       " (590, 1732, 4.0),\n",
       " (405, 7134, 4.0),\n",
       " (482, 6566, 3.5),\n",
       " (474, 7883, 3.5),\n",
       " (377, 84799, 4.5),\n",
       " (284, 186, 4.0),\n",
       " (271, 6787, 3.5),\n",
       " (135, 3624, 4.0),\n",
       " (490, 296, 4.0),\n",
       " (596, 59315, 3.5),\n",
       " (318, 144478, 4.5),\n",
       " (42, 3535, 4.0),\n",
       " (401, 239, 4.5),\n",
       " (232, 71254, 3.5),\n",
       " (560, 33493, 4.0),\n",
       " (64, 553, 4.0),\n",
       " (256, 4974, 3.5),\n",
       " (179, 1061, 4.0),\n",
       " (265, 3766, 3.0),\n",
       " (534, 7569, 4.0),\n",
       " (290, 1957, 4.0),\n",
       " (553, 2502, 4.0),\n",
       " (381, 1015, 3.5),\n",
       " (570, 520, 1.5),\n",
       " (92, 837, 5.0),\n",
       " (449, 5952, 2.0),\n",
       " (555, 3662, 3.0),\n",
       " (103, 2423, 5.0),\n",
       " (316, 367, 2.5),\n",
       " (298, 8528, 3.0),\n",
       " (387, 48394, 4.0),\n",
       " (514, 2746, 3.5),\n",
       " (414, 3949, 4.0),\n",
       " (292, 5108, 2.0),\n",
       " (30, 91529, 5.0),\n",
       " (84, 377, 4.0),\n",
       " (463, 3448, 3.0),\n",
       " (555, 3693, 3.0),\n",
       " (380, 33085, 3.0),\n",
       " (249, 102903, 4.0),\n",
       " (514, 73854, 4.5),\n",
       " (140, 3681, 4.0),\n",
       " (599, 3197, 2.0),\n",
       " (414, 1249, 5.0),\n",
       " (19, 3671, 3.0),\n",
       " (213, 912, 3.5),\n",
       " (68, 95624, 3.0),\n",
       " (448, 2412, 2.0),\n",
       " (164, 2640, 4.0),\n",
       " (381, 54272, 3.0),\n",
       " (469, 3801, 4.0),\n",
       " (608, 5299, 3.0),\n",
       " (217, 1608, 4.0),\n",
       " (477, 7439, 3.0),\n",
       " (469, 2403, 4.0),\n",
       " (483, 110297, 3.5),\n",
       " (91, 2115, 3.5),\n",
       " (4, 1282, 5.0),\n",
       " (474, 2302, 2.0),\n",
       " (448, 68157, 3.5),\n",
       " (480, 6857, 3.0),\n",
       " (119, 33615, 4.0),\n",
       " (352, 2600, 4.0),\n",
       " (354, 53996, 4.5),\n",
       " (198, 920, 5.0),\n",
       " (274, 27604, 3.5),\n",
       " (100, 1290, 4.0),\n",
       " (606, 4638, 2.5),\n",
       " (125, 52328, 2.5),\n",
       " (475, 53464, 3.5),\n",
       " (254, 8874, 3.5),\n",
       " (287, 5902, 3.5),\n",
       " (474, 6305, 4.5),\n",
       " (233, 1136, 3.0),\n",
       " (104, 41573, 3.5),\n",
       " (603, 4811, 2.0),\n",
       " (169, 3967, 5.0),\n",
       " (520, 72998, 4.5),\n",
       " (167, 720, 4.0),\n",
       " (249, 112070, 3.5),\n",
       " (527, 2742, 1.0),\n",
       " (426, 587, 2.0),\n",
       " (202, 2529, 4.0),\n",
       " (414, 52973, 4.0),\n",
       " (469, 926, 4.0),\n",
       " (182, 3629, 4.5),\n",
       " (223, 2316, 4.5),\n",
       " (201, 46, 1.0),\n",
       " (23, 8961, 3.0),\n",
       " (410, 4019, 2.0),\n",
       " (28, 6974, 3.0),\n",
       " (567, 260, 2.0),\n",
       " (599, 6620, 2.5),\n",
       " (416, 2858, 3.5),\n",
       " (391, 3355, 2.0),\n",
       " (70, 5995, 4.0),\n",
       " (525, 4015, 2.0),\n",
       " (608, 2011, 2.5),\n",
       " (73, 50685, 3.5),\n",
       " (226, 3471, 3.0),\n",
       " (504, 6953, 4.0),\n",
       " (415, 377, 3.5),\n",
       " (104, 5957, 3.5),\n",
       " (64, 4002, 4.5),\n",
       " (274, 3213, 3.5),\n",
       " (338, 174053, 5.0),\n",
       " (446, 186, 3.0),\n",
       " (339, 1219, 4.0),\n",
       " (365, 8644, 3.0),\n",
       " (610, 113348, 2.5),\n",
       " (586, 122918, 5.0),\n",
       " (28, 5782, 4.5),\n",
       " (432, 2018, 3.5),\n",
       " (18, 508, 4.0),\n",
       " (597, 1641, 4.0),\n",
       " (160, 442, 2.0),\n",
       " (534, 69122, 4.0),\n",
       " (438, 3175, 3.5),\n",
       " (474, 5693, 3.5),\n",
       " (474, 4218, 3.5),\n",
       " (226, 1394, 4.0),\n",
       " (414, 33826, 2.5),\n",
       " (391, 110, 5.0),\n",
       " (560, 2012, 2.5),\n",
       " (561, 110, 5.0),\n",
       " (232, 6711, 3.5),\n",
       " (275, 921, 5.0),\n",
       " (599, 2841, 1.5),\n",
       " (19, 1617, 4.0),\n",
       " (57, 2935, 4.0),\n",
       " (298, 54001, 3.0),\n",
       " (157, 2392, 3.0),\n",
       " (66, 1527, 3.0),\n",
       " (448, 136654, 1.5),\n",
       " (385, 339, 3.0),\n",
       " (160, 79, 1.0),\n",
       " (432, 3273, 1.5),\n",
       " (156, 2131, 5.0),\n",
       " (380, 7570, 4.0),\n",
       " (474, 2236, 3.5),\n",
       " (380, 4531, 3.0),\n",
       " (68, 46970, 3.0),\n",
       " (308, 2762, 0.5),\n",
       " (91, 349, 3.0),\n",
       " (108, 4994, 3.0),\n",
       " (564, 63131, 3.5),\n",
       " (234, 34, 3.0),\n",
       " (490, 5, 0.5),\n",
       " (73, 69481, 4.5),\n",
       " (380, 79695, 2.0),\n",
       " (42, 195, 3.0),\n",
       " (182, 3740, 4.0),\n",
       " (362, 6934, 4.0),\n",
       " (580, 2528, 2.0),\n",
       " (466, 8957, 4.0),\n",
       " (202, 2288, 4.0),\n",
       " (380, 3113, 4.0),\n",
       " (603, 3683, 5.0),\n",
       " (545, 3273, 3.0),\n",
       " (95, 1291, 3.5),\n",
       " (307, 457, 3.0),\n",
       " (381, 231, 2.5),\n",
       " (68, 3285, 2.0),\n",
       " (555, 2403, 3.0),\n",
       " (554, 593, 5.0),\n",
       " (464, 1923, 3.0),\n",
       " (561, 104879, 3.0),\n",
       " (249, 99728, 4.0),\n",
       " (246, 7669, 5.0),\n",
       " (134, 160, 3.0),\n",
       " (288, 2136, 3.0),\n",
       " (531, 919, 3.0),\n",
       " (186, 2617, 5.0),\n",
       " (130, 225, 5.0),\n",
       " (405, 32, 4.5),\n",
       " (555, 3793, 3.0),\n",
       " (310, 4483, 1.0),\n",
       " (608, 1513, 0.5),\n",
       " (307, 1973, 2.0),\n",
       " (477, 45447, 4.0),\n",
       " (167, 173, 2.5),\n",
       " (50, 54272, 2.5),\n",
       " (606, 3295, 4.0),\n",
       " (606, 1365, 3.5),\n",
       " (599, 87, 0.5),\n",
       " (292, 8360, 3.0),\n",
       " (64, 1293, 5.0),\n",
       " (221, 7311, 3.5),\n",
       " (461, 539, 4.0),\n",
       " (514, 6299, 2.5),\n",
       " (60, 6016, 4.0),\n",
       " (522, 62849, 5.0),\n",
       " (370, 589, 4.0),\n",
       " (119, 80463, 5.0),\n",
       " (573, 1270, 4.5),\n",
       " (177, 8984, 3.5),\n",
       " (572, 1276, 5.0),\n",
       " (177, 4823, 3.5),\n",
       " (359, 2407, 3.5),\n",
       " (152, 47, 5.0),\n",
       " (202, 2, 4.0),\n",
       " (480, 474, 3.0),\n",
       " (480, 5673, 3.5),\n",
       " (282, 47610, 4.5),\n",
       " (182, 32, 4.0),\n",
       " (599, 2622, 2.0),\n",
       " (488, 6385, 5.0),\n",
       " (477, 745, 5.0),\n",
       " (159, 186, 3.0),\n",
       " (66, 260, 2.5),\n",
       " (307, 59421, 3.0),\n",
       " (534, 77561, 3.5),\n",
       " (179, 648, 3.0),\n",
       " (517, 45447, 0.5),\n",
       " (160, 1037, 2.0),\n",
       " (164, 1580, 5.0),\n",
       " (182, 2542, 4.0),\n",
       " (199, 923, 5.0),\n",
       " (254, 30749, 4.5),\n",
       " (240, 239, 3.0),\n",
       " (166, 293, 4.5),\n",
       " (256, 520, 4.0),\n",
       " (73, 66097, 1.5),\n",
       " (580, 1376, 3.5),\n",
       " (82, 370, 3.0),\n",
       " (41, 115713, 0.5),\n",
       " (149, 1037, 3.0),\n",
       " (469, 733, 3.0),\n",
       " (222, 165, 3.0),\n",
       " (1, 2353, 5.0),\n",
       " (452, 1129, 5.0),\n",
       " (414, 4975, 5.0),\n",
       " (135, 3476, 4.0),\n",
       " (390, 3408, 4.0),\n",
       " (473, 1895, 2.0),\n",
       " (157, 3752, 5.0),\n",
       " (68, 1885, 2.5),\n",
       " (200, 19, 3.5),\n",
       " (152, 86781, 4.0),\n",
       " (38, 454, 4.0),\n",
       " (68, 1457, 3.5),\n",
       " (477, 2335, 3.0),\n",
       " (426, 91325, 3.5),\n",
       " (357, 1333, 3.5),\n",
       " (460, 2747, 3.0),\n",
       " (312, 2640, 4.0),\n",
       " (91, 208, 2.5),\n",
       " (369, 44191, 3.5),\n",
       " (226, 51255, 4.5),\n",
       " (140, 2682, 4.0),\n",
       " (491, 69757, 4.0),\n",
       " (249, 88163, 4.5),\n",
       " (302, 141, 5.0),\n",
       " (480, 991, 4.0),\n",
       " (22, 4878, 1.5),\n",
       " (469, 2871, 5.0),\n",
       " (91, 628, 3.0),\n",
       " (477, 1913, 4.0),\n",
       " (563, 1907, 3.5),\n",
       " (462, 1228, 5.0),\n",
       " (307, 60487, 4.0),\n",
       " (509, 96610, 3.0),\n",
       " (474, 4041, 3.0),\n",
       " (198, 3452, 2.0),\n",
       " (288, 2640, 3.5),\n",
       " (3, 720, 0.5),\n",
       " (184, 174055, 4.0),\n",
       " (448, 3618, 4.0),\n",
       " (19, 965, 2.0),\n",
       " (275, 866, 5.0),\n",
       " (274, 1604, 3.0),\n",
       " (411, 376, 4.0),\n",
       " (414, 1222, 5.0),\n",
       " (135, 2324, 4.0),\n",
       " (13, 3952, 3.0),\n",
       " (517, 91658, 0.5),\n",
       " (409, 3504, 4.0),\n",
       " (414, 7454, 2.5),\n",
       " (608, 4369, 4.0),\n",
       " (249, 95873, 3.5),\n",
       " (292, 95510, 3.5),\n",
       " (64, 647, 3.5),\n",
       " (75, 2571, 1.0),\n",
       " (6, 339, 4.0),\n",
       " (249, 3271, 4.0),\n",
       " (387, 2136, 2.5),\n",
       " (394, 185, 3.0),\n",
       " (130, 150, 4.0),\n",
       " (101, 2390, 3.0),\n",
       " (298, 51084, 0.5),\n",
       " (594, 1088, 4.5),\n",
       " (307, 2145, 3.0),\n",
       " (43, 288, 3.0),\n",
       " (292, 4025, 3.0),\n",
       " (15, 109374, 2.0),\n",
       " (149, 2021, 1.0),\n",
       " (177, 5971, 4.0),\n",
       " (528, 91658, 4.0),\n",
       " (448, 134158, 1.5),\n",
       " (318, 69951, 3.5),\n",
       " (561, 134130, 3.5),\n",
       " (422, 3671, 4.0),\n",
       " (249, 3552, 3.0),\n",
       " (368, 2409, 3.0),\n",
       " (299, 3316, 3.0),\n",
       " (414, 4903, 4.0),\n",
       " (599, 2134, 1.5),\n",
       " (136, 239, 1.0),\n",
       " (606, 1954, 3.5),\n",
       " (177, 58047, 3.5),\n",
       " (438, 5254, 3.5),\n",
       " (599, 1333, 3.0),\n",
       " (312, 5446, 4.0),\n",
       " (453, 1552, 3.0),\n",
       " (236, 1345, 3.0),\n",
       " (68, 52975, 3.5),\n",
       " (84, 1267, 5.0),\n",
       " (226, 2054, 4.0),\n",
       " (448, 4370, 2.5),\n",
       " (215, 1291, 3.5),\n",
       " (307, 1213, 4.0),\n",
       " (135, 3708, 4.0),\n",
       " (610, 4228, 3.0),\n",
       " (156, 7107, 3.5),\n",
       " (474, 8989, 3.5),\n",
       " (608, 2001, 3.5),\n",
       " (438, 8869, 2.0),\n",
       " (9, 5965, 4.0),\n",
       " (602, 185, 3.0),\n",
       " (400, 122886, 4.5),\n",
       " (391, 1244, 4.0),\n",
       " (368, 1479, 3.0),\n",
       " (73, 91529, 5.0),\n",
       " (610, 3553, 2.0),\n",
       " (165, 5530, 2.0),\n",
       " (590, 4489, 3.5),\n",
       " (118, 2028, 4.0),\n",
       " (156, 2947, 2.0),\n",
       " (216, 2858, 5.0),\n",
       " (182, 223, 4.5),\n",
       " (219, 8798, 2.0),\n",
       " (520, 5956, 3.0),\n",
       " (509, 74154, 2.0),\n",
       " (294, 434, 1.0),\n",
       " (68, 780, 4.0),\n",
       " (563, 108190, 3.5),\n",
       " (462, 148626, 3.5),\n",
       " (28, 34319, 3.0),\n",
       " (111, 134368, 5.0),\n",
       " (292, 58559, 4.0),\n",
       " (414, 4081, 2.0),\n",
       " (221, 3435, 4.5),\n",
       " (313, 1198, 5.0),\n",
       " (382, 2496, 3.5),\n",
       " (381, 588, 4.0),\n",
       " (325, 2155, 4.0),\n",
       " (274, 30745, 4.5),\n",
       " (480, 8950, 3.5),\n",
       " (232, 1302, 3.5),\n",
       " (428, 3882, 1.5),\n",
       " (34, 2953, 2.0),\n",
       " (41, 7293, 5.0),\n",
       " (298, 3301, 2.5),\n",
       " (232, 49278, 3.5),\n",
       " (474, 5863, 1.0),\n",
       " (244, 1586, 4.0),\n",
       " (599, 45720, 2.5),\n",
       " (438, 3793, 4.0),\n",
       " (68, 46578, 3.0),\n",
       " (610, 61240, 5.0),\n",
       " (408, 70305, 3.5),\n",
       " (21, 138186, 0.5),\n",
       " (391, 2966, 3.0),\n",
       " (263, 3147, 4.0),\n",
       " (580, 7360, 4.0),\n",
       " (105, 163112, 5.0),\n",
       " (235, 539, 4.0),\n",
       " (253, 5791, 4.0),\n",
       " (409, 3813, 4.0),\n",
       " (103, 111781, 4.0),\n",
       " (268, 587, 1.0),\n",
       " (217, 9, 3.0),\n",
       " (474, 101, 3.5),\n",
       " (387, 1101, 3.0),\n",
       " (316, 543, 1.5),\n",
       " (78, 2716, 4.5),\n",
       " (482, 786, 4.0),\n",
       " (561, 3868, 4.5),\n",
       " (68, 1407, 2.5),\n",
       " (312, 2628, 3.0),\n",
       " (273, 440, 4.0),\n",
       " (610, 80094, 4.0),\n",
       " (603, 2966, 4.0),\n",
       " (610, 4144, 3.5),\n",
       " (309, 30812, 4.0),\n",
       " (64, 7411, 1.5),\n",
       " ...]"
      ]
     },
     "execution_count": 73,
     "metadata": {},
     "output_type": "execute_result"
    }
   ],
   "source": [
    "testset"
   ]
  },
  {
   "cell_type": "code",
   "execution_count": 77,
   "metadata": {
    "ExecuteTime": {
     "end_time": "2020-02-07T17:31:22.228229Z",
     "start_time": "2020-02-07T17:31:22.223736Z"
    }
   },
   "outputs": [
    {
     "data": {
      "text/plain": [
       "<surprise.trainset.Trainset at 0x61d59fe10>"
      ]
     },
     "execution_count": 77,
     "metadata": {},
     "output_type": "execute_result"
    }
   ],
   "source": [
    "trainset"
   ]
  },
  {
   "cell_type": "code",
   "execution_count": 83,
   "metadata": {
    "ExecuteTime": {
     "end_time": "2020-02-07T17:33:06.932250Z",
     "start_time": "2020-02-07T17:33:06.926823Z"
    },
    "scrolled": true
   },
   "outputs": [
    {
     "data": {
      "text/plain": [
       "[50,\n",
       " 84,\n",
       " 94,\n",
       " 109,\n",
       " 140,\n",
       " 144,\n",
       " 155,\n",
       " 173,\n",
       " 176,\n",
       " 184,\n",
       " 187,\n",
       " 188,\n",
       " 202,\n",
       " 218,\n",
       " 230,\n",
       " 235,\n",
       " 246,\n",
       " 249,\n",
       " 280,\n",
       " 285,\n",
       " 326,\n",
       " 356,\n",
       " 362,\n",
       " 366,\n",
       " 367,\n",
       " 373,\n",
       " 383,\n",
       " 402,\n",
       " 406,\n",
       " 413,\n",
       " 414,\n",
       " 418,\n",
       " 435,\n",
       " 448,\n",
       " 455,\n",
       " 477,\n",
       " 484,\n",
       " 485,\n",
       " 487,\n",
       " 507]"
      ]
     },
     "execution_count": 83,
     "metadata": {},
     "output_type": "execute_result"
    }
   ],
   "source": [
    "algo.get_neighbors(353, 40)"
   ]
  },
  {
   "cell_type": "code",
   "execution_count": 85,
   "metadata": {
    "ExecuteTime": {
     "end_time": "2020-02-07T17:34:24.218125Z",
     "start_time": "2020-02-07T17:34:24.213677Z"
    }
   },
   "outputs": [
    {
     "data": {
      "text/plain": [
       "4"
      ]
     },
     "execution_count": 85,
     "metadata": {},
     "output_type": "execute_result"
    }
   ],
   "source": [
    "algo.trainset.to_inner_uid(292)"
   ]
  },
  {
   "cell_type": "code",
   "execution_count": 86,
   "metadata": {
    "ExecuteTime": {
     "end_time": "2020-02-07T17:34:44.457960Z",
     "start_time": "2020-02-07T17:34:44.453367Z"
    }
   },
   "outputs": [
    {
     "data": {
      "text/plain": [
       "3562"
      ]
     },
     "execution_count": 86,
     "metadata": {},
     "output_type": "execute_result"
    }
   ],
   "source": [
    "algo.trainset.to_inner_iid(164909)\n"
   ]
  },
  {
   "cell_type": "code",
   "execution_count": 88,
   "metadata": {
    "ExecuteTime": {
     "end_time": "2020-02-07T17:35:09.433536Z",
     "start_time": "2020-02-07T17:35:09.429781Z"
    }
   },
   "outputs": [
    {
     "data": {
      "text/plain": [
       "164909"
      ]
     },
     "execution_count": 88,
     "metadata": {},
     "output_type": "execute_result"
    }
   ],
   "source": [
    "trainset.to_raw_iid(3562)"
   ]
  },
  {
   "cell_type": "code",
   "execution_count": 89,
   "metadata": {
    "ExecuteTime": {
     "end_time": "2020-02-07T17:35:25.343983Z",
     "start_time": "2020-02-07T17:35:25.339101Z"
    }
   },
   "outputs": [
    {
     "data": {
      "text/plain": [
       "292"
      ]
     },
     "execution_count": 89,
     "metadata": {},
     "output_type": "execute_result"
    }
   ],
   "source": [
    "trainset.to_raw_uid(4)"
   ]
  },
  {
   "cell_type": "code",
   "execution_count": 90,
   "metadata": {
    "ExecuteTime": {
     "end_time": "2020-02-07T17:35:41.870567Z",
     "start_time": "2020-02-07T17:35:41.865717Z"
    }
   },
   "outputs": [
    {
     "data": {
      "text/plain": [
       "Prediction(uid=87, iid=298, r_ui=None, est=2.0, details={'actual_k': 1, 'was_impossible': False})"
      ]
     },
     "execution_count": 90,
     "metadata": {},
     "output_type": "execute_result"
    }
   ],
   "source": [
    "algo.predict(algo.trainset.to_inner_uid(1), algo.trainset.to_inner_iid(1))"
   ]
  },
  {
   "cell_type": "code",
   "execution_count": 91,
   "metadata": {
    "ExecuteTime": {
     "end_time": "2020-02-07T17:35:55.396569Z",
     "start_time": "2020-02-07T17:35:55.391364Z"
    }
   },
   "outputs": [
    {
     "data": {
      "text/plain": [
       "[1, 12, 38, 57, 58]"
      ]
     },
     "execution_count": 91,
     "metadata": {},
     "output_type": "execute_result"
    }
   ],
   "source": [
    "algo.get_neighbors(iid=algo.trainset.to_inner_uid(353), k=5)"
   ]
  },
  {
   "cell_type": "code",
   "execution_count": 112,
   "metadata": {
    "ExecuteTime": {
     "end_time": "2019-09-02T17:28:19.479328Z",
     "start_time": "2019-09-02T17:28:19.463007Z"
    },
    "scrolled": true
   },
   "outputs": [
    {
     "data": {
      "text/html": [
       "<div>\n",
       "<style scoped>\n",
       "    .dataframe tbody tr th:only-of-type {\n",
       "        vertical-align: middle;\n",
       "    }\n",
       "\n",
       "    .dataframe tbody tr th {\n",
       "        vertical-align: top;\n",
       "    }\n",
       "\n",
       "    .dataframe thead th {\n",
       "        text-align: right;\n",
       "    }\n",
       "</style>\n",
       "<table border=\"1\" class=\"dataframe\">\n",
       "  <thead>\n",
       "    <tr style=\"text-align: right;\">\n",
       "      <th></th>\n",
       "      <th>userId_x</th>\n",
       "      <th>movieId</th>\n",
       "      <th>rating_x</th>\n",
       "      <th>title_x</th>\n",
       "      <th>userId_y</th>\n",
       "      <th>rating_y</th>\n",
       "      <th>title_y</th>\n",
       "    </tr>\n",
       "  </thead>\n",
       "  <tbody>\n",
       "    <tr>\n",
       "      <th>0</th>\n",
       "      <td>353</td>\n",
       "      <td>1</td>\n",
       "      <td>5.0</td>\n",
       "      <td>Toy Story (1995)</td>\n",
       "      <td>44</td>\n",
       "      <td>3.0</td>\n",
       "      <td>Toy Story (1995)</td>\n",
       "    </tr>\n",
       "    <tr>\n",
       "      <th>1</th>\n",
       "      <td>353</td>\n",
       "      <td>6</td>\n",
       "      <td>4.0</td>\n",
       "      <td>Heat (1995)</td>\n",
       "      <td>44</td>\n",
       "      <td>3.0</td>\n",
       "      <td>Heat (1995)</td>\n",
       "    </tr>\n",
       "    <tr>\n",
       "      <th>2</th>\n",
       "      <td>353</td>\n",
       "      <td>112</td>\n",
       "      <td>5.0</td>\n",
       "      <td>Rumble in the Bronx (Hont faan kui) (1995)</td>\n",
       "      <td>44</td>\n",
       "      <td>5.0</td>\n",
       "      <td>Rumble in the Bronx (Hont faan kui) (1995)</td>\n",
       "    </tr>\n",
       "  </tbody>\n",
       "</table>\n",
       "</div>"
      ],
      "text/plain": [
       "   userId_x  movieId  rating_x                                     title_x  \\\n",
       "0       353        1       5.0                            Toy Story (1995)   \n",
       "1       353        6       4.0                                 Heat (1995)   \n",
       "2       353      112       5.0  Rumble in the Bronx (Hont faan kui) (1995)   \n",
       "\n",
       "   userId_y  rating_y                                     title_y  \n",
       "0        44       3.0                            Toy Story (1995)  \n",
       "1        44       3.0                                 Heat (1995)  \n",
       "2        44       5.0  Rumble in the Bronx (Hont faan kui) (1995)  "
      ]
     },
     "execution_count": 112,
     "metadata": {},
     "output_type": "execute_result"
    }
   ],
   "source": [
    "pd.merge(df[df['userId']==353], df[df['userId']==algo.trainset.to_raw_uid(87)], on='movieId')"
   ]
  },
  {
   "cell_type": "code",
   "execution_count": 123,
   "metadata": {
    "ExecuteTime": {
     "end_time": "2019-09-02T17:30:17.136652Z",
     "start_time": "2019-09-02T17:30:17.131625Z"
    }
   },
   "outputs": [],
   "source": [
    "def get_votes_for_film_user(uid, iid):\n",
    "    neighbors = algo.get_neighbors(iid=algo.trainset.to_inner_uid(uid), k=40)\n",
    "    for n in neighbors:\n",
    "        res = df_ratings[(df_ratings['userId'] == n) & (df_ratings['movieId'] == iid)]\n",
    "        print (n, res['rating'].tolist()[0] if len(res['rating'].tolist()) > 0 else \"None\")"
   ]
  },
  {
   "cell_type": "code",
   "execution_count": 124,
   "metadata": {
    "ExecuteTime": {
     "end_time": "2019-09-02T17:30:17.798458Z",
     "start_time": "2019-09-02T17:30:17.727144Z"
    }
   },
   "outputs": [
    {
     "name": "stdout",
     "output_type": "stream",
     "text": [
      "15 2.5\n",
      "43 5.0\n",
      "84 None\n",
      "87 None\n",
      "94 None\n",
      "96 5.0\n",
      "100 None\n",
      "101 None\n",
      "107 4.0\n",
      "122 None\n",
      "139 None\n",
      "141 4.0\n",
      "159 4.5\n",
      "208 None\n",
      "219 3.5\n",
      "221 None\n",
      "231 None\n",
      "233 3.0\n",
      "239 4.0\n",
      "241 None\n",
      "243 None\n",
      "251 None\n",
      "273 5.0\n",
      "283 3.0\n",
      "296 None\n",
      "307 4.0\n",
      "311 None\n",
      "313 None\n",
      "329 None\n",
      "334 3.5\n",
      "339 4.0\n",
      "340 None\n",
      "343 None\n",
      "348 None\n",
      "361 None\n",
      "364 5.0\n",
      "369 None\n",
      "379 None\n",
      "382 4.5\n",
      "394 None\n"
     ]
    }
   ],
   "source": [
    "get_votes_for_film_user(353, 1)"
   ]
  },
  {
   "cell_type": "code",
   "execution_count": 125,
   "metadata": {
    "ExecuteTime": {
     "end_time": "2019-09-02T17:31:10.138923Z",
     "start_time": "2019-09-02T17:31:10.134108Z"
    }
   },
   "outputs": [
    {
     "data": {
      "text/plain": [
       "Prediction(uid=353, iid=1, r_ui=None, est=4.149814663807331, details={'actual_k': 40, 'was_impossible': False})"
      ]
     },
     "execution_count": 125,
     "metadata": {},
     "output_type": "execute_result"
    }
   ],
   "source": [
    "algo.predict(353, 1)"
   ]
  },
  {
   "cell_type": "markdown",
   "metadata": {
    "ExecuteTime": {
     "end_time": "2019-09-02T17:58:22.062592Z",
     "start_time": "2019-09-02T17:58:22.054113Z"
    }
   },
   "source": [
    "## Item-based рекомендация"
   ]
  },
  {
   "cell_type": "code",
   "execution_count": 92,
   "metadata": {
    "ExecuteTime": {
     "end_time": "2020-02-07T17:58:01.490822Z",
     "start_time": "2020-02-07T17:58:01.487715Z"
    }
   },
   "outputs": [],
   "source": [
    "algo = KNNBasic(k=40, sim_options={'name': 'pearson_baseline', 'user_based': False})"
   ]
  },
  {
   "cell_type": "code",
   "execution_count": 93,
   "metadata": {
    "ExecuteTime": {
     "end_time": "2020-02-07T17:58:10.854968Z",
     "start_time": "2020-02-07T17:58:01.995486Z"
    }
   },
   "outputs": [
    {
     "name": "stdout",
     "output_type": "stream",
     "text": [
      "Estimating biases using als...\n",
      "Computing the pearson_baseline similarity matrix...\n",
      "Done computing similarity matrix.\n"
     ]
    },
    {
     "data": {
      "text/plain": [
       "<surprise.prediction_algorithms.knns.KNNBasic at 0x62d99d940>"
      ]
     },
     "execution_count": 93,
     "metadata": {},
     "output_type": "execute_result"
    }
   ],
   "source": [
    "algo.fit(trainset)"
   ]
  },
  {
   "cell_type": "code",
   "execution_count": 94,
   "metadata": {
    "ExecuteTime": {
     "end_time": "2020-02-07T17:58:17.032744Z",
     "start_time": "2020-02-07T17:58:10.858152Z"
    }
   },
   "outputs": [],
   "source": [
    "predictions = algo.test(testset)"
   ]
  },
  {
   "cell_type": "code",
   "execution_count": 95,
   "metadata": {
    "ExecuteTime": {
     "end_time": "2020-02-07T17:58:17.054695Z",
     "start_time": "2020-02-07T17:58:17.036018Z"
    }
   },
   "outputs": [
    {
     "name": "stdout",
     "output_type": "stream",
     "text": [
      "MAE:  0.6959\n"
     ]
    },
    {
     "data": {
      "text/plain": [
       "0.6959382908308569"
      ]
     },
     "execution_count": 95,
     "metadata": {},
     "output_type": "execute_result"
    }
   ],
   "source": [
    "accuracy.mae(predictions)"
   ]
  },
  {
   "cell_type": "code",
   "execution_count": 96,
   "metadata": {
    "ExecuteTime": {
     "end_time": "2020-02-07T17:58:49.291943Z",
     "start_time": "2020-02-07T17:58:49.288990Z"
    }
   },
   "outputs": [],
   "source": [
    "from surprise import KNNWithMeans"
   ]
  },
  {
   "cell_type": "code",
   "execution_count": 97,
   "metadata": {
    "ExecuteTime": {
     "end_time": "2020-02-07T17:58:50.844458Z",
     "start_time": "2020-02-07T17:58:50.841341Z"
    }
   },
   "outputs": [],
   "source": [
    "algo = KNNWithMeans(k=40, sim_options={'name': 'pearson_baseline', 'user_based': False})"
   ]
  },
  {
   "cell_type": "code",
   "execution_count": 98,
   "metadata": {
    "ExecuteTime": {
     "end_time": "2020-02-07T17:59:00.781100Z",
     "start_time": "2020-02-07T17:58:51.524531Z"
    }
   },
   "outputs": [
    {
     "name": "stdout",
     "output_type": "stream",
     "text": [
      "Estimating biases using als...\n",
      "Computing the pearson_baseline similarity matrix...\n",
      "Done computing similarity matrix.\n"
     ]
    },
    {
     "data": {
      "text/plain": [
       "<surprise.prediction_algorithms.knns.KNNWithMeans at 0x62d4218d0>"
      ]
     },
     "execution_count": 98,
     "metadata": {},
     "output_type": "execute_result"
    }
   ],
   "source": [
    "algo.fit(trainset)"
   ]
  },
  {
   "cell_type": "code",
   "execution_count": 99,
   "metadata": {
    "ExecuteTime": {
     "end_time": "2020-02-07T17:59:07.265169Z",
     "start_time": "2020-02-07T17:59:00.784634Z"
    }
   },
   "outputs": [],
   "source": [
    "predictions = algo.test(testset)"
   ]
  },
  {
   "cell_type": "code",
   "execution_count": 100,
   "metadata": {
    "ExecuteTime": {
     "end_time": "2020-02-07T17:59:07.283047Z",
     "start_time": "2020-02-07T17:59:07.267119Z"
    }
   },
   "outputs": [
    {
     "name": "stdout",
     "output_type": "stream",
     "text": [
      "MAE:  0.6715\n"
     ]
    },
    {
     "data": {
      "text/plain": [
       "0.6715223145769209"
      ]
     },
     "execution_count": 100,
     "metadata": {},
     "output_type": "execute_result"
    }
   ],
   "source": [
    "accuracy.mae(predictions)"
   ]
  },
  {
   "cell_type": "code",
   "execution_count": 101,
   "metadata": {
    "ExecuteTime": {
     "end_time": "2020-02-07T18:00:01.706740Z",
     "start_time": "2020-02-07T18:00:01.691307Z"
    },
    "scrolled": true
   },
   "outputs": [
    {
     "data": {
      "text/html": [
       "<div>\n",
       "<style scoped>\n",
       "    .dataframe tbody tr th:only-of-type {\n",
       "        vertical-align: middle;\n",
       "    }\n",
       "\n",
       "    .dataframe tbody tr th {\n",
       "        vertical-align: top;\n",
       "    }\n",
       "\n",
       "    .dataframe thead th {\n",
       "        text-align: right;\n",
       "    }\n",
       "</style>\n",
       "<table border=\"1\" class=\"dataframe\">\n",
       "  <thead>\n",
       "    <tr style=\"text-align: right;\">\n",
       "      <th></th>\n",
       "      <th>userId</th>\n",
       "      <th>movieId</th>\n",
       "      <th>rating</th>\n",
       "      <th>timestamp</th>\n",
       "    </tr>\n",
       "  </thead>\n",
       "  <tbody>\n",
       "    <tr>\n",
       "      <th>0</th>\n",
       "      <td>1</td>\n",
       "      <td>1</td>\n",
       "      <td>4.0</td>\n",
       "      <td>964982703</td>\n",
       "    </tr>\n",
       "    <tr>\n",
       "      <th>1</th>\n",
       "      <td>1</td>\n",
       "      <td>3</td>\n",
       "      <td>4.0</td>\n",
       "      <td>964981247</td>\n",
       "    </tr>\n",
       "    <tr>\n",
       "      <th>2</th>\n",
       "      <td>1</td>\n",
       "      <td>6</td>\n",
       "      <td>4.0</td>\n",
       "      <td>964982224</td>\n",
       "    </tr>\n",
       "    <tr>\n",
       "      <th>3</th>\n",
       "      <td>1</td>\n",
       "      <td>47</td>\n",
       "      <td>5.0</td>\n",
       "      <td>964983815</td>\n",
       "    </tr>\n",
       "    <tr>\n",
       "      <th>4</th>\n",
       "      <td>1</td>\n",
       "      <td>50</td>\n",
       "      <td>5.0</td>\n",
       "      <td>964982931</td>\n",
       "    </tr>\n",
       "    <tr>\n",
       "      <th>5</th>\n",
       "      <td>1</td>\n",
       "      <td>70</td>\n",
       "      <td>3.0</td>\n",
       "      <td>964982400</td>\n",
       "    </tr>\n",
       "    <tr>\n",
       "      <th>6</th>\n",
       "      <td>1</td>\n",
       "      <td>101</td>\n",
       "      <td>5.0</td>\n",
       "      <td>964980868</td>\n",
       "    </tr>\n",
       "    <tr>\n",
       "      <th>7</th>\n",
       "      <td>1</td>\n",
       "      <td>110</td>\n",
       "      <td>4.0</td>\n",
       "      <td>964982176</td>\n",
       "    </tr>\n",
       "    <tr>\n",
       "      <th>8</th>\n",
       "      <td>1</td>\n",
       "      <td>151</td>\n",
       "      <td>5.0</td>\n",
       "      <td>964984041</td>\n",
       "    </tr>\n",
       "    <tr>\n",
       "      <th>9</th>\n",
       "      <td>1</td>\n",
       "      <td>157</td>\n",
       "      <td>5.0</td>\n",
       "      <td>964984100</td>\n",
       "    </tr>\n",
       "    <tr>\n",
       "      <th>10</th>\n",
       "      <td>1</td>\n",
       "      <td>163</td>\n",
       "      <td>5.0</td>\n",
       "      <td>964983650</td>\n",
       "    </tr>\n",
       "    <tr>\n",
       "      <th>11</th>\n",
       "      <td>1</td>\n",
       "      <td>216</td>\n",
       "      <td>5.0</td>\n",
       "      <td>964981208</td>\n",
       "    </tr>\n",
       "    <tr>\n",
       "      <th>12</th>\n",
       "      <td>1</td>\n",
       "      <td>223</td>\n",
       "      <td>3.0</td>\n",
       "      <td>964980985</td>\n",
       "    </tr>\n",
       "    <tr>\n",
       "      <th>13</th>\n",
       "      <td>1</td>\n",
       "      <td>231</td>\n",
       "      <td>5.0</td>\n",
       "      <td>964981179</td>\n",
       "    </tr>\n",
       "    <tr>\n",
       "      <th>14</th>\n",
       "      <td>1</td>\n",
       "      <td>235</td>\n",
       "      <td>4.0</td>\n",
       "      <td>964980908</td>\n",
       "    </tr>\n",
       "    <tr>\n",
       "      <th>15</th>\n",
       "      <td>1</td>\n",
       "      <td>260</td>\n",
       "      <td>5.0</td>\n",
       "      <td>964981680</td>\n",
       "    </tr>\n",
       "    <tr>\n",
       "      <th>16</th>\n",
       "      <td>1</td>\n",
       "      <td>296</td>\n",
       "      <td>3.0</td>\n",
       "      <td>964982967</td>\n",
       "    </tr>\n",
       "    <tr>\n",
       "      <th>17</th>\n",
       "      <td>1</td>\n",
       "      <td>316</td>\n",
       "      <td>3.0</td>\n",
       "      <td>964982310</td>\n",
       "    </tr>\n",
       "    <tr>\n",
       "      <th>18</th>\n",
       "      <td>1</td>\n",
       "      <td>333</td>\n",
       "      <td>5.0</td>\n",
       "      <td>964981179</td>\n",
       "    </tr>\n",
       "    <tr>\n",
       "      <th>19</th>\n",
       "      <td>1</td>\n",
       "      <td>349</td>\n",
       "      <td>4.0</td>\n",
       "      <td>964982563</td>\n",
       "    </tr>\n",
       "    <tr>\n",
       "      <th>20</th>\n",
       "      <td>1</td>\n",
       "      <td>356</td>\n",
       "      <td>4.0</td>\n",
       "      <td>964980962</td>\n",
       "    </tr>\n",
       "    <tr>\n",
       "      <th>21</th>\n",
       "      <td>1</td>\n",
       "      <td>362</td>\n",
       "      <td>5.0</td>\n",
       "      <td>964982588</td>\n",
       "    </tr>\n",
       "    <tr>\n",
       "      <th>22</th>\n",
       "      <td>1</td>\n",
       "      <td>367</td>\n",
       "      <td>4.0</td>\n",
       "      <td>964981710</td>\n",
       "    </tr>\n",
       "    <tr>\n",
       "      <th>23</th>\n",
       "      <td>1</td>\n",
       "      <td>423</td>\n",
       "      <td>3.0</td>\n",
       "      <td>964982363</td>\n",
       "    </tr>\n",
       "    <tr>\n",
       "      <th>24</th>\n",
       "      <td>1</td>\n",
       "      <td>441</td>\n",
       "      <td>4.0</td>\n",
       "      <td>964980868</td>\n",
       "    </tr>\n",
       "    <tr>\n",
       "      <th>25</th>\n",
       "      <td>1</td>\n",
       "      <td>457</td>\n",
       "      <td>5.0</td>\n",
       "      <td>964981909</td>\n",
       "    </tr>\n",
       "    <tr>\n",
       "      <th>26</th>\n",
       "      <td>1</td>\n",
       "      <td>480</td>\n",
       "      <td>4.0</td>\n",
       "      <td>964982346</td>\n",
       "    </tr>\n",
       "    <tr>\n",
       "      <th>27</th>\n",
       "      <td>1</td>\n",
       "      <td>500</td>\n",
       "      <td>3.0</td>\n",
       "      <td>964981208</td>\n",
       "    </tr>\n",
       "    <tr>\n",
       "      <th>28</th>\n",
       "      <td>1</td>\n",
       "      <td>527</td>\n",
       "      <td>5.0</td>\n",
       "      <td>964984002</td>\n",
       "    </tr>\n",
       "    <tr>\n",
       "      <th>29</th>\n",
       "      <td>1</td>\n",
       "      <td>543</td>\n",
       "      <td>4.0</td>\n",
       "      <td>964981179</td>\n",
       "    </tr>\n",
       "    <tr>\n",
       "      <th>...</th>\n",
       "      <td>...</td>\n",
       "      <td>...</td>\n",
       "      <td>...</td>\n",
       "      <td>...</td>\n",
       "    </tr>\n",
       "    <tr>\n",
       "      <th>100806</th>\n",
       "      <td>610</td>\n",
       "      <td>150401</td>\n",
       "      <td>3.0</td>\n",
       "      <td>1479543210</td>\n",
       "    </tr>\n",
       "    <tr>\n",
       "      <th>100807</th>\n",
       "      <td>610</td>\n",
       "      <td>152077</td>\n",
       "      <td>4.0</td>\n",
       "      <td>1493845817</td>\n",
       "    </tr>\n",
       "    <tr>\n",
       "      <th>100808</th>\n",
       "      <td>610</td>\n",
       "      <td>152081</td>\n",
       "      <td>4.0</td>\n",
       "      <td>1493846503</td>\n",
       "    </tr>\n",
       "    <tr>\n",
       "      <th>100809</th>\n",
       "      <td>610</td>\n",
       "      <td>152372</td>\n",
       "      <td>3.5</td>\n",
       "      <td>1493848841</td>\n",
       "    </tr>\n",
       "    <tr>\n",
       "      <th>100810</th>\n",
       "      <td>610</td>\n",
       "      <td>155064</td>\n",
       "      <td>3.5</td>\n",
       "      <td>1493848456</td>\n",
       "    </tr>\n",
       "    <tr>\n",
       "      <th>100811</th>\n",
       "      <td>610</td>\n",
       "      <td>156371</td>\n",
       "      <td>5.0</td>\n",
       "      <td>1479542831</td>\n",
       "    </tr>\n",
       "    <tr>\n",
       "      <th>100812</th>\n",
       "      <td>610</td>\n",
       "      <td>156726</td>\n",
       "      <td>4.5</td>\n",
       "      <td>1493848444</td>\n",
       "    </tr>\n",
       "    <tr>\n",
       "      <th>100813</th>\n",
       "      <td>610</td>\n",
       "      <td>157296</td>\n",
       "      <td>4.0</td>\n",
       "      <td>1493846563</td>\n",
       "    </tr>\n",
       "    <tr>\n",
       "      <th>100814</th>\n",
       "      <td>610</td>\n",
       "      <td>158238</td>\n",
       "      <td>5.0</td>\n",
       "      <td>1479545219</td>\n",
       "    </tr>\n",
       "    <tr>\n",
       "      <th>100815</th>\n",
       "      <td>610</td>\n",
       "      <td>158721</td>\n",
       "      <td>3.5</td>\n",
       "      <td>1479542491</td>\n",
       "    </tr>\n",
       "    <tr>\n",
       "      <th>100816</th>\n",
       "      <td>610</td>\n",
       "      <td>158872</td>\n",
       "      <td>3.5</td>\n",
       "      <td>1493848024</td>\n",
       "    </tr>\n",
       "    <tr>\n",
       "      <th>100817</th>\n",
       "      <td>610</td>\n",
       "      <td>158956</td>\n",
       "      <td>3.0</td>\n",
       "      <td>1493848947</td>\n",
       "    </tr>\n",
       "    <tr>\n",
       "      <th>100818</th>\n",
       "      <td>610</td>\n",
       "      <td>159093</td>\n",
       "      <td>3.0</td>\n",
       "      <td>1493847704</td>\n",
       "    </tr>\n",
       "    <tr>\n",
       "      <th>100819</th>\n",
       "      <td>610</td>\n",
       "      <td>160080</td>\n",
       "      <td>3.0</td>\n",
       "      <td>1493848031</td>\n",
       "    </tr>\n",
       "    <tr>\n",
       "      <th>100820</th>\n",
       "      <td>610</td>\n",
       "      <td>160341</td>\n",
       "      <td>2.5</td>\n",
       "      <td>1479545749</td>\n",
       "    </tr>\n",
       "    <tr>\n",
       "      <th>100821</th>\n",
       "      <td>610</td>\n",
       "      <td>160527</td>\n",
       "      <td>4.5</td>\n",
       "      <td>1479544998</td>\n",
       "    </tr>\n",
       "    <tr>\n",
       "      <th>100822</th>\n",
       "      <td>610</td>\n",
       "      <td>160571</td>\n",
       "      <td>3.0</td>\n",
       "      <td>1493848537</td>\n",
       "    </tr>\n",
       "    <tr>\n",
       "      <th>100823</th>\n",
       "      <td>610</td>\n",
       "      <td>160836</td>\n",
       "      <td>3.0</td>\n",
       "      <td>1493844794</td>\n",
       "    </tr>\n",
       "    <tr>\n",
       "      <th>100824</th>\n",
       "      <td>610</td>\n",
       "      <td>161582</td>\n",
       "      <td>4.0</td>\n",
       "      <td>1493847759</td>\n",
       "    </tr>\n",
       "    <tr>\n",
       "      <th>100825</th>\n",
       "      <td>610</td>\n",
       "      <td>161634</td>\n",
       "      <td>4.0</td>\n",
       "      <td>1493848362</td>\n",
       "    </tr>\n",
       "    <tr>\n",
       "      <th>100826</th>\n",
       "      <td>610</td>\n",
       "      <td>162350</td>\n",
       "      <td>3.5</td>\n",
       "      <td>1493849971</td>\n",
       "    </tr>\n",
       "    <tr>\n",
       "      <th>100827</th>\n",
       "      <td>610</td>\n",
       "      <td>163937</td>\n",
       "      <td>3.5</td>\n",
       "      <td>1493848789</td>\n",
       "    </tr>\n",
       "    <tr>\n",
       "      <th>100828</th>\n",
       "      <td>610</td>\n",
       "      <td>163981</td>\n",
       "      <td>3.5</td>\n",
       "      <td>1493850155</td>\n",
       "    </tr>\n",
       "    <tr>\n",
       "      <th>100829</th>\n",
       "      <td>610</td>\n",
       "      <td>164179</td>\n",
       "      <td>5.0</td>\n",
       "      <td>1493845631</td>\n",
       "    </tr>\n",
       "    <tr>\n",
       "      <th>100830</th>\n",
       "      <td>610</td>\n",
       "      <td>166528</td>\n",
       "      <td>4.0</td>\n",
       "      <td>1493879365</td>\n",
       "    </tr>\n",
       "    <tr>\n",
       "      <th>100831</th>\n",
       "      <td>610</td>\n",
       "      <td>166534</td>\n",
       "      <td>4.0</td>\n",
       "      <td>1493848402</td>\n",
       "    </tr>\n",
       "    <tr>\n",
       "      <th>100832</th>\n",
       "      <td>610</td>\n",
       "      <td>168248</td>\n",
       "      <td>5.0</td>\n",
       "      <td>1493850091</td>\n",
       "    </tr>\n",
       "    <tr>\n",
       "      <th>100833</th>\n",
       "      <td>610</td>\n",
       "      <td>168250</td>\n",
       "      <td>5.0</td>\n",
       "      <td>1494273047</td>\n",
       "    </tr>\n",
       "    <tr>\n",
       "      <th>100834</th>\n",
       "      <td>610</td>\n",
       "      <td>168252</td>\n",
       "      <td>5.0</td>\n",
       "      <td>1493846352</td>\n",
       "    </tr>\n",
       "    <tr>\n",
       "      <th>100835</th>\n",
       "      <td>610</td>\n",
       "      <td>170875</td>\n",
       "      <td>3.0</td>\n",
       "      <td>1493846415</td>\n",
       "    </tr>\n",
       "  </tbody>\n",
       "</table>\n",
       "<p>100836 rows × 4 columns</p>\n",
       "</div>"
      ],
      "text/plain": [
       "        userId  movieId  rating   timestamp\n",
       "0            1        1     4.0   964982703\n",
       "1            1        3     4.0   964981247\n",
       "2            1        6     4.0   964982224\n",
       "3            1       47     5.0   964983815\n",
       "4            1       50     5.0   964982931\n",
       "5            1       70     3.0   964982400\n",
       "6            1      101     5.0   964980868\n",
       "7            1      110     4.0   964982176\n",
       "8            1      151     5.0   964984041\n",
       "9            1      157     5.0   964984100\n",
       "10           1      163     5.0   964983650\n",
       "11           1      216     5.0   964981208\n",
       "12           1      223     3.0   964980985\n",
       "13           1      231     5.0   964981179\n",
       "14           1      235     4.0   964980908\n",
       "15           1      260     5.0   964981680\n",
       "16           1      296     3.0   964982967\n",
       "17           1      316     3.0   964982310\n",
       "18           1      333     5.0   964981179\n",
       "19           1      349     4.0   964982563\n",
       "20           1      356     4.0   964980962\n",
       "21           1      362     5.0   964982588\n",
       "22           1      367     4.0   964981710\n",
       "23           1      423     3.0   964982363\n",
       "24           1      441     4.0   964980868\n",
       "25           1      457     5.0   964981909\n",
       "26           1      480     4.0   964982346\n",
       "27           1      500     3.0   964981208\n",
       "28           1      527     5.0   964984002\n",
       "29           1      543     4.0   964981179\n",
       "...        ...      ...     ...         ...\n",
       "100806     610   150401     3.0  1479543210\n",
       "100807     610   152077     4.0  1493845817\n",
       "100808     610   152081     4.0  1493846503\n",
       "100809     610   152372     3.5  1493848841\n",
       "100810     610   155064     3.5  1493848456\n",
       "100811     610   156371     5.0  1479542831\n",
       "100812     610   156726     4.5  1493848444\n",
       "100813     610   157296     4.0  1493846563\n",
       "100814     610   158238     5.0  1479545219\n",
       "100815     610   158721     3.5  1479542491\n",
       "100816     610   158872     3.5  1493848024\n",
       "100817     610   158956     3.0  1493848947\n",
       "100818     610   159093     3.0  1493847704\n",
       "100819     610   160080     3.0  1493848031\n",
       "100820     610   160341     2.5  1479545749\n",
       "100821     610   160527     4.5  1479544998\n",
       "100822     610   160571     3.0  1493848537\n",
       "100823     610   160836     3.0  1493844794\n",
       "100824     610   161582     4.0  1493847759\n",
       "100825     610   161634     4.0  1493848362\n",
       "100826     610   162350     3.5  1493849971\n",
       "100827     610   163937     3.5  1493848789\n",
       "100828     610   163981     3.5  1493850155\n",
       "100829     610   164179     5.0  1493845631\n",
       "100830     610   166528     4.0  1493879365\n",
       "100831     610   166534     4.0  1493848402\n",
       "100832     610   168248     5.0  1493850091\n",
       "100833     610   168250     5.0  1494273047\n",
       "100834     610   168252     5.0  1493846352\n",
       "100835     610   170875     3.0  1493846415\n",
       "\n",
       "[100836 rows x 4 columns]"
      ]
     },
     "execution_count": 101,
     "metadata": {},
     "output_type": "execute_result"
    }
   ],
   "source": [
    "df_ratings"
   ]
  },
  {
   "cell_type": "code",
   "execution_count": 102,
   "metadata": {
    "ExecuteTime": {
     "end_time": "2020-02-07T18:00:11.676227Z",
     "start_time": "2020-02-07T18:00:11.664182Z"
    }
   },
   "outputs": [],
   "source": [
    "similar_films = algo.get_neighbors(algo.trainset.to_inner_iid(1), k=10)"
   ]
  },
  {
   "cell_type": "code",
   "execution_count": 103,
   "metadata": {
    "ExecuteTime": {
     "end_time": "2020-02-07T18:00:55.517729Z",
     "start_time": "2020-02-07T18:00:55.513213Z"
    }
   },
   "outputs": [
    {
     "data": {
      "text/plain": [
       "[316, 1504, 1530, 654, 349, 575, 2590, 92, 151, 1066]"
      ]
     },
     "execution_count": 103,
     "metadata": {},
     "output_type": "execute_result"
    }
   ],
   "source": [
    "similar_films"
   ]
  },
  {
   "cell_type": "code",
   "execution_count": 104,
   "metadata": {
    "ExecuteTime": {
     "end_time": "2020-02-07T18:01:41.559957Z",
     "start_time": "2020-02-07T18:01:41.556946Z"
    }
   },
   "outputs": [],
   "source": [
    "similar_films = [algo.trainset.to_raw_iid(i) for i in similar_films]"
   ]
  },
  {
   "cell_type": "code",
   "execution_count": 105,
   "metadata": {
    "ExecuteTime": {
     "end_time": "2020-02-07T18:01:42.188766Z",
     "start_time": "2020-02-07T18:01:42.184595Z"
    }
   },
   "outputs": [
    {
     "data": {
      "text/plain": [
       "[588, 3114, 8961, 34, 6377, 4886, 1148, 6539, 364, 4878]"
      ]
     },
     "execution_count": 105,
     "metadata": {},
     "output_type": "execute_result"
    }
   ],
   "source": [
    "similar_films"
   ]
  },
  {
   "cell_type": "code",
   "execution_count": 107,
   "metadata": {
    "ExecuteTime": {
     "end_time": "2020-02-07T18:04:34.256469Z",
     "start_time": "2020-02-07T18:04:34.237767Z"
    }
   },
   "outputs": [
    {
     "name": "stdout",
     "output_type": "stream",
     "text": [
      "506    Aladdin (1992)\n",
      "Name: title, dtype: object\n",
      "2355    Toy Story 2 (1999)\n",
      "Name: title, dtype: object\n",
      "5374    Incredibles, The (2004)\n",
      "Name: title, dtype: object\n",
      "32    Babe (1995)\n",
      "Name: title, dtype: object\n",
      "4360    Finding Nemo (2003)\n",
      "Name: title, dtype: object\n",
      "3568    Monsters, Inc. (2001)\n",
      "Name: title, dtype: object\n",
      "868    Wallace & Gromit: The Wrong Trousers (1993)\n",
      "Name: title, dtype: object\n",
      "4427    Pirates of the Caribbean: The Curse of the Bla...\n",
      "Name: title, dtype: object\n",
      "322    Lion King, The (1994)\n",
      "Name: title, dtype: object\n",
      "3562    Donnie Darko (2001)\n",
      "Name: title, dtype: object\n"
     ]
    }
   ],
   "source": [
    "for i in similar_films:\n",
    "    print(df_movies[df_movies['movieId']==i][\"title\"])"
   ]
  },
  {
   "cell_type": "code",
   "execution_count": 108,
   "metadata": {
    "ExecuteTime": {
     "end_time": "2020-02-07T18:05:30.258931Z",
     "start_time": "2020-02-07T18:05:30.255896Z"
    }
   },
   "outputs": [],
   "source": [
    "from surprise.model_selection import KFold"
   ]
  },
  {
   "cell_type": "code",
   "execution_count": 109,
   "metadata": {
    "ExecuteTime": {
     "end_time": "2020-02-07T18:05:38.925528Z",
     "start_time": "2020-02-07T18:05:38.922781Z"
    }
   },
   "outputs": [],
   "source": [
    "kfold = KFold(5)"
   ]
  },
  {
   "cell_type": "code",
   "execution_count": 110,
   "metadata": {
    "ExecuteTime": {
     "end_time": "2020-02-07T18:07:06.493287Z",
     "start_time": "2020-02-07T18:05:49.445999Z"
    }
   },
   "outputs": [
    {
     "data": {
      "application/vnd.jupyter.widget-view+json": {
       "model_id": "5aae393191524886aff5a35a31223a33",
       "version_major": 2,
       "version_minor": 0
      },
      "text/plain": [
       "HBox(children=(IntProgress(value=1, bar_style='info', max=1), HTML(value='')))"
      ]
     },
     "metadata": {},
     "output_type": "display_data"
    },
    {
     "name": "stdout",
     "output_type": "stream",
     "text": [
      "Estimating biases using als...\n",
      "Computing the pearson_baseline similarity matrix...\n",
      "Done computing similarity matrix.\n",
      "MAE:  0.6694\n",
      "Estimating biases using als...\n",
      "Computing the pearson_baseline similarity matrix...\n",
      "Done computing similarity matrix.\n",
      "MAE:  0.6753\n",
      "Estimating biases using als...\n",
      "Computing the pearson_baseline similarity matrix...\n",
      "Done computing similarity matrix.\n",
      "MAE:  0.6696\n",
      "Estimating biases using als...\n",
      "Computing the pearson_baseline similarity matrix...\n",
      "Done computing similarity matrix.\n",
      "MAE:  0.6616\n",
      "Estimating biases using als...\n",
      "Computing the pearson_baseline similarity matrix...\n",
      "Done computing similarity matrix.\n",
      "MAE:  0.6743\n",
      "\n"
     ]
    }
   ],
   "source": [
    "scores = []\n",
    "for trainset, testset in tqdm_notebook(kfold.split(dataset)):\n",
    "    algo = KNNWithMeans(k=40, sim_options={'name': 'pearson_baseline', 'user_based': False})\n",
    "    algo.fit(trainset)\n",
    "    predictions = algo.test(testset)\n",
    "    scores.append(accuracy.mae(predictions))"
   ]
  },
  {
   "cell_type": "code",
   "execution_count": 111,
   "metadata": {
    "ExecuteTime": {
     "end_time": "2020-02-07T18:07:06.499751Z",
     "start_time": "2020-02-07T18:07:06.495958Z"
    }
   },
   "outputs": [
    {
     "data": {
      "text/plain": [
       "[0.669381251502882,\n",
       " 0.6753353912507604,\n",
       " 0.6696209229591693,\n",
       " 0.6616055972198,\n",
       " 0.6742983289901014]"
      ]
     },
     "execution_count": 111,
     "metadata": {},
     "output_type": "execute_result"
    }
   ],
   "source": [
    "scores"
   ]
  },
  {
   "cell_type": "code",
   "execution_count": null,
   "metadata": {},
   "outputs": [],
   "source": []
  }
 ],
 "metadata": {
  "kernelspec": {
   "display_name": "Python 3",
   "language": "python",
   "name": "python3"
  },
  "language_info": {
   "codemirror_mode": {
    "name": "ipython",
    "version": 3
   },
   "file_extension": ".py",
   "mimetype": "text/x-python",
   "name": "python",
   "nbconvert_exporter": "python",
   "pygments_lexer": "ipython3",
   "version": "3.7.3"
  }
 },
 "nbformat": 4,
 "nbformat_minor": 2
}

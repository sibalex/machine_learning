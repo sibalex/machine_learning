{
 "cells": [
  {
   "cell_type": "markdown",
   "metadata": {},
   "source": [
    "## Подсчет манхэттенского расстояния в игре \"Пятнашки\""
   ]
  },
  {
   "cell_type": "code",
   "execution_count": 1,
   "metadata": {},
   "outputs": [],
   "source": [
    "correct_position = [\n",
    "    [1, 2, 3, 4],\n",
    "    [5, 6, 7, 8],\n",
    "    [9, 10, 11, 12],\n",
    "    [13, 14, 15, 0],\n",
    "]"
   ]
  },
  {
   "cell_type": "code",
   "execution_count": 2,
   "metadata": {},
   "outputs": [],
   "source": [
    "current_position = [\n",
    "    [1, 2, 3, 4],\n",
    "    [5, 6, 7, 8],\n",
    "    [9, 10, 11, 12],\n",
    "    [13, 0, 14, 15],\n",
    "]"
   ]
  },
  {
   "cell_type": "code",
   "execution_count": 3,
   "metadata": {},
   "outputs": [],
   "source": [
    "def make_positions_dict(position):\n",
    "    \"\"\"\n",
    "    Формирование словаря координат чисел.\n",
    "    \n",
    "    Пример\n",
    "    make_positions_dict(correct_position)\n",
    "    \n",
    "    {\n",
    "        1: [1, 1],\n",
    "        2: [1, 2],\n",
    "        ...\n",
    "        14: [4, 2],\n",
    "        15: [4, 3]\n",
    "    }\n",
    "    \"\"\"\n",
    "    \n",
    "    position_dict = {}\n",
    "\n",
    "    row_number = 1\n",
    "    for row_list in position:\n",
    "\n",
    "        column_number = 1\n",
    "        for column in row_list:\n",
    "            if column != 0:\n",
    "                position_dict[column] = [row_number, column_number]\n",
    "            \n",
    "            column_number += 1\n",
    "\n",
    "        row_number += 1\n",
    "    \n",
    "    return position_dict"
   ]
  },
  {
   "cell_type": "code",
   "execution_count": 4,
   "metadata": {},
   "outputs": [
    {
     "data": {
      "text/plain": [
       "{1: [1, 1],\n",
       " 2: [1, 2],\n",
       " 3: [1, 3],\n",
       " 4: [1, 4],\n",
       " 5: [2, 1],\n",
       " 6: [2, 2],\n",
       " 7: [2, 3],\n",
       " 8: [2, 4],\n",
       " 9: [3, 1],\n",
       " 10: [3, 2],\n",
       " 11: [3, 3],\n",
       " 12: [3, 4],\n",
       " 13: [4, 1],\n",
       " 14: [4, 2],\n",
       " 15: [4, 3]}"
      ]
     },
     "execution_count": 4,
     "metadata": {},
     "output_type": "execute_result"
    }
   ],
   "source": [
    "correct_dict = make_positions_dict(correct_position)\n",
    "correct_dict"
   ]
  },
  {
   "cell_type": "code",
   "execution_count": 5,
   "metadata": {},
   "outputs": [
    {
     "data": {
      "text/plain": [
       "{1: [1, 1],\n",
       " 2: [1, 2],\n",
       " 3: [1, 3],\n",
       " 4: [1, 4],\n",
       " 5: [2, 1],\n",
       " 6: [2, 2],\n",
       " 7: [2, 3],\n",
       " 8: [2, 4],\n",
       " 9: [3, 1],\n",
       " 10: [3, 2],\n",
       " 11: [3, 3],\n",
       " 12: [3, 4],\n",
       " 13: [4, 1],\n",
       " 14: [4, 3],\n",
       " 15: [4, 4]}"
      ]
     },
     "execution_count": 5,
     "metadata": {},
     "output_type": "execute_result"
    }
   ],
   "source": [
    "current_dict = make_positions_dict(current_position)\n",
    "current_dict"
   ]
  },
  {
   "cell_type": "markdown",
   "metadata": {},
   "source": [
    "### Упражнение\n",
    "Посчитайте манхэттенское расстояние для этих позиций"
   ]
  },
  {
   "cell_type": "code",
   "execution_count": 11,
   "metadata": {},
   "outputs": [],
   "source": [
    "def manhettan_distance(index):\n",
    "    \n",
    "    current_position = current_dict[index]\n",
    "    target_position = correct_dict[index]\n",
    "    \n",
    "    return abs((current_position[0] - target_position[0]) + (current_position[1] - target_position[1]))"
   ]
  },
  {
   "cell_type": "code",
   "execution_count": 12,
   "metadata": {},
   "outputs": [
    {
     "data": {
      "text/plain": [
       "1"
      ]
     },
     "execution_count": 12,
     "metadata": {},
     "output_type": "execute_result"
    }
   ],
   "source": [
    "manhettan_distance(15)"
   ]
  },
  {
   "cell_type": "code",
   "execution_count": 13,
   "metadata": {},
   "outputs": [
    {
     "name": "stdout",
     "output_type": "stream",
     "text": [
      "1 0\n",
      "2 0\n",
      "3 0\n",
      "4 0\n",
      "5 0\n",
      "6 0\n",
      "7 0\n",
      "8 0\n",
      "9 0\n",
      "10 0\n",
      "11 0\n",
      "12 0\n",
      "13 0\n",
      "14 1\n",
      "15 1\n"
     ]
    }
   ],
   "source": [
    "distance = 0\n",
    "\n",
    "for i in range(1, 16, 1):\n",
    "    d = manhettan_distance(i)\n",
    "    print(i, d)\n",
    "    \n",
    "    distance += d"
   ]
  },
  {
   "cell_type": "code",
   "execution_count": null,
   "metadata": {},
   "outputs": [],
   "source": []
  },
  {
   "cell_type": "code",
   "execution_count": null,
   "metadata": {},
   "outputs": [],
   "source": []
  },
  {
   "cell_type": "code",
   "execution_count": null,
   "metadata": {},
   "outputs": [],
   "source": []
  },
  {
   "cell_type": "code",
   "execution_count": null,
   "metadata": {},
   "outputs": [],
   "source": [
    "##"
   ]
  },
  {
   "cell_type": "code",
   "execution_count": 9,
   "metadata": {},
   "outputs": [
    {
     "name": "stdout",
     "output_type": "stream",
     "text": [
      "1 [1, 1] [1, 1] 0 0\n",
      "2 [1, 2] [1, 2] 0 0\n",
      "3 [1, 3] [1, 3] 0 0\n",
      "4 [1, 4] [1, 4] 0 0\n",
      "5 [2, 1] [2, 1] 0 0\n",
      "6 [2, 2] [2, 2] 0 0\n",
      "7 [2, 3] [2, 3] 0 0\n",
      "8 [2, 4] [2, 4] 0 0\n",
      "9 [3, 1] [3, 1] 0 0\n",
      "10 [3, 2] [3, 2] 0 0\n",
      "11 [3, 3] [3, 3] 0 0\n",
      "12 [3, 4] [3, 4] 0 0\n",
      "13 [4, 1] [4, 1] 0 0\n",
      "14 [4, 3] [4, 3] 0 0\n",
      "15 [4, 4] [4, 4] 0 0\n"
     ]
    }
   ],
   "source": [
    "dist = 0\n",
    "\n",
    "for key, coords in current_dict.items():\n",
    "    print(key, coords, current_dict[key], abs(coords[0] - current_dict[key][0]), abs(coords[1] - current_dict[key][1]))\n",
    "    \n",
    "    dist += abs((coords[0] - current_dict[key][0]) + abs(coords[1] - current_dict[key][1]))"
   ]
  },
  {
   "cell_type": "code",
   "execution_count": 10,
   "metadata": {},
   "outputs": [
    {
     "name": "stdout",
     "output_type": "stream",
     "text": [
      "(1, [1, 1])\n",
      "(2, [1, 2])\n",
      "(3, [1, 3])\n",
      "(4, [1, 4])\n",
      "(5, [2, 1])\n",
      "(6, [2, 2])\n",
      "(7, [2, 3])\n",
      "(8, [2, 4])\n",
      "(9, [3, 1])\n",
      "(10, [3, 2])\n",
      "(11, [3, 3])\n",
      "(12, [3, 4])\n",
      "(13, [4, 1])\n",
      "(14, [4, 2])\n",
      "(15, [4, 3])\n"
     ]
    }
   ],
   "source": [
    "for pair in correct_dict.items():\n",
    "    print(pair)"
   ]
  },
  {
   "cell_type": "code",
   "execution_count": null,
   "metadata": {},
   "outputs": [],
   "source": [
    "##"
   ]
  },
  {
   "cell_type": "code",
   "execution_count": null,
   "metadata": {},
   "outputs": [],
   "source": []
  },
  {
   "cell_type": "code",
   "execution_count": 14,
   "metadata": {},
   "outputs": [],
   "source": [
    "from sklearn.neighbors import KNeighborsClassifier"
   ]
  },
  {
   "cell_type": "code",
   "execution_count": null,
   "metadata": {},
   "outputs": [],
   "source": []
  },
  {
   "cell_type": "code",
   "execution_count": null,
   "metadata": {},
   "outputs": [],
   "source": []
  }
 ],
 "metadata": {
  "kernelspec": {
   "display_name": "Python 3",
   "language": "python",
   "name": "python3"
  },
  "language_info": {
   "codemirror_mode": {
    "name": "ipython",
    "version": 3
   },
   "file_extension": ".py",
   "mimetype": "text/x-python",
   "name": "python",
   "nbconvert_exporter": "python",
   "pygments_lexer": "ipython3",
   "version": "3.7.3"
  }
 },
 "nbformat": 4,
 "nbformat_minor": 2
}

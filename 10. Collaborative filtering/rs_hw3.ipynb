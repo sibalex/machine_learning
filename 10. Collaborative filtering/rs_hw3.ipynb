{
 "cells": [
  {
   "cell_type": "markdown",
   "metadata": {},
   "source": [
    "Пакет [Surprise](https://surprise.readthedocs.io/en/stable/)\n",
    "\n",
    "- используйте данные MovieLens 1M\n",
    "- можно использовать любые модели из пакета\n",
    "- получите RMSE на тестовом сете 0.87 и ниже\n",
    "\\\n",
    "\\\n",
    "Комментарий:\n",
    "- На датасет 1М можешь не хватить RAM. Можно сделать на 100K. \n",
    "- Качество RMSE предлагаю считать на основе CrossValidation (5 фолдов), а не отложенном датасете"
   ]
  },
  {
   "cell_type": "code",
   "execution_count": 1,
   "metadata": {},
   "outputs": [],
   "source": [
    "# !pip install surprise"
   ]
  },
  {
   "cell_type": "code",
   "execution_count": 24,
   "metadata": {},
   "outputs": [],
   "source": [
    "import numpy as np\n",
    "import pandas as pd\n",
    "from tqdm import tqdm_notebook\n",
    "\n",
    "from surprise import Dataset, Reader, KNNBasic, KNNWithMeans, SVD, SVDpp, accuracy\n",
    "from surprise.model_selection import KFold, train_test_split, cross_validate, GridSearchCV"
   ]
  },
  {
   "cell_type": "code",
   "execution_count": 83,
   "metadata": {},
   "outputs": [],
   "source": [
    "movies = pd.read_csv('/Users/aleksandr/Desktop/movies.csv')\n",
    "ratings = pd.read_csv('/Users/aleksandr/Desktop/ratings.csv')"
   ]
  },
  {
   "cell_type": "code",
   "execution_count": 84,
   "metadata": {},
   "outputs": [],
   "source": [
    "def preprocessing(movies, ratings):\n",
    "    \n",
    "    data = pd.merge(movies, ratings, on='movieId') # Объеденяем 2 набора данных по ключу 'movieId'\n",
    "    data.dropna(inplace=True) # Удаляем пропуски (пустые значения), если они есть\n",
    "    data = pd.DataFrame({'uid': data.userId, 'iid': data.movieId, 'rating': data.rating}) # Формируем новый набор данных\n",
    "    \n",
    "    return data"
   ]
  },
  {
   "cell_type": "code",
   "execution_count": 85,
   "metadata": {},
   "outputs": [
    {
     "data": {
      "text/html": [
       "<div>\n",
       "<style scoped>\n",
       "    .dataframe tbody tr th:only-of-type {\n",
       "        vertical-align: middle;\n",
       "    }\n",
       "\n",
       "    .dataframe tbody tr th {\n",
       "        vertical-align: top;\n",
       "    }\n",
       "\n",
       "    .dataframe thead th {\n",
       "        text-align: right;\n",
       "    }\n",
       "</style>\n",
       "<table border=\"1\" class=\"dataframe\">\n",
       "  <thead>\n",
       "    <tr style=\"text-align: right;\">\n",
       "      <th></th>\n",
       "      <th>uid</th>\n",
       "      <th>iid</th>\n",
       "      <th>rating</th>\n",
       "    </tr>\n",
       "  </thead>\n",
       "  <tbody>\n",
       "    <tr>\n",
       "      <th>0</th>\n",
       "      <td>1</td>\n",
       "      <td>1</td>\n",
       "      <td>4.0</td>\n",
       "    </tr>\n",
       "    <tr>\n",
       "      <th>1</th>\n",
       "      <td>5</td>\n",
       "      <td>1</td>\n",
       "      <td>4.0</td>\n",
       "    </tr>\n",
       "    <tr>\n",
       "      <th>2</th>\n",
       "      <td>7</td>\n",
       "      <td>1</td>\n",
       "      <td>4.5</td>\n",
       "    </tr>\n",
       "    <tr>\n",
       "      <th>3</th>\n",
       "      <td>15</td>\n",
       "      <td>1</td>\n",
       "      <td>2.5</td>\n",
       "    </tr>\n",
       "    <tr>\n",
       "      <th>4</th>\n",
       "      <td>17</td>\n",
       "      <td>1</td>\n",
       "      <td>4.5</td>\n",
       "    </tr>\n",
       "  </tbody>\n",
       "</table>\n",
       "</div>"
      ],
      "text/plain": [
       "   uid  iid  rating\n",
       "0    1    1     4.0\n",
       "1    5    1     4.0\n",
       "2    7    1     4.5\n",
       "3   15    1     2.5\n",
       "4   17    1     4.5"
      ]
     },
     "execution_count": 85,
     "metadata": {},
     "output_type": "execute_result"
    }
   ],
   "source": [
    "data = preprocessing(movies, ratings)\n",
    "data.head()"
   ]
  },
  {
   "cell_type": "code",
   "execution_count": 102,
   "metadata": {},
   "outputs": [],
   "source": [
    "def surprise_preprocessing(data, return_dataset=True):\n",
    "    \n",
    "    '''\n",
    "    reader            - Масштабируем от min и max, по выбранной колонке нашего набора данных;\n",
    "    data              - Делаем объект класса 'datasets' из нашего dataframe;\n",
    "    trainset, testset - Разбиваем на тренировочную (0.8) и тестовую (0.2) выборки, от data после preprocessing.\n",
    "    \n",
    "    # Не путать from surprise.model_selection import train_test_split с \\\n",
    "                from sklearn.model_selection import train_test_split это разные вещи!\n",
    "    \n",
    "    # В данной функции мы получам объект <surprise.trainset.Trainset> при return_dataset=False и \\\n",
    "                                     <surprise.dataset.DatasetAutoFolds> при return_dataset=True\n",
    "    \n",
    "    return_dataset    - Вернуть dataset если = True, \\\n",
    "                        Вернуть trainset, testset если = False\n",
    "    '''\n",
    "    \n",
    "    reader = Reader(rating_scale=(data.rating.min(), data.rating.max())) # ['min', 'max'] == [0.5, 5.0]\n",
    "    dataset = Dataset.load_from_df(data, reader)\n",
    "    trainset, testset = train_test_split(dataset, test_size=0.2)\n",
    "    \n",
    "    if return_dataset!=True:\n",
    "        return trainset, testset\n",
    "    else:\n",
    "        return dataset"
   ]
  },
  {
   "cell_type": "code",
   "execution_count": 104,
   "metadata": {},
   "outputs": [],
   "source": [
    "dataset = surprise_preprocessing(data, return_dataset=True)\n",
    "trainset, testset = surprise_preprocessing(data, return_dataset=False)"
   ]
  },
  {
   "cell_type": "markdown",
   "metadata": {},
   "source": [
    "### [KNNBasic](https://surprise.readthedocs.io/en/stable/knn_inspired.html#surprise.prediction_algorithms.knns.KNNBasic)"
   ]
  },
  {
   "cell_type": "code",
   "execution_count": 110,
   "metadata": {},
   "outputs": [
    {
     "data": {
      "application/vnd.jupyter.widget-view+json": {
       "model_id": "3de5d4464ae540dc9fb2b64f5a6787ba",
       "version_major": 2,
       "version_minor": 0
      },
      "text/plain": [
       "HBox(children=(IntProgress(value=1, bar_style='info', max=1), HTML(value='')))"
      ]
     },
     "metadata": {},
     "output_type": "display_data"
    },
    {
     "name": "stdout",
     "output_type": "stream",
     "text": [
      "Estimating biases using als...\n",
      "Computing the pearson_baseline similarity matrix...\n",
      "Done computing similarity matrix.\n",
      "RMSE: 0.9167\n",
      "\n",
      "Estimating biases using als...\n",
      "Computing the pearson_baseline similarity matrix...\n",
      "Done computing similarity matrix.\n",
      "RMSE: 0.9167\n",
      "\n",
      "Estimating biases using als...\n",
      "Computing the pearson_baseline similarity matrix...\n",
      "Done computing similarity matrix.\n",
      "RMSE: 0.9212\n",
      "\n",
      "Estimating biases using als...\n",
      "Computing the pearson_baseline similarity matrix...\n",
      "Done computing similarity matrix.\n",
      "RMSE: 0.9170\n",
      "\n",
      "Estimating biases using als...\n",
      "Computing the pearson_baseline similarity matrix...\n",
      "Done computing similarity matrix.\n",
      "RMSE: 0.9122\n",
      "\n",
      "Mean RMSE: 0.91676580857083\n"
     ]
    }
   ],
   "source": [
    "kfold = KFold(5)\n",
    "scores_KNNBasic = []\n",
    "\n",
    "for trainset, testset in tqdm_notebook(kfold.split(dataset)):\n",
    "    algo = KNNBasic(k=40, sim_options={'name': 'pearson_baseline', 'user_based': False})\n",
    "    algo.fit(trainset)\n",
    "    predictions = algo.test(testset)\n",
    "    scores_KNNBasic.append(accuracy.rmse(predictions))\n",
    "    print()\n",
    "    \n",
    "print('Mean RMSE: {}'.format(np.mean(scores_KNNBasic)))"
   ]
  },
  {
   "cell_type": "markdown",
   "metadata": {},
   "source": [
    "### [KNNWithMeans](https://surprise.readthedocs.io/en/stable/knn_inspired.html)"
   ]
  },
  {
   "cell_type": "code",
   "execution_count": 106,
   "metadata": {},
   "outputs": [
    {
     "data": {
      "application/vnd.jupyter.widget-view+json": {
       "model_id": "2d350f0473c2448d882be42040596d8c",
       "version_major": 2,
       "version_minor": 0
      },
      "text/plain": [
       "HBox(children=(IntProgress(value=1, bar_style='info', max=1), HTML(value='')))"
      ]
     },
     "metadata": {},
     "output_type": "display_data"
    },
    {
     "name": "stdout",
     "output_type": "stream",
     "text": [
      "Estimating biases using als...\n",
      "Computing the pearson_baseline similarity matrix...\n",
      "Done computing similarity matrix.\n",
      "RMSE: 0.8818\n",
      "\n",
      "Estimating biases using als...\n",
      "Computing the pearson_baseline similarity matrix...\n",
      "Done computing similarity matrix.\n",
      "RMSE: 0.8812\n",
      "\n",
      "Estimating biases using als...\n",
      "Computing the pearson_baseline similarity matrix...\n",
      "Done computing similarity matrix.\n",
      "RMSE: 0.8781\n",
      "\n",
      "Estimating biases using als...\n",
      "Computing the pearson_baseline similarity matrix...\n",
      "Done computing similarity matrix.\n",
      "RMSE: 0.8891\n",
      "\n",
      "Estimating biases using als...\n",
      "Computing the pearson_baseline similarity matrix...\n",
      "Done computing similarity matrix.\n",
      "RMSE: 0.8854\n",
      "\n",
      "Mean RMSE: 0.8831428721183293\n"
     ]
    }
   ],
   "source": [
    "kfold = KFold(5)\n",
    "scores = []\n",
    "\n",
    "for trainset, testset in tqdm_notebook(kfold.split(dataset)):\n",
    "    algo = KNNWithMeans(k=40, sim_options={'name': 'pearson_baseline', 'user_based': False})\n",
    "    algo.fit(trainset)\n",
    "    predictions = algo.test(testset)\n",
    "    scores.append(accuracy.rmse(predictions))\n",
    "    print()\n",
    "    \n",
    "print('Mean RMSE: {}'.format(np.mean(scores)))"
   ]
  },
  {
   "cell_type": "markdown",
   "metadata": {},
   "source": [
    "### [SVD](https://surprise.readthedocs.io/en/stable/prediction_algorithms_package.html) _and_ [Cross_validate](https://surprise.readthedocs.io/en/stable/model_selection.html)\n",
    "_(The famous SVD algorithm, as popularized by Simon Funk during the Netflix Prize.When baselines are not used, this is equivalent to Probabilistic Matrix Factorization [SM08] (see note below)..)_"
   ]
  },
  {
   "cell_type": "code",
   "execution_count": 107,
   "metadata": {},
   "outputs": [
    {
     "name": "stdout",
     "output_type": "stream",
     "text": [
      "Evaluating RMSE of algorithm SVD on 5 split(s).\n",
      "\n",
      "                  Fold 1  Fold 2  Fold 3  Fold 4  Fold 5  Mean    Std     \n",
      "RMSE (testset)    0.8663  0.8810  0.8783  0.8725  0.8698  0.8736  0.0054  \n",
      "Fit time          4.46    4.54    4.86    4.41    4.61    4.58    0.16    \n",
      "Test time         0.12    0.10    0.15    0.10    0.14    0.12    0.02    \n"
     ]
    }
   ],
   "source": [
    "N_FOLDS = 5\n",
    "algo = SVD()\n",
    "\n",
    "CV = cross_validate(algo, dataset, measures=['RMSE'], cv=N_FOLDS, verbose=True)"
   ]
  },
  {
   "cell_type": "markdown",
   "metadata": {},
   "source": [
    "### [SVD++](https://surprise.readthedocs.io/en/stable/prediction_algorithms_package.html) _and_ [Cross_validate](https://surprise.readthedocs.io/en/stable/model_selection.html)\n",
    "_(The SVD++ algorithm, an extension of SVD taking into account implicit ratings.)_"
   ]
  },
  {
   "cell_type": "code",
   "execution_count": 108,
   "metadata": {},
   "outputs": [
    {
     "name": "stdout",
     "output_type": "stream",
     "text": [
      "Evaluating RMSE of algorithm SVDpp on 5 split(s).\n",
      "\n",
      "                  Fold 1  Fold 2  Fold 3  Fold 4  Fold 5  Mean    Std     \n",
      "RMSE (testset)    0.8637  0.8671  0.8674  0.8592  0.8541  0.8623  0.0051  \n",
      "Fit time          516.64  520.05  510.64  528.83  522.43  519.72  6.04    \n",
      "Test time         8.77    8.41    9.14    8.64    8.66    8.72    0.24    \n"
     ]
    }
   ],
   "source": [
    "N_FOLDS = 5\n",
    "algo_1 = SVDpp()\n",
    "\n",
    "CV_1 = cross_validate(algo_1, dataset, measures=['RMSE'], cv=N_FOLDS, verbose=True)"
   ]
  },
  {
   "cell_type": "markdown",
   "metadata": {},
   "source": [
    "### [SVD++](https://surprise.readthedocs.io/en/stable/prediction_algorithms_package.html) _and_ [GridSearchCV](https://surprise.readthedocs.io/en/stable/model_selection.html#surprise.model_selection.search.GridSearchCV)"
   ]
  },
  {
   "cell_type": "code",
   "execution_count": 112,
   "metadata": {},
   "outputs": [],
   "source": [
    "model_params = {\n",
    "    'n_epochs': [20, 25], \n",
    "    'lr_all': [0.007, 0.009],\n",
    "    'reg_all': [0.2, 0.4]\n",
    "}\n",
    "\n",
    "svdpp_gscv = GridSearchCV(SVDpp, model_params, measures=['rmse'], cv=5, n_jobs=-1)\n",
    "svdpp_gscv.fit(dataset)"
   ]
  },
  {
   "cell_type": "code",
   "execution_count": 114,
   "metadata": {},
   "outputs": [
    {
     "name": "stdout",
     "output_type": "stream",
     "text": [
      "{'rmse': {'n_epochs': 25, 'lr_all': 0.009, 'reg_all': 0.2}}\n",
      "{'rmse': 0.8697521904610671}\n",
      "{'rmse': <surprise.prediction_algorithms.matrix_factorization.SVDpp object at 0x1234d2780>}\n"
     ]
    }
   ],
   "source": [
    "print(svdpp_gscv.best_params)\n",
    "print(svdpp_gscv.best_score)\n",
    "print(svdpp_gscv.best_estimator)"
   ]
  },
  {
   "cell_type": "markdown",
   "metadata": {},
   "source": [
    "### [SVD++](https://surprise.readthedocs.io/en/stable/prediction_algorithms_package.html) _and_ [best_params](https://surprise.readthedocs.io/en/stable/model_selection.html#surprise.model_selection.search.GridSearchCV.best_params)"
   ]
  },
  {
   "cell_type": "code",
   "execution_count": 115,
   "metadata": {},
   "outputs": [
    {
     "name": "stdout",
     "output_type": "stream",
     "text": [
      "RMSE: 0.8687\n"
     ]
    },
    {
     "data": {
      "text/plain": [
       "0.8687003148250274"
      ]
     },
     "execution_count": 115,
     "metadata": {},
     "output_type": "execute_result"
    }
   ],
   "source": [
    "algo_svdpp = SVDpp(\n",
    "    n_epochs = 25, \n",
    "    lr_all = 0.009,\n",
    "    reg_all = 0.2\n",
    ")\n",
    "\n",
    "algo_svdpp.fit(trainset)\n",
    "test_pred = algo_svdpp.test(testset)\n",
    "accuracy.rmse(test_pred, verbose=True)"
   ]
  },
  {
   "cell_type": "code",
   "execution_count": null,
   "metadata": {},
   "outputs": [],
   "source": [
    "pass"
   ]
  }
 ],
 "metadata": {
  "kernelspec": {
   "display_name": "Python 3",
   "language": "python",
   "name": "python3"
  },
  "language_info": {
   "codemirror_mode": {
    "name": "ipython",
    "version": 3
   },
   "file_extension": ".py",
   "mimetype": "text/x-python",
   "name": "python",
   "nbconvert_exporter": "python",
   "pygments_lexer": "ipython3",
   "version": "3.7.3"
  }
 },
 "nbformat": 4,
 "nbformat_minor": 2
}

{
 "cells": [
  {
   "cell_type": "code",
   "execution_count": 11,
   "metadata": {},
   "outputs": [],
   "source": [
    "import time"
   ]
  },
  {
   "cell_type": "code",
   "execution_count": 1,
   "metadata": {},
   "outputs": [],
   "source": [
    "from sklearn.datasets import load_boston\n",
    "from sklearn.model_selection import train_test_split\n",
    "from sklearn.model_selection import GridSearchCV\n",
    "from sklearn.preprocessing import StandardScaler\n",
    "from sklearn.pipeline import Pipeline\n",
    "from sklearn import metrics"
   ]
  },
  {
   "cell_type": "code",
   "execution_count": 2,
   "metadata": {},
   "outputs": [],
   "source": [
    "from sklearn.cross_decomposition import PLSRegression\n",
    "from sklearn.ensemble import RandomForestRegressor\n",
    "from sklearn.ensemble import GradientBoostingRegressor\n",
    "from sklearn.linear_model import LinearRegression\n",
    "from sklearn.linear_model import ARDRegression\n",
    "from sklearn.linear_model import HuberRegressor\n",
    "from sklearn.linear_model import PassiveAggressiveRegressor\n",
    "from sklearn.neighbors import KNeighborsRegressor\n",
    "from sklearn.svm import LinearSVR"
   ]
  },
  {
   "cell_type": "code",
   "execution_count": 9,
   "metadata": {},
   "outputs": [],
   "source": [
    "import warnings\n",
    "warnings.filterwarnings('ignore')"
   ]
  },
  {
   "cell_type": "code",
   "execution_count": 3,
   "metadata": {},
   "outputs": [],
   "source": [
    "X, y = load_boston(return_X_y=True)"
   ]
  },
  {
   "cell_type": "code",
   "execution_count": 4,
   "metadata": {},
   "outputs": [],
   "source": [
    "X_train, X_valid, y_train, y_valid = train_test_split(X, y, test_size=0.3)"
   ]
  },
  {
   "cell_type": "markdown",
   "metadata": {},
   "source": [
    "#### Создаю массив словарей с параметрами наших моделей. Параметры подбирал методом \"научного тыка\". Читал документацию, выбирал 2 интересных и добавлял разброс к значению по умолчанию."
   ]
  },
  {
   "cell_type": "code",
   "execution_count": 12,
   "metadata": {},
   "outputs": [],
   "source": [
    "models = [\n",
    "    {\n",
    "        'name': 'PLSRegression',\n",
    "        'regressor': PLSRegression(),\n",
    "        'params': {'fit__n_components': list(range(2, 10)), 'fit__scale': [True, False]},\n",
    "        'grid': None,\n",
    "    },\n",
    "    {\n",
    "        'name': 'RandomForestRegressor',\n",
    "        'regressor': RandomForestRegressor(),\n",
    "        'params': {'fit__n_estimators': list(range(8, 18)), 'fit__max_depth': list(range(5, 10))},\n",
    "        'grid': None,\n",
    "    },\n",
    "    {\n",
    "        'name': 'GradientBoostingRegressor',\n",
    "        'regressor': GradientBoostingRegressor(),\n",
    "        'params': {'fit__loss': ['ls', 'huber'], 'fit__learning_rate': [0.01, 0.1, 0.2, 0.3, 0.4, 0.5]},\n",
    "        'grid': None,\n",
    "    },\n",
    "    {\n",
    "        'name': 'LinearRegression',\n",
    "        'regressor': LinearRegression(),\n",
    "        'params': {'fit__fit_intercept': [True, False]},\n",
    "        'grid': None,\n",
    "    },\n",
    "    {\n",
    "        'name': 'ARDRegression',\n",
    "        'regressor': ARDRegression(),\n",
    "        'params': {'fit__alpha_1': [1e-6, 2e-6, 3e-6], 'fit__alpha_2': [1e-6, 2e-6, 3e-6]},\n",
    "        'grid': None,\n",
    "    },\n",
    "    {\n",
    "        'name': 'HuberRegressor',\n",
    "        'regressor': HuberRegressor(),\n",
    "        'params': {'fit__epsilon': [1.2, 1.3, 1.4, 1.5], 'fit__alpha': [0.0001, 0.0002, 0.0003, 0.0004]},\n",
    "        'grid': None,\n",
    "    },\n",
    "    {\n",
    "        'name': 'PassiveAggressiveRegressor',\n",
    "        'regressor': PassiveAggressiveRegressor(),\n",
    "        'params': {'fit__C': [1, 1.1, 1.2, 1.3, 2], 'fit__validation_fraction': [0.01, 0.1, 0.2, 0.3, 0.4]},\n",
    "        'grid': None,\n",
    "    },\n",
    "    {\n",
    "        'name': 'KNeighborsRegressor',\n",
    "        'regressor': KNeighborsRegressor(),\n",
    "        'params': {'fit__n_neighbors': list(range(3, 10)), 'fit__weights': ['uniform', 'distance']},\n",
    "        'grid': None,\n",
    "    },\n",
    "    {\n",
    "        'name': 'LinearSVR',\n",
    "        'regressor': LinearSVR(),\n",
    "        'params': {'fit__epsilon': [0.05, 0.1, 0.2, 0.5, 1.0], 'fit__C': [1, 1.1, 1.2, 1.3, 2]},\n",
    "        'grid': None,\n",
    "    },\n",
    "]"
   ]
  },
  {
   "cell_type": "markdown",
   "metadata": {},
   "source": [
    "#### По всем словарям проводим обучение, добавив шаг с нормализацией данных до обучения."
   ]
  },
  {
   "cell_type": "code",
   "execution_count": 14,
   "metadata": {},
   "outputs": [
    {
     "name": "stdout",
     "output_type": "stream",
     "text": [
      "PLSRegression - 2.602 seconds\n",
      "RandomForestRegressor - 43.919 seconds\n",
      "GradientBoostingRegressor - 53.191 seconds\n",
      "LinearRegression - 0.242 seconds\n",
      "ARDRegression - 50.306 seconds\n",
      "HuberRegressor - 5.678 seconds\n",
      "PassiveAggressiveRegressor - 2.44 seconds\n",
      "KNeighborsRegressor - 2.828 seconds\n",
      "LinearSVR - 3.49 seconds\n"
     ]
    }
   ],
   "source": [
    "for model in models:\n",
    "    start = int(round(time.time() * 1000))\n",
    "    \n",
    "    pipe = Pipeline([('scale', StandardScaler()), ('fit', model['regressor'])])\n",
    "    grid = GridSearchCV(pipe, model['params'], scoring='r2', cv=10)\n",
    "    grid.fit(X_train, y_train)\n",
    "    model['grid'] = grid\n",
    "    \n",
    "    print('{} - {} seconds'.format(model['name'], (int(round(time.time() * 1000)) - start) / 1000))"
   ]
  },
  {
   "cell_type": "markdown",
   "metadata": {},
   "source": [
    "#### Выводим оценку для всех обученных моделей."
   ]
  },
  {
   "cell_type": "code",
   "execution_count": 15,
   "metadata": {},
   "outputs": [
    {
     "name": "stdout",
     "output_type": "stream",
     "text": [
      "------------------------\n",
      "PLSRegression\n",
      "{'fit__n_components': 8, 'fit__scale': True}\n",
      "CV Accuracy: 0.685943392008014 Validation Accuracy: 0.7671408854324728\n",
      "------------------------\n",
      "RandomForestRegressor\n",
      "{'fit__max_depth': 7, 'fit__n_estimators': 16}\n",
      "CV Accuracy: 0.8458435384843955 Validation Accuracy: 0.8860880217187883\n",
      "------------------------\n",
      "GradientBoostingRegressor\n",
      "{'fit__learning_rate': 0.1, 'fit__loss': 'ls'}\n",
      "CV Accuracy: 0.8549642566056996 Validation Accuracy: 0.9194986195499074\n",
      "------------------------\n",
      "LinearRegression\n",
      "{'fit__fit_intercept': True}\n",
      "CV Accuracy: 0.684843696213451 Validation Accuracy: 0.7669868767472325\n",
      "------------------------\n",
      "ARDRegression\n",
      "{'fit__alpha_1': 3e-06, 'fit__alpha_2': 1e-06}\n",
      "CV Accuracy: 0.6834654747827424 Validation Accuracy: 0.7678593983154912\n",
      "------------------------\n",
      "HuberRegressor\n",
      "{'fit__alpha': 0.0004, 'fit__epsilon': 1.5}\n",
      "CV Accuracy: 0.6764684560861053 Validation Accuracy: 0.7333557319939314\n",
      "------------------------\n",
      "PassiveAggressiveRegressor\n",
      "{'fit__C': 2, 'fit__validation_fraction': 0.2}\n",
      "CV Accuracy: 0.5602633692328882 Validation Accuracy: 0.3649074521570176\n",
      "------------------------\n",
      "KNeighborsRegressor\n",
      "{'fit__n_neighbors': 3, 'fit__weights': 'distance'}\n",
      "CV Accuracy: 0.7756733774053349 Validation Accuracy: 0.8540672083836958\n",
      "------------------------\n",
      "LinearSVR\n",
      "{'fit__C': 2, 'fit__epsilon': 0.2}\n",
      "CV Accuracy: 0.6755368587504227 Validation Accuracy: 0.7200668631473723\n"
     ]
    }
   ],
   "source": [
    "for model in models:\n",
    "    print('------------------------')\n",
    "    print(model['name'])\n",
    "    print(model['grid'].best_params_)\n",
    "    print(\"CV Accuracy:\", model['grid'].best_score_, \"Validation Accuracy:\", model['grid'].best_estimator_.score(X_valid, y_valid))"
   ]
  },
  {
   "cell_type": "markdown",
   "metadata": {},
   "source": [
    "#### Интересное наблюдение, что почти все модели показали лучшие результаты на валидационной выборке. Линейные модели имеют примерно одинаковое качество ~ 70%. Но алгоритмы предназначенные для классификации показали более высокие результаты."
   ]
  },
  {
   "cell_type": "code",
   "execution_count": null,
   "metadata": {},
   "outputs": [],
   "source": []
  }
 ],
 "metadata": {
  "kernelspec": {
   "display_name": "Python 3",
   "language": "python",
   "name": "python3"
  },
  "language_info": {
   "codemirror_mode": {
    "name": "ipython",
    "version": 3
   },
   "file_extension": ".py",
   "mimetype": "text/x-python",
   "name": "python",
   "nbconvert_exporter": "python",
   "pygments_lexer": "ipython3",
   "version": "3.6.8"
  }
 },
 "nbformat": 4,
 "nbformat_minor": 2
}
